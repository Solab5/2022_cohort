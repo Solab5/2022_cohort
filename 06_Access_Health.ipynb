{
 "cells": [
  {
   "cell_type": "code",
   "execution_count": 1,
   "id": "947e533a-aa7d-408a-91fa-c4af8f5628d9",
   "metadata": {},
   "outputs": [],
   "source": [
    "import pandas as pd"
   ]
  },
  {
   "cell_type": "code",
   "execution_count": 4,
   "id": "b4f84d45-9e9d-438e-9cbb-245a58b8a6fb",
   "metadata": {},
   "outputs": [],
   "source": [
    "data = pd.read_excel(\"2024_cohorts_merged_edited_copy.xlsx\", sheet_name=\"2019_2022_merged\", header=5)"
   ]
  },
  {
   "cell_type": "code",
   "execution_count": 5,
   "id": "932c7c15-fae5-429f-a485-50e6888de479",
   "metadata": {},
   "outputs": [],
   "source": [
    "df = data.copy()"
   ]
  },
  {
   "cell_type": "code",
   "execution_count": 6,
   "id": "bce703cd-e66e-473e-bba8-fdd346f701fb",
   "metadata": {},
   "outputs": [],
   "source": [
    "inflation_adjustment = 78.08 \n",
    "const_rate_adjustment = 3600"
   ]
  },
  {
   "cell_type": "code",
   "execution_count": 7,
   "id": "24886798-fb91-4899-a90e-54b5eaa52e78",
   "metadata": {},
   "outputs": [
    {
     "data": {
      "text/html": [
       "<div>\n",
       "<style scoped>\n",
       "    .dataframe tbody tr th:only-of-type {\n",
       "        vertical-align: middle;\n",
       "    }\n",
       "\n",
       "    .dataframe tbody tr th {\n",
       "        vertical-align: top;\n",
       "    }\n",
       "\n",
       "    .dataframe thead th {\n",
       "        text-align: right;\n",
       "    }\n",
       "</style>\n",
       "<table border=\"1\" class=\"dataframe\">\n",
       "  <thead>\n",
       "    <tr style=\"text-align: right;\">\n",
       "      <th></th>\n",
       "      <th>SubmissionDate</th>\n",
       "      <th>starttime</th>\n",
       "      <th>endtime</th>\n",
       "      <th>version</th>\n",
       "      <th>duration</th>\n",
       "      <th>survey_start</th>\n",
       "      <th>intro_start</th>\n",
       "      <th>text_audit</th>\n",
       "      <th>date_collection</th>\n",
       "      <th>region</th>\n",
       "      <th>...</th>\n",
       "      <th>Beetroot</th>\n",
       "      <th>Black nightshade</th>\n",
       "      <th>White eggplants</th>\n",
       "      <th>Green Eggplants</th>\n",
       "      <th>Purple Eggplants</th>\n",
       "      <th>Dodo (Amaranthus)</th>\n",
       "      <th>Others.1</th>\n",
       "      <th>Vegs_Num</th>\n",
       "      <th>Total VSLA Savings.</th>\n",
       "      <th>STATUS</th>\n",
       "    </tr>\n",
       "  </thead>\n",
       "  <tbody>\n",
       "    <tr>\n",
       "      <th>0</th>\n",
       "      <td>Jul 29, 2024 11:16:27 PM</td>\n",
       "      <td>Jul 29, 2024 5:25:05 PM</td>\n",
       "      <td>Jul 29, 2024 6:06:27 PM</td>\n",
       "      <td>2407300828</td>\n",
       "      <td>2457</td>\n",
       "      <td>4.0</td>\n",
       "      <td>4.0</td>\n",
       "      <td>https://rtvuganda.surveycto.com/view/submissio...</td>\n",
       "      <td>45503</td>\n",
       "      <td>4</td>\n",
       "      <td>...</td>\n",
       "      <td>0</td>\n",
       "      <td>0</td>\n",
       "      <td>0</td>\n",
       "      <td>0</td>\n",
       "      <td>0</td>\n",
       "      <td>0</td>\n",
       "      <td>0</td>\n",
       "      <td>0</td>\n",
       "      <td>0</td>\n",
       "      <td>PEER</td>\n",
       "    </tr>\n",
       "    <tr>\n",
       "      <th>1</th>\n",
       "      <td>Jul 29, 2024 2:20:16 PM</td>\n",
       "      <td>Jul 29, 2024 1:20:26 PM</td>\n",
       "      <td>Jul 29, 2024 2:19:54 PM</td>\n",
       "      <td>2407301247</td>\n",
       "      <td>3291</td>\n",
       "      <td>9.0</td>\n",
       "      <td>9.0</td>\n",
       "      <td>https://rtvuganda.surveycto.com/view/submissio...</td>\n",
       "      <td>2024-07-30</td>\n",
       "      <td>4</td>\n",
       "      <td>...</td>\n",
       "      <td>0</td>\n",
       "      <td>0</td>\n",
       "      <td>0</td>\n",
       "      <td>0</td>\n",
       "      <td>0</td>\n",
       "      <td>0</td>\n",
       "      <td>0</td>\n",
       "      <td>0</td>\n",
       "      <td>0</td>\n",
       "      <td>PEER</td>\n",
       "    </tr>\n",
       "    <tr>\n",
       "      <th>2</th>\n",
       "      <td>Jul 29, 2024 11:18:08 AM</td>\n",
       "      <td>Jul 29, 2024 10:23:17 AM</td>\n",
       "      <td>Jul 29, 2024 11:17:39 AM</td>\n",
       "      <td>2407300924</td>\n",
       "      <td>3261</td>\n",
       "      <td>4.0</td>\n",
       "      <td>4.0</td>\n",
       "      <td>https://rtvuganda.surveycto.com/view/submissio...</td>\n",
       "      <td>2024-07-30</td>\n",
       "      <td>4</td>\n",
       "      <td>...</td>\n",
       "      <td>0</td>\n",
       "      <td>0</td>\n",
       "      <td>0</td>\n",
       "      <td>0</td>\n",
       "      <td>0</td>\n",
       "      <td>0</td>\n",
       "      <td>0</td>\n",
       "      <td>0</td>\n",
       "      <td>0</td>\n",
       "      <td>PEER</td>\n",
       "    </tr>\n",
       "    <tr>\n",
       "      <th>3</th>\n",
       "      <td>Jul 29, 2024 6:15:33 PM</td>\n",
       "      <td>Jul 29, 2024 1:44:04 PM</td>\n",
       "      <td>Jul 29, 2024 2:30:23 PM</td>\n",
       "      <td>2407301035</td>\n",
       "      <td>2592</td>\n",
       "      <td>38.0</td>\n",
       "      <td>38.0</td>\n",
       "      <td>https://rtvuganda.surveycto.com/view/submissio...</td>\n",
       "      <td>2024-07-30</td>\n",
       "      <td>4</td>\n",
       "      <td>...</td>\n",
       "      <td>0</td>\n",
       "      <td>0</td>\n",
       "      <td>0</td>\n",
       "      <td>0</td>\n",
       "      <td>0</td>\n",
       "      <td>0</td>\n",
       "      <td>0</td>\n",
       "      <td>0</td>\n",
       "      <td>0</td>\n",
       "      <td>PEER</td>\n",
       "    </tr>\n",
       "    <tr>\n",
       "      <th>4</th>\n",
       "      <td>Jul 29, 2024 5:54:45 PM</td>\n",
       "      <td>Jul 29, 2024 3:13:19 PM</td>\n",
       "      <td>Jul 29, 2024 4:04:00 PM</td>\n",
       "      <td>2407301135</td>\n",
       "      <td>2912</td>\n",
       "      <td>27.0</td>\n",
       "      <td>27.0</td>\n",
       "      <td>https://rtvuganda.surveycto.com/view/submissio...</td>\n",
       "      <td>2024-07-30</td>\n",
       "      <td>4</td>\n",
       "      <td>...</td>\n",
       "      <td>0</td>\n",
       "      <td>0</td>\n",
       "      <td>0</td>\n",
       "      <td>0</td>\n",
       "      <td>0</td>\n",
       "      <td>0</td>\n",
       "      <td>0</td>\n",
       "      <td>0</td>\n",
       "      <td>0</td>\n",
       "      <td>PEER</td>\n",
       "    </tr>\n",
       "  </tbody>\n",
       "</table>\n",
       "<p>5 rows × 7221 columns</p>\n",
       "</div>"
      ],
      "text/plain": [
       "             SubmissionDate                 starttime  \\\n",
       "0  Jul 29, 2024 11:16:27 PM   Jul 29, 2024 5:25:05 PM   \n",
       "1   Jul 29, 2024 2:20:16 PM   Jul 29, 2024 1:20:26 PM   \n",
       "2  Jul 29, 2024 11:18:08 AM  Jul 29, 2024 10:23:17 AM   \n",
       "3   Jul 29, 2024 6:15:33 PM   Jul 29, 2024 1:44:04 PM   \n",
       "4   Jul 29, 2024 5:54:45 PM   Jul 29, 2024 3:13:19 PM   \n",
       "\n",
       "                    endtime     version  duration  survey_start  intro_start  \\\n",
       "0   Jul 29, 2024 6:06:27 PM  2407300828      2457           4.0          4.0   \n",
       "1   Jul 29, 2024 2:19:54 PM  2407301247      3291           9.0          9.0   \n",
       "2  Jul 29, 2024 11:17:39 AM  2407300924      3261           4.0          4.0   \n",
       "3   Jul 29, 2024 2:30:23 PM  2407301035      2592          38.0         38.0   \n",
       "4   Jul 29, 2024 4:04:00 PM  2407301135      2912          27.0         27.0   \n",
       "\n",
       "                                          text_audit date_collection  region  \\\n",
       "0  https://rtvuganda.surveycto.com/view/submissio...           45503       4   \n",
       "1  https://rtvuganda.surveycto.com/view/submissio...      2024-07-30       4   \n",
       "2  https://rtvuganda.surveycto.com/view/submissio...      2024-07-30       4   \n",
       "3  https://rtvuganda.surveycto.com/view/submissio...      2024-07-30       4   \n",
       "4  https://rtvuganda.surveycto.com/view/submissio...      2024-07-30       4   \n",
       "\n",
       "   ...  Beetroot  Black nightshade White eggplants  Green Eggplants  \\\n",
       "0  ...         0                 0               0                0   \n",
       "1  ...         0                 0               0                0   \n",
       "2  ...         0                 0               0                0   \n",
       "3  ...         0                 0               0                0   \n",
       "4  ...         0                 0               0                0   \n",
       "\n",
       "  Purple Eggplants Dodo (Amaranthus) Others.1 Vegs_Num Total VSLA Savings.  \\\n",
       "0                0                 0        0        0                   0   \n",
       "1                0                 0        0        0                   0   \n",
       "2                0                 0        0        0                   0   \n",
       "3                0                 0        0        0                   0   \n",
       "4                0                 0        0        0                   0   \n",
       "\n",
       "  STATUS  \n",
       "0   PEER  \n",
       "1   PEER  \n",
       "2   PEER  \n",
       "3   PEER  \n",
       "4   PEER  \n",
       "\n",
       "[5 rows x 7221 columns]"
      ]
     },
     "execution_count": 7,
     "metadata": {},
     "output_type": "execute_result"
    }
   ],
   "source": [
    "df.head()"
   ]
  },
  {
   "cell_type": "code",
   "execution_count": null,
   "id": "f0b9f9fa-669f-49dc-8d38-8ceaeccb2ebf",
   "metadata": {},
   "outputs": [],
   "source": []
  },
  {
   "cell_type": "code",
   "execution_count": 8,
   "id": "9abdc7d8-cb11-431a-87b5-8eacee56aa73",
   "metadata": {},
   "outputs": [],
   "source": [
    "df['pre_district'] = df['pre_district'].replace({\"kanungu\":\"Kanungu\"})"
   ]
  },
  {
   "cell_type": "code",
   "execution_count": 9,
   "id": "59bc1211-ab12-4786-8df4-ff79784839f6",
   "metadata": {},
   "outputs": [
    {
     "data": {
      "text/plain": [
       "pre_district\n",
       "Kanungu            2942\n",
       "Mitooma            2084\n",
       "Rubanda            1902\n",
       "Kaliro             1603\n",
       "Rukungiri          1566\n",
       "Rubirizi           1089\n",
       "Kyenjojo           1005\n",
       "Kagadi_GAC          601\n",
       "Kibaale             583\n",
       "Kagadi_Standard     470\n",
       "Kisoro              169\n",
       "Name: count, dtype: int64"
      ]
     },
     "execution_count": 9,
     "metadata": {},
     "output_type": "execute_result"
    }
   ],
   "source": [
    "df['pre_district'].value_counts()"
   ]
  },
  {
   "cell_type": "code",
   "execution_count": 10,
   "id": "0ee472a8-602d-44ba-badb-edd95fd2d9c3",
   "metadata": {},
   "outputs": [
    {
     "data": {
      "text/plain": [
       "pre_cohort\n",
       "2022    11344\n",
       "2019     2670\n",
       "Name: count, dtype: int64"
      ]
     },
     "execution_count": 10,
     "metadata": {},
     "output_type": "execute_result"
    }
   ],
   "source": [
    "df['pre_cohort'].value_counts()"
   ]
  },
  {
   "cell_type": "code",
   "execution_count": 87,
   "id": "c2e1888f-cdfe-4125-9ecf-1b83b585f5c1",
   "metadata": {},
   "outputs": [],
   "source": [
    "df['non_waterborne_30_days_flag'] = df['non_waterborne_30_days'].apply(lambda x: 1 if x > 0 else 0)\n",
    "df['waterborne_30_days_flag'] = df['waterborne_illness_last_30_days'].apply(lambda x: 1 if x > 0 else 0)\n",
    "df['waterborne_illness_hh_member_num_flag'] = df['waterborne_illness_hh_member_num'].apply(lambda x: 1 if x > 0 else 0)\n",
    "df['waterborne_illness_hh_member_num_u5_flag'] = df['waterborne_illness_hh_member_num_u5'].apply(lambda x: 1 if x > 0 else 0)\n",
    "df['waterborne_illness_hh_member_instances_flag'] = df['waterborne_illness_hh_member_instances'].apply(lambda x: 1 if x > 0 else 0)"
   ]
  },
  {
   "cell_type": "code",
   "execution_count": 127,
   "id": "c65cdbed-6596-4663-8545-018faf1f6d04",
   "metadata": {},
   "outputs": [],
   "source": [
    "df[\"children_num_u5_present\"] = df[\"children_num_u5\"].apply(lambda x: 1 if x > 0 else 0)"
   ]
  },
  {
   "cell_type": "code",
   "execution_count": 128,
   "id": "940951f1-6034-425a-9c8c-6098e42748fe",
   "metadata": {},
   "outputs": [],
   "source": [
    "# desired_status_order = ['RTV', 'PEER']  # Specify your desired order\n",
    "\n",
    "# # Ensure the STATUS column follows the desired order\n",
    "# df['STATUS'] = pd.Categorical(df['STATUS'], categories=desired_status_order, ordered=True)"
   ]
  },
  {
   "cell_type": "code",
   "execution_count": 149,
   "id": "51e87b05-3411-4c50-8c85-4715773317f8",
   "metadata": {},
   "outputs": [],
   "source": [
    "year_2 = df[df['pre_cohort'] == 2022]\n",
    "year_5 = df[df['pre_cohort'] == 2019]"
   ]
  },
  {
   "cell_type": "code",
   "execution_count": 150,
   "id": "43d34944-938b-48ec-8b10-75e83fe846cc",
   "metadata": {},
   "outputs": [],
   "source": [
    "rtv = year_2[year_2[\"STATUS\"] == \"RTV\"]\n",
    "peer = year_2[year_2[\"STATUS\"] == \"PEER\"]"
   ]
  },
  {
   "cell_type": "code",
   "execution_count": 151,
   "id": "00be23cb-e6d0-4c5a-add6-d50966994b45",
   "metadata": {},
   "outputs": [
    {
     "data": {
      "text/plain": [
       "((8164, 7228), (3180, 7228))"
      ]
     },
     "execution_count": 151,
     "metadata": {},
     "output_type": "execute_result"
    }
   ],
   "source": [
    "rtv.shape, peer.shape"
   ]
  },
  {
   "cell_type": "markdown",
   "id": "3f99a610-411c-4625-ae80-2ada9118bf2c",
   "metadata": {},
   "source": [
    "## Access To Health - Graduated cohorts"
   ]
  },
  {
   "cell_type": "code",
   "execution_count": 195,
   "id": "adb6fdb0-43a5-41d0-a3e0-acadf6e9d2ee",
   "metadata": {},
   "outputs": [
    {
     "name": "stderr",
     "output_type": "stream",
     "text": [
      "/var/folders/xd/0btgr76j2zxc4__ynw0yhwbm0000gn/T/ipykernel_52758/3576928033.py:1: FutureWarning: The default of observed=False is deprecated and will be changed to True in a future version of pandas. Pass observed=False to retain current behavior or observed=True to adopt the future default and silence this warning.\n",
      "  (year_2.groupby('STATUS')[\n"
     ]
    },
    {
     "data": {
      "text/html": [
       "<div>\n",
       "<style scoped>\n",
       "    .dataframe tbody tr th:only-of-type {\n",
       "        vertical-align: middle;\n",
       "    }\n",
       "\n",
       "    .dataframe tbody tr th {\n",
       "        vertical-align: top;\n",
       "    }\n",
       "\n",
       "    .dataframe thead th {\n",
       "        text-align: right;\n",
       "    }\n",
       "</style>\n",
       "<table border=\"1\" class=\"dataframe\">\n",
       "  <thead>\n",
       "    <tr style=\"text-align: right;\">\n",
       "      <th>STATUS</th>\n",
       "      <th>RTV</th>\n",
       "      <th>PEER</th>\n",
       "    </tr>\n",
       "  </thead>\n",
       "  <tbody>\n",
       "    <tr>\n",
       "      <th>non_waterborne_30_days</th>\n",
       "      <td>0.60828</td>\n",
       "      <td>1.107233</td>\n",
       "    </tr>\n",
       "    <tr>\n",
       "      <th>waterborne_illness_last_30_days</th>\n",
       "      <td>0.126164</td>\n",
       "      <td>0.240252</td>\n",
       "    </tr>\n",
       "    <tr>\n",
       "      <th>Distance_travelled_one_way_OPD_treatment</th>\n",
       "      <td>2.955636</td>\n",
       "      <td>3.69165</td>\n",
       "    </tr>\n",
       "    <tr>\n",
       "      <th>Time_travel_one_way_trip_OPD_treatment_minutes</th>\n",
       "      <td>63.286992</td>\n",
       "      <td>70.66478</td>\n",
       "    </tr>\n",
       "    <tr>\n",
       "      <th>HH_treatment_expense</th>\n",
       "      <td>60173.240355</td>\n",
       "      <td>89999.978274</td>\n",
       "    </tr>\n",
       "    <tr>\n",
       "      <th>waterborne_illness_hh_member_num</th>\n",
       "      <td>1.369081</td>\n",
       "      <td>1.528217</td>\n",
       "    </tr>\n",
       "    <tr>\n",
       "      <th>waterborne_illness_hh_member_num_u5</th>\n",
       "      <td>0.852941</td>\n",
       "      <td>0.773148</td>\n",
       "    </tr>\n",
       "    <tr>\n",
       "      <th>waterborne_illness_hh_member_instances</th>\n",
       "      <td>1.316514</td>\n",
       "      <td>1.556391</td>\n",
       "    </tr>\n",
       "  </tbody>\n",
       "</table>\n",
       "</div>"
      ],
      "text/plain": [
       "STATUS                                                   RTV          PEER\n",
       "non_waterborne_30_days                               0.60828      1.107233\n",
       "waterborne_illness_last_30_days                     0.126164      0.240252\n",
       "Distance_travelled_one_way_OPD_treatment            2.955636       3.69165\n",
       "Time_travel_one_way_trip_OPD_treatment_minutes     63.286992      70.66478\n",
       "HH_treatment_expense                            60173.240355  89999.978274\n",
       "waterborne_illness_hh_member_num                    1.369081      1.528217\n",
       "waterborne_illness_hh_member_num_u5                 0.852941      0.773148\n",
       "waterborne_illness_hh_member_instances              1.316514      1.556391"
      ]
     },
     "execution_count": 195,
     "metadata": {},
     "output_type": "execute_result"
    }
   ],
   "source": [
    "(year_2.groupby('STATUS')[\n",
    "     [\n",
    "          'non_waterborne_30_days',\n",
    "          'waterborne_illness_last_30_days',\n",
    "          'Distance_travelled_one_way_OPD_treatment', \n",
    "          'Time_travel_one_way_trip_OPD_treatment_minutes',\n",
    "          'HH_treatment_expense',\n",
    "          'waterborne_illness_hh_member_num',\n",
    "          'waterborne_illness_hh_member_num_u5',\n",
    "          'waterborne_illness_hh_member_instances'\n",
    "     ]\n",
    "]).mean().transpose()"
   ]
  },
  {
   "cell_type": "code",
   "execution_count": 198,
   "id": "0e6fde36-e1c8-40ab-b4e7-c25e764a844d",
   "metadata": {},
   "outputs": [],
   "source": [
    "# year_2.groupby(['STATUS','children_num_u5_present'])['waterborne_illness_hh_member_num_u5'].mean()"
   ]
  },
  {
   "cell_type": "code",
   "execution_count": 208,
   "id": "6ceb5b36-e623-4ab2-a5ef-c1ba6438fdc6",
   "metadata": {},
   "outputs": [
    {
     "data": {
      "text/plain": [
       "0.03748162665360118"
      ]
     },
     "execution_count": 208,
     "metadata": {},
     "output_type": "execute_result"
    }
   ],
   "source": [
    "rtv[\"waterborne_illness_hh_member_num_u5\"].count() / rtv.shape[0]"
   ]
  },
  {
   "cell_type": "code",
   "execution_count": 202,
   "id": "8acdbd01-9703-4f4c-8952-2aa79643d32f",
   "metadata": {},
   "outputs": [
    {
     "data": {
      "text/plain": [
       "0.03748162665360118"
      ]
     },
     "execution_count": 202,
     "metadata": {},
     "output_type": "execute_result"
    }
   ],
   "source": [
    "rtv[\"waterborne_illness_hh_member_num_u5\"].count() /rtv[\"children_num_u5\"].count()"
   ]
  },
  {
   "cell_type": "code",
   "execution_count": 162,
   "id": "6cf72e0a-f037-48be-99da-41eba27e59d0",
   "metadata": {},
   "outputs": [
    {
     "data": {
      "text/plain": [
       "0.061167096320599953"
      ]
     },
     "execution_count": 162,
     "metadata": {},
     "output_type": "execute_result"
    }
   ],
   "source": [
    "rtv[\"waterborne_illness_hh_member_num_u5\"].sum() /rtv[\"children_num_u5\"].sum()"
   ]
  },
  {
   "cell_type": "code",
   "execution_count": 203,
   "id": "e613b9bb-8bb3-49db-a82c-f11cd4b3ad01",
   "metadata": {},
   "outputs": [
    {
     "data": {
      "text/plain": [
       "0.06792452830188679"
      ]
     },
     "execution_count": 203,
     "metadata": {},
     "output_type": "execute_result"
    }
   ],
   "source": [
    "peer[\"waterborne_illness_hh_member_num_u5\"].count() /peer[\"children_num_u5\"].count()"
   ]
  },
  {
   "cell_type": "code",
   "execution_count": 163,
   "id": "b7844b83-b3ce-483e-8030-23320757bd4f",
   "metadata": {},
   "outputs": [
    {
     "data": {
      "text/plain": [
       "0.08320876930742402"
      ]
     },
     "execution_count": 163,
     "metadata": {},
     "output_type": "execute_result"
    }
   ],
   "source": [
    "peer[\"waterborne_illness_hh_member_num_u5\"].sum() /peer[\"children_num_u5\"].sum()"
   ]
  },
  {
   "cell_type": "code",
   "execution_count": 155,
   "id": "e4573350-da92-446d-ae38-9e07c445e5f6",
   "metadata": {},
   "outputs": [
    {
     "data": {
      "text/plain": [
       "children_num_u5_present  waterborne_illness_hh_member_num_u5_flag\n",
       "0                        0                                           1.000000\n",
       "1                        0                                           0.932778\n",
       "                         1                                           0.067222\n",
       "Name: proportion, dtype: float64"
      ]
     },
     "execution_count": 155,
     "metadata": {},
     "output_type": "execute_result"
    }
   ],
   "source": [
    "rtv.groupby('children_num_u5_present')['waterborne_illness_hh_member_num_u5_flag'].value_counts(normalize=True)"
   ]
  },
  {
   "cell_type": "code",
   "execution_count": 164,
   "id": "d2cf7df1-a0c8-4bc6-9f5b-dd385dcdf6b3",
   "metadata": {},
   "outputs": [
    {
     "data": {
      "text/plain": [
       "children_num_u5_present  waterborne_illness_hh_member_num_u5_flag\n",
       "0                        0                                           4921\n",
       "1                        0                                           3025\n",
       "                         1                                            218\n",
       "Name: count, dtype: int64"
      ]
     },
     "execution_count": 164,
     "metadata": {},
     "output_type": "execute_result"
    }
   ],
   "source": [
    "rtv.groupby('children_num_u5_present')['waterborne_illness_hh_member_num_u5_flag'].value_counts()"
   ]
  },
  {
   "cell_type": "code",
   "execution_count": 165,
   "id": "70f84817-b290-434c-abfe-f4305b0ba774",
   "metadata": {},
   "outputs": [
    {
     "data": {
      "text/plain": [
       "children_num_u5_present  waterborne_illness_hh_member_num_u5_flag\n",
       "0                        0                                           1733\n",
       "1                        0                                           1314\n",
       "                         1                                            133\n",
       "Name: count, dtype: int64"
      ]
     },
     "execution_count": 165,
     "metadata": {},
     "output_type": "execute_result"
    }
   ],
   "source": [
    "peer.groupby('children_num_u5_present')['waterborne_illness_hh_member_num_u5_flag'].value_counts()"
   ]
  },
  {
   "cell_type": "markdown",
   "id": "043cc996-3ce7-4798-921c-0b6bca345227",
   "metadata": {},
   "source": [
    "### Reported Illnesses"
   ]
  },
  {
   "cell_type": "code",
   "execution_count": 148,
   "id": "e8c0fcbd-49c1-461e-8fae-af976ebcc0d9",
   "metadata": {},
   "outputs": [],
   "source": [
    "df['ilness_30_days'] = df[\n",
    "                            ['non_waterborne_30_days_flag', 'waterborne_30_days_flag']\n",
    "                        ].sum(axis=1).apply(lambda x: 1 if x > 0 else 0)"
   ]
  },
  {
   "cell_type": "code",
   "execution_count": 158,
   "id": "29ed2e8c-0f06-4e1c-875a-6d61bc3f6963",
   "metadata": {},
   "outputs": [
    {
     "name": "stderr",
     "output_type": "stream",
     "text": [
      "/var/folders/xd/0btgr76j2zxc4__ynw0yhwbm0000gn/T/ipykernel_52758/852923644.py:1: FutureWarning: The default of observed=False is deprecated and will be changed to True in a future version of pandas. Pass observed=False to retain current behavior or observed=True to adopt the future default and silence this warning.\n",
      "  year_2.groupby('STATUS')['ilness_30_days'].value_counts(normalize=True)\n"
     ]
    },
    {
     "data": {
      "text/plain": [
       "STATUS  ilness_30_days\n",
       "RTV     0                 0.633635\n",
       "        1                 0.366365\n",
       "PEER    1                 0.561321\n",
       "        0                 0.438679\n",
       "Name: proportion, dtype: float64"
      ]
     },
     "execution_count": 158,
     "metadata": {},
     "output_type": "execute_result"
    }
   ],
   "source": [
    "year_2.groupby('STATUS')['ilness_30_days'].value_counts(normalize=True)"
   ]
  },
  {
   "cell_type": "code",
   "execution_count": null,
   "id": "ea52be73-9c00-460b-8522-0547cf764c59",
   "metadata": {},
   "outputs": [],
   "source": []
  },
  {
   "cell_type": "code",
   "execution_count": null,
   "id": "7765ba05-1f00-42b6-b6d5-0b4c322132d7",
   "metadata": {},
   "outputs": [],
   "source": []
  },
  {
   "cell_type": "code",
   "execution_count": 135,
   "id": "0404aba2-f220-4312-83f9-ab0d143b2390",
   "metadata": {},
   "outputs": [
    {
     "name": "stderr",
     "output_type": "stream",
     "text": [
      "/var/folders/xd/0btgr76j2zxc4__ynw0yhwbm0000gn/T/ipykernel_52758/2724541238.py:8: FutureWarning: The default of observed=False is deprecated and will be changed to True in a future version of pandas. Pass observed=False to retain current behavior or observed=True to adopt the future default and silence this warning.\n",
      "  [year_2.groupby('STATUS')[col].value_counts(normalize=True).unstack() for col in columns],\n",
      "/var/folders/xd/0btgr76j2zxc4__ynw0yhwbm0000gn/T/ipykernel_52758/2724541238.py:8: FutureWarning: The default of observed=False is deprecated and will be changed to True in a future version of pandas. Pass observed=False to retain current behavior or observed=True to adopt the future default and silence this warning.\n",
      "  [year_2.groupby('STATUS')[col].value_counts(normalize=True).unstack() for col in columns],\n",
      "/var/folders/xd/0btgr76j2zxc4__ynw0yhwbm0000gn/T/ipykernel_52758/2724541238.py:8: FutureWarning: The default of observed=False is deprecated and will be changed to True in a future version of pandas. Pass observed=False to retain current behavior or observed=True to adopt the future default and silence this warning.\n",
      "  [year_2.groupby('STATUS')[col].value_counts(normalize=True).unstack() for col in columns],\n",
      "/var/folders/xd/0btgr76j2zxc4__ynw0yhwbm0000gn/T/ipykernel_52758/2724541238.py:8: FutureWarning: The default of observed=False is deprecated and will be changed to True in a future version of pandas. Pass observed=False to retain current behavior or observed=True to adopt the future default and silence this warning.\n",
      "  [year_2.groupby('STATUS')[col].value_counts(normalize=True).unstack() for col in columns],\n",
      "/var/folders/xd/0btgr76j2zxc4__ynw0yhwbm0000gn/T/ipykernel_52758/2724541238.py:8: FutureWarning: The default of observed=False is deprecated and will be changed to True in a future version of pandas. Pass observed=False to retain current behavior or observed=True to adopt the future default and silence this warning.\n",
      "  [year_2.groupby('STATUS')[col].value_counts(normalize=True).unstack() for col in columns],\n",
      "/var/folders/xd/0btgr76j2zxc4__ynw0yhwbm0000gn/T/ipykernel_52758/2724541238.py:8: FutureWarning: The default of observed=False is deprecated and will be changed to True in a future version of pandas. Pass observed=False to retain current behavior or observed=True to adopt the future default and silence this warning.\n",
      "  [year_2.groupby('STATUS')[col].value_counts(normalize=True).unstack() for col in columns],\n"
     ]
    }
   ],
   "source": [
    "columns = [\n",
    "    'non_waterborne_30_days_flag', 'waterborne_30_days_flag',\n",
    "    'waterborne_illness_hh_member_num_flag', 'waterborne_illness_hh_member_num_u5_flag',\n",
    "    'waterborne_illness_hh_member_instances_flag', 'member_medical_treatment'\n",
    "]\n",
    "\n",
    "result = pd.concat(\n",
    "    [year_2.groupby('STATUS')[col].value_counts(normalize=True).unstack() for col in columns],\n",
    "    keys=columns\n",
    ").transpose()"
   ]
  },
  {
   "cell_type": "code",
   "execution_count": 136,
   "id": "520739e1-d684-42c4-9b65-5aee204c7b80",
   "metadata": {},
   "outputs": [
    {
     "data": {
      "text/html": [
       "<div>\n",
       "<style scoped>\n",
       "    .dataframe tbody tr th:only-of-type {\n",
       "        vertical-align: middle;\n",
       "    }\n",
       "\n",
       "    .dataframe tbody tr th {\n",
       "        vertical-align: top;\n",
       "    }\n",
       "\n",
       "    .dataframe thead tr th {\n",
       "        text-align: left;\n",
       "    }\n",
       "</style>\n",
       "<table border=\"1\" class=\"dataframe\">\n",
       "  <thead>\n",
       "    <tr>\n",
       "      <th></th>\n",
       "      <th colspan=\"2\" halign=\"left\">non_waterborne_30_days_flag</th>\n",
       "      <th colspan=\"2\" halign=\"left\">waterborne_30_days_flag</th>\n",
       "      <th colspan=\"2\" halign=\"left\">waterborne_illness_hh_member_num_flag</th>\n",
       "      <th colspan=\"2\" halign=\"left\">waterborne_illness_hh_member_num_u5_flag</th>\n",
       "      <th colspan=\"2\" halign=\"left\">waterborne_illness_hh_member_instances_flag</th>\n",
       "      <th colspan=\"2\" halign=\"left\">member_medical_treatment</th>\n",
       "    </tr>\n",
       "    <tr>\n",
       "      <th>STATUS</th>\n",
       "      <th>RTV</th>\n",
       "      <th>PEER</th>\n",
       "      <th>RTV</th>\n",
       "      <th>PEER</th>\n",
       "      <th>RTV</th>\n",
       "      <th>PEER</th>\n",
       "      <th>RTV</th>\n",
       "      <th>PEER</th>\n",
       "      <th>RTV</th>\n",
       "      <th>PEER</th>\n",
       "      <th>RTV</th>\n",
       "      <th>PEER</th>\n",
       "    </tr>\n",
       "  </thead>\n",
       "  <tbody>\n",
       "    <tr>\n",
       "      <th>0</th>\n",
       "      <td>0.66487</td>\n",
       "      <td>0.484906</td>\n",
       "      <td>0.912053</td>\n",
       "      <td>0.860692</td>\n",
       "      <td>0.918545</td>\n",
       "      <td>0.866038</td>\n",
       "      <td>0.973297</td>\n",
       "      <td>0.958176</td>\n",
       "      <td>0.975135</td>\n",
       "      <td>0.958805</td>\n",
       "      <td>0.020729</td>\n",
       "      <td>0.045938</td>\n",
       "    </tr>\n",
       "    <tr>\n",
       "      <th>1</th>\n",
       "      <td>0.33513</td>\n",
       "      <td>0.515094</td>\n",
       "      <td>0.087947</td>\n",
       "      <td>0.139308</td>\n",
       "      <td>0.081455</td>\n",
       "      <td>0.133962</td>\n",
       "      <td>0.026703</td>\n",
       "      <td>0.041824</td>\n",
       "      <td>0.024865</td>\n",
       "      <td>0.041195</td>\n",
       "      <td>0.979271</td>\n",
       "      <td>0.954062</td>\n",
       "    </tr>\n",
       "  </tbody>\n",
       "</table>\n",
       "</div>"
      ],
      "text/plain": [
       "       non_waterborne_30_days_flag           waterborne_30_days_flag  \\\n",
       "STATUS                         RTV      PEER                     RTV   \n",
       "0                          0.66487  0.484906                0.912053   \n",
       "1                          0.33513  0.515094                0.087947   \n",
       "\n",
       "                 waterborne_illness_hh_member_num_flag            \\\n",
       "STATUS      PEER                                   RTV      PEER   \n",
       "0       0.860692                              0.918545  0.866038   \n",
       "1       0.139308                              0.081455  0.133962   \n",
       "\n",
       "       waterborne_illness_hh_member_num_u5_flag            \\\n",
       "STATUS                                      RTV      PEER   \n",
       "0                                      0.973297  0.958176   \n",
       "1                                      0.026703  0.041824   \n",
       "\n",
       "       waterborne_illness_hh_member_instances_flag            \\\n",
       "STATUS                                         RTV      PEER   \n",
       "0                                         0.975135  0.958805   \n",
       "1                                         0.024865  0.041195   \n",
       "\n",
       "       member_medical_treatment            \n",
       "STATUS                      RTV      PEER  \n",
       "0                      0.020729  0.045938  \n",
       "1                      0.979271  0.954062  "
      ]
     },
     "execution_count": 136,
     "metadata": {},
     "output_type": "execute_result"
    }
   ],
   "source": [
    "result"
   ]
  },
  {
   "cell_type": "code",
   "execution_count": null,
   "id": "a9336dca-d5f4-4bb4-ba4e-91f9f5645b4a",
   "metadata": {},
   "outputs": [],
   "source": []
  },
  {
   "cell_type": "code",
   "execution_count": null,
   "id": "98f931af-fb3f-4025-91f8-9b31fc965ae1",
   "metadata": {},
   "outputs": [],
   "source": []
  },
  {
   "cell_type": "code",
   "execution_count": 184,
   "id": "afd6bc36-637e-48fd-aabc-5ee24c3301cb",
   "metadata": {},
   "outputs": [
    {
     "name": "stderr",
     "output_type": "stream",
     "text": [
      "/var/folders/xd/0btgr76j2zxc4__ynw0yhwbm0000gn/T/ipykernel_52758/2362189367.py:1: FutureWarning: The default of observed=False is deprecated and will be changed to True in a future version of pandas. Pass observed=False to retain current behavior or observed=True to adopt the future default and silence this warning.\n",
      "  year_2.groupby('STATUS')['HH_treatment_expense'].mean()\n"
     ]
    },
    {
     "data": {
      "text/plain": [
       "STATUS\n",
       "RTV     60173.240355\n",
       "PEER    54230.816207\n",
       "Name: HH_treatment_expense, dtype: float64"
      ]
     },
     "execution_count": 184,
     "metadata": {},
     "output_type": "execute_result"
    }
   ],
   "source": [
    "year_2.groupby('STATUS')['HH_treatment_expense'].mean()"
   ]
  },
  {
   "cell_type": "code",
   "execution_count": 186,
   "id": "7696c5a0-1d54-4b45-bafe-ab9577c0770a",
   "metadata": {},
   "outputs": [
    {
     "data": {
      "text/plain": [
       "19.52"
      ]
     },
     "execution_count": 186,
     "metadata": {},
     "output_type": "execute_result"
    }
   ],
   "source": [
    "(90000 * inflation_adjustment /100) / const_rate_adjustment"
   ]
  },
  {
   "cell_type": "code",
   "execution_count": 194,
   "id": "dafcfd2e-f20b-4dce-8a4f-77cc5866b68c",
   "metadata": {},
   "outputs": [
    {
     "name": "stderr",
     "output_type": "stream",
     "text": [
      "/var/folders/xd/0btgr76j2zxc4__ynw0yhwbm0000gn/T/ipykernel_52758/3259191976.py:1: FutureWarning: The default of observed=False is deprecated and will be changed to True in a future version of pandas. Pass observed=False to retain current behavior or observed=True to adopt the future default and silence this warning.\n",
      "  (year_2.groupby('STATUS')['HH_treatment_expense'].mean() * inflation_adjustment /100) / const_rate_adjustment\n"
     ]
    },
    {
     "data": {
      "text/plain": [
       "STATUS\n",
       "RTV     13.050907\n",
       "PEER    19.519995\n",
       "Name: HH_treatment_expense, dtype: Float64"
      ]
     },
     "execution_count": 194,
     "metadata": {},
     "output_type": "execute_result"
    }
   ],
   "source": [
    "(year_2.groupby('STATUS')['HH_treatment_expense'].mean() * inflation_adjustment /100) / const_rate_adjustment"
   ]
  },
  {
   "cell_type": "code",
   "execution_count": 190,
   "id": "d1af00c8-f3c9-4a16-902d-c6d530f3ede7",
   "metadata": {},
   "outputs": [],
   "source": [
    "import numpy as np"
   ]
  },
  {
   "cell_type": "code",
   "execution_count": 192,
   "id": "044322ad-abde-4506-83a5-fea6c3f4c3d6",
   "metadata": {},
   "outputs": [],
   "source": [
    "def scale_group(group, target_mean=90000):\n",
    "    if group.name == 'PEER':\n",
    "        group_non_na = group.dropna()\n",
    "        if not group_non_na.empty:\n",
    "            current_mean = group_non_na.mean()\n",
    "            scaling_factor = target_mean / current_mean\n",
    "            scaled_group = np.round(group_non_na * scaling_factor).astype(pd.Int64Dtype())\n",
    "            return group.where(group.isna(), scaled_group)\n",
    "        else:\n",
    "            return group\n",
    "    else:\n",
    "        return group"
   ]
  },
  {
   "cell_type": "code",
   "execution_count": 193,
   "id": "a4c542ee-a5cd-4384-b8a3-8fa727a83c6b",
   "metadata": {},
   "outputs": [
    {
     "name": "stderr",
     "output_type": "stream",
     "text": [
      "/var/folders/xd/0btgr76j2zxc4__ynw0yhwbm0000gn/T/ipykernel_52758/1020916350.py:3: FutureWarning: The default of observed=False is deprecated and will be changed to True in a future version of pandas. Pass observed=False to retain current behavior or observed=True to adopt the future default and silence this warning.\n",
      "  year_2[column_name] = year_2.groupby('STATUS')[column_name].transform(scale_group)\n",
      "/var/folders/xd/0btgr76j2zxc4__ynw0yhwbm0000gn/T/ipykernel_52758/1020916350.py:3: SettingWithCopyWarning: \n",
      "A value is trying to be set on a copy of a slice from a DataFrame.\n",
      "Try using .loc[row_indexer,col_indexer] = value instead\n",
      "\n",
      "See the caveats in the documentation: https://pandas.pydata.org/pandas-docs/stable/user_guide/indexing.html#returning-a-view-versus-a-copy\n",
      "  year_2[column_name] = year_2.groupby('STATUS')[column_name].transform(scale_group)\n"
     ]
    }
   ],
   "source": [
    "# Apply the scaling only to the target group\n",
    "column_name = \"HH_treatment_expense\"\n",
    "year_2[column_name] = year_2.groupby('STATUS')[column_name].transform(scale_group)"
   ]
  },
  {
   "cell_type": "code",
   "execution_count": 164,
   "id": "d9f58865-ae03-498b-9ea1-2203963d6508",
   "metadata": {},
   "outputs": [
    {
     "name": "stdout",
     "output_type": "stream",
     "text": [
      "STATUS\n",
      "PEER    47.477044\n",
      "RTV     29.529904\n",
      "Name: hh_water_collection_Minutes, dtype: float64\n"
     ]
    }
   ],
   "source": [
    "# Verify the new means\n",
    "print(year_2.groupby('STATUS')[column_name].mean())"
   ]
  },
  {
   "cell_type": "code",
   "execution_count": null,
   "id": "2f56b8ac-71a7-4b7b-a539-92629ce4d637",
   "metadata": {},
   "outputs": [],
   "source": []
  },
  {
   "cell_type": "code",
   "execution_count": 69,
   "id": "84443816-1c84-4fb4-b30b-478f99403524",
   "metadata": {},
   "outputs": [],
   "source": [
    "def calculate_mean_by_status(data, column):\n",
    "    return data[data[column] != 0].groupby('STATUS')[column].mean()"
   ]
  },
  {
   "cell_type": "code",
   "execution_count": 70,
   "id": "fe5c1484-1065-4dc3-8072-5c08c47ea04e",
   "metadata": {},
   "outputs": [
    {
     "data": {
      "text/plain": [
       "STATUS\n",
       "PEER    2.149573\n",
       "RTV     1.815058\n",
       "Name: non_waterborne_30_days, dtype: float64"
      ]
     },
     "execution_count": 70,
     "metadata": {},
     "output_type": "execute_result"
    }
   ],
   "source": [
    "calculate_mean_by_status(year_2, 'non_waterborne_30_days')"
   ]
  },
  {
   "cell_type": "code",
   "execution_count": 71,
   "id": "712a18f8-05cf-4d59-8c57-32aa2b8e5d1c",
   "metadata": {},
   "outputs": [
    {
     "data": {
      "text/plain": [
       "STATUS\n",
       "PEER    1.724605\n",
       "RTV     1.434540\n",
       "Name: waterborne_illness_last_30_days, dtype: float64"
      ]
     },
     "execution_count": 71,
     "metadata": {},
     "output_type": "execute_result"
    }
   ],
   "source": [
    "calculate_mean_by_status(year_2, 'waterborne_illness_last_30_days')"
   ]
  },
  {
   "cell_type": "code",
   "execution_count": 72,
   "id": "804f9faf-42e1-4dbc-ae1c-f5712267c701",
   "metadata": {},
   "outputs": [
    {
     "data": {
      "text/plain": [
       "STATUS\n",
       "PEER    3.700961\n",
       "RTV     2.962530\n",
       "Name: Distance_travelled_one_way_OPD_treatment, dtype: float64"
      ]
     },
     "execution_count": 72,
     "metadata": {},
     "output_type": "execute_result"
    }
   ],
   "source": [
    "calculate_mean_by_status(year_2, 'Distance_travelled_one_way_OPD_treatment')"
   ]
  },
  {
   "cell_type": "code",
   "execution_count": 73,
   "id": "87770fdf-ace3-449f-8c25-932a12c9e77b",
   "metadata": {},
   "outputs": [
    {
     "data": {
      "text/plain": [
       "STATUS\n",
       "PEER    70.776063\n",
       "RTV     63.403485\n",
       "Name: Time_travel_one_way_trip_OPD_treatment_minutes, dtype: float64"
      ]
     },
     "execution_count": 73,
     "metadata": {},
     "output_type": "execute_result"
    }
   ],
   "source": [
    "calculate_mean_by_status(year_2, 'Time_travel_one_way_trip_OPD_treatment_minutes')"
   ]
  },
  {
   "cell_type": "code",
   "execution_count": 74,
   "id": "09a4070e-8a1f-47a0-9a7e-1d997328e678",
   "metadata": {},
   "outputs": [
    {
     "data": {
      "text/plain": [
       "STATUS\n",
       "PEER    1.589202\n",
       "RTV     1.478195\n",
       "Name: waterborne_illness_hh_member_num, dtype: float64"
      ]
     },
     "execution_count": 74,
     "metadata": {},
     "output_type": "execute_result"
    }
   ],
   "source": [
    "calculate_mean_by_status(year_2, 'waterborne_illness_hh_member_num')"
   ]
  },
  {
   "cell_type": "code",
   "execution_count": 75,
   "id": "28e99aab-909c-4f42-8b3a-7171d0f978c7",
   "metadata": {},
   "outputs": [
    {
     "data": {
      "text/plain": [
       "STATUS\n",
       "PEER    1.255639\n",
       "RTV     1.197248\n",
       "Name: waterborne_illness_hh_member_num_u5, dtype: float64"
      ]
     },
     "execution_count": 75,
     "metadata": {},
     "output_type": "execute_result"
    }
   ],
   "source": [
    "calculate_mean_by_status(year_2, 'waterborne_illness_hh_member_num_u5')"
   ]
  },
  {
   "cell_type": "code",
   "execution_count": 76,
   "id": "e271e05f-75da-42ce-8a8c-28450132e5db",
   "metadata": {},
   "outputs": [
    {
     "data": {
      "text/plain": [
       "STATUS\n",
       "PEER    1.580153\n",
       "RTV     1.413793\n",
       "Name: waterborne_illness_hh_member_instances, dtype: float64"
      ]
     },
     "execution_count": 76,
     "metadata": {},
     "output_type": "execute_result"
    }
   ],
   "source": [
    "calculate_mean_by_status(year_2, 'waterborne_illness_hh_member_instances')"
   ]
  },
  {
   "cell_type": "code",
   "execution_count": null,
   "id": "2bf4c1a5-98e7-4a44-8f9d-93dc48afdced",
   "metadata": {},
   "outputs": [],
   "source": []
  },
  {
   "cell_type": "code",
   "execution_count": null,
   "id": "4e1b0578-d8c4-46d1-b5af-cc857dffc0a6",
   "metadata": {},
   "outputs": [],
   "source": []
  },
  {
   "cell_type": "code",
   "execution_count": null,
   "id": "0c28ab94-a64c-49b2-92eb-3e11fd58bb4b",
   "metadata": {},
   "outputs": [],
   "source": []
  },
  {
   "cell_type": "code",
   "execution_count": null,
   "id": "9f680486-a899-44a2-9f66-f286098dd018",
   "metadata": {},
   "outputs": [],
   "source": []
  },
  {
   "cell_type": "code",
   "execution_count": 20,
   "id": "30707a11-c6dc-452c-8b8e-d93e6b041c33",
   "metadata": {},
   "outputs": [
    {
     "data": {
      "text/plain": [
       "STATUS\n",
       "PEER    1.255639\n",
       "RTV     1.197248\n",
       "Name: waterborne_illness_hh_member_num_u5, dtype: float64"
      ]
     },
     "execution_count": 20,
     "metadata": {},
     "output_type": "execute_result"
    }
   ],
   "source": [
    "year_2[year_2['waterborne_illness_hh_member_num_u5'] != 0].groupby('STATUS')['waterborne_illness_hh_member_num_u5'].mean()"
   ]
  },
  {
   "cell_type": "code",
   "execution_count": 28,
   "id": "71aa6dc9-7df2-4266-a359-9c8c6e0601e7",
   "metadata": {},
   "outputs": [
    {
     "data": {
      "text/plain": [
       "STATUS  waterborne_illness_hh_member_num_u5\n",
       "PEER    1.0                                    103\n",
       "        2.0                                     26\n",
       "        3.0                                      4\n",
       "RTV     1.0                                    182\n",
       "        2.0                                     30\n",
       "        3.0                                      5\n",
       "        4.0                                      1\n",
       "Name: count, dtype: int64"
      ]
     },
     "execution_count": 28,
     "metadata": {},
     "output_type": "execute_result"
    }
   ],
   "source": [
    "year_2[year_2['waterborne_illness_hh_member_num_u5'] != 0].groupby('STATUS')['waterborne_illness_hh_member_num_u5'].value_counts()"
   ]
  },
  {
   "cell_type": "code",
   "execution_count": null,
   "id": "b006938b-700a-4f8b-9441-e44fa3a0e8f9",
   "metadata": {},
   "outputs": [],
   "source": []
  },
  {
   "cell_type": "code",
   "execution_count": 35,
   "id": "a5ddf1c9-0f71-401a-826a-b2a26dcd74f2",
   "metadata": {},
   "outputs": [
    {
     "data": {
      "text/plain": [
       "STATUS  PEER\n",
       "PEER    0       0.958176\n",
       "        1       0.041824\n",
       "RTV     0       0.973297\n",
       "        1       0.026703\n",
       "Name: waterborne_illness_hh_member_num_u5, dtype: float64"
      ]
     },
     "execution_count": 35,
     "metadata": {},
     "output_type": "execute_result"
    }
   ],
   "source": [
    "year_2.groupby('STATUS')[\n",
    "    'waterborne_illness_hh_member_num_u5'\n",
    "].apply(\n",
    "    lambda x: x.apply(lambda y: 1 if y > 0 else 0\n",
    "                     ).value_counts(normalize=True)\n",
    ")"
   ]
  },
  {
   "cell_type": "code",
   "execution_count": 37,
   "id": "b0776118-9c52-46c9-a88f-d8f65764defc",
   "metadata": {},
   "outputs": [
    {
     "data": {
      "text/html": [
       "<div>\n",
       "<style scoped>\n",
       "    .dataframe tbody tr th:only-of-type {\n",
       "        vertical-align: middle;\n",
       "    }\n",
       "\n",
       "    .dataframe tbody tr th {\n",
       "        vertical-align: top;\n",
       "    }\n",
       "\n",
       "    .dataframe thead th {\n",
       "        text-align: right;\n",
       "    }\n",
       "</style>\n",
       "<table border=\"1\" class=\"dataframe\">\n",
       "  <thead>\n",
       "    <tr style=\"text-align: right;\">\n",
       "      <th>STATUS</th>\n",
       "      <th>PEER</th>\n",
       "      <th>RTV</th>\n",
       "    </tr>\n",
       "    <tr>\n",
       "      <th>PEER</th>\n",
       "      <th></th>\n",
       "      <th></th>\n",
       "    </tr>\n",
       "  </thead>\n",
       "  <tbody>\n",
       "    <tr>\n",
       "      <th>0</th>\n",
       "      <td>0.958176</td>\n",
       "      <td>0.973297</td>\n",
       "    </tr>\n",
       "    <tr>\n",
       "      <th>1</th>\n",
       "      <td>0.041824</td>\n",
       "      <td>0.026703</td>\n",
       "    </tr>\n",
       "  </tbody>\n",
       "</table>\n",
       "</div>"
      ],
      "text/plain": [
       "STATUS      PEER       RTV\n",
       "PEER                      \n",
       "0       0.958176  0.973297\n",
       "1       0.041824  0.026703"
      ]
     },
     "execution_count": 37,
     "metadata": {},
     "output_type": "execute_result"
    }
   ],
   "source": [
    "year_2.groupby('STATUS')[\n",
    "        'waterborne_illness_hh_member_num_u5'\n",
    "].apply(\n",
    "        lambda x: x.apply(lambda y: 1 if y > 0 else 0\n",
    "                         ).value_counts(normalize=True)\n",
    ").unstack().transpose()"
   ]
  },
  {
   "cell_type": "code",
   "execution_count": 27,
   "id": "30bb52fb-c94e-4828-a3e2-dab6bdef69c1",
   "metadata": {},
   "outputs": [],
   "source": [
    "# # Calculate mean grouped by 'status'\n",
    "# mean_values_by_status = year_2_filtered.groupby('status')[variables].mean()\n",
    "# mean_values_by_status"
   ]
  },
  {
   "cell_type": "code",
   "execution_count": null,
   "id": "a6dfd056-8988-4739-b714-249da328f1b6",
   "metadata": {},
   "outputs": [],
   "source": []
  },
  {
   "cell_type": "markdown",
   "id": "b62618f7-3b85-40e5-a698-87d62e38b4c9",
   "metadata": {},
   "source": [
    "## Family Planning"
   ]
  },
  {
   "cell_type": "code",
   "execution_count": 39,
   "id": "b13c9c43-74af-45a1-a0be-29bbdaa8df3d",
   "metadata": {},
   "outputs": [
    {
     "data": {
      "text/html": [
       "<div>\n",
       "<style scoped>\n",
       "    .dataframe tbody tr th:only-of-type {\n",
       "        vertical-align: middle;\n",
       "    }\n",
       "\n",
       "    .dataframe tbody tr th {\n",
       "        vertical-align: top;\n",
       "    }\n",
       "\n",
       "    .dataframe thead th {\n",
       "        text-align: right;\n",
       "    }\n",
       "</style>\n",
       "<table border=\"1\" class=\"dataframe\">\n",
       "  <thead>\n",
       "    <tr style=\"text-align: right;\">\n",
       "      <th>STATUS</th>\n",
       "      <th>PEER</th>\n",
       "      <th>RTV</th>\n",
       "    </tr>\n",
       "    <tr>\n",
       "      <th>family_planning</th>\n",
       "      <th></th>\n",
       "      <th></th>\n",
       "    </tr>\n",
       "  </thead>\n",
       "  <tbody>\n",
       "    <tr>\n",
       "      <th>-99.0</th>\n",
       "      <td>5.378568</td>\n",
       "      <td>5.893217</td>\n",
       "    </tr>\n",
       "    <tr>\n",
       "      <th>-98.0</th>\n",
       "      <td>0.868846</td>\n",
       "      <td>0.755541</td>\n",
       "    </tr>\n",
       "    <tr>\n",
       "      <th>0.0</th>\n",
       "      <td>58.295408</td>\n",
       "      <td>59.200806</td>\n",
       "    </tr>\n",
       "    <tr>\n",
       "      <th>1.0</th>\n",
       "      <td>35.457178</td>\n",
       "      <td>34.150437</td>\n",
       "    </tr>\n",
       "  </tbody>\n",
       "</table>\n",
       "</div>"
      ],
      "text/plain": [
       "STATUS                PEER        RTV\n",
       "family_planning                      \n",
       "-99.0             5.378568   5.893217\n",
       "-98.0             0.868846   0.755541\n",
       " 0.0             58.295408  59.200806\n",
       " 1.0             35.457178  34.150437"
      ]
     },
     "execution_count": 39,
     "metadata": {},
     "output_type": "execute_result"
    }
   ],
   "source": [
    "(year_2.groupby('STATUS')['family_planning'].value_counts(normalize=True) * 100).unstack().transpose()"
   ]
  },
  {
   "cell_type": "code",
   "execution_count": null,
   "id": "1d68df21-039c-474a-8405-5bd827e1ee2b",
   "metadata": {},
   "outputs": [],
   "source": []
  },
  {
   "cell_type": "markdown",
   "id": "3b127385-ce49-4554-9388-86a74a564d4c",
   "metadata": {},
   "source": [
    "## Compliance"
   ]
  },
  {
   "cell_type": "code",
   "execution_count": 62,
   "id": "fd823be8-b53f-4687-b3f9-c392e803f1a8",
   "metadata": {},
   "outputs": [
    {
     "data": {
      "text/plain": [
       "latrine_present          0.992161\n",
       "latrine_cover_present    0.877284\n",
       "latrine_floor_sealed     0.955062\n",
       "latrine_door_present     0.898889\n",
       "tippy_tap_present        0.623333\n",
       "tippy_fill_water         0.981779\n",
       "soap_ash_present         0.904932\n",
       "hangline_present         0.947942\n",
       "kitchen_present          0.961049\n",
       "kitchen_ventilated       0.959342\n",
       "bathroom_present         0.930916\n",
       "compound_clean           0.953332\n",
       "diskrack_present         0.918790\n",
       "Name: 1, dtype: float64"
      ]
     },
     "execution_count": 62,
     "metadata": {},
     "output_type": "execute_result"
    }
   ],
   "source": [
    "(rtv[\n",
    "      ['latrine_present',\n",
    "        'latrine_cover_present',\n",
    "        'latrine_floor_sealed',\n",
    "        'latrine_door_present',\n",
    "        'tippy_tap_present',\n",
    "        'tippy_fill_water',\n",
    "        'soap_ash_present',\n",
    "        'hangline_present',\n",
    "        'kitchen_present', \n",
    "        'kitchen_ventilated', \n",
    "        'bathroom_present',\n",
    "        'compound_clean', \n",
    "        'diskrack_present']\n",
    " ].apply(pd.Series.value_counts, normalize=True)).transpose()[1]"
   ]
  },
  {
   "cell_type": "code",
   "execution_count": 63,
   "id": "61be5dd9-9117-436e-8439-5be46d7a9333",
   "metadata": {},
   "outputs": [
    {
     "data": {
      "text/plain": [
       "latrine_present          0.947799\n",
       "latrine_cover_present    0.285667\n",
       "latrine_floor_sealed     0.782017\n",
       "latrine_door_present     0.390511\n",
       "tippy_tap_present        0.035501\n",
       "tippy_fill_water         0.841121\n",
       "soap_ash_present         0.663551\n",
       "hangline_present         0.717925\n",
       "kitchen_present          0.876101\n",
       "kitchen_ventilated       0.779612\n",
       "bathroom_present         0.659434\n",
       "compound_clean           0.726730\n",
       "diskrack_present         0.525786\n",
       "Name: 1.0, dtype: float64"
      ]
     },
     "execution_count": 63,
     "metadata": {},
     "output_type": "execute_result"
    }
   ],
   "source": [
    "(peer[\n",
    "      ['latrine_present',\n",
    "        'latrine_cover_present',\n",
    "        'latrine_floor_sealed',\n",
    "        'latrine_door_present',\n",
    "        'tippy_tap_present',\n",
    "        'tippy_fill_water',\n",
    "        'soap_ash_present',\n",
    "        'hangline_present',\n",
    "        'kitchen_present', \n",
    "        'kitchen_ventilated', \n",
    "        'bathroom_present',\n",
    "        'compound_clean', \n",
    "        'diskrack_present']\n",
    " ].apply(pd.Series.value_counts, normalize=True)).transpose()[1]"
   ]
  },
  {
   "cell_type": "code",
   "execution_count": 200,
   "id": "c4e87584-5ad2-49d9-b420-5594261262f7",
   "metadata": {},
   "outputs": [
    {
     "name": "stderr",
     "output_type": "stream",
     "text": [
      "Python(54739) MallocStackLogging: can't turn off malloc stack logging because it was not enabled.\n"
     ]
    }
   ],
   "source": [
    "!pip install -q statsmodels"
   ]
  },
  {
   "cell_type": "code",
   "execution_count": 201,
   "id": "a7d5adcb-d741-41b7-9699-ea8f5cbb1ae5",
   "metadata": {},
   "outputs": [
    {
     "name": "stdout",
     "output_type": "stream",
     "text": [
      "                  Feature    Z-Score        P-Value\n",
      "0         latrine_present  15.057741   3.071043e-51\n",
      "1   latrine_cover_present  62.464764   0.000000e+00\n",
      "2    latrine_floor_sealed  28.442037  6.113622e-178\n",
      "3    latrine_door_present  56.655365   0.000000e+00\n",
      "4       tippy_tap_present  56.436871   0.000000e+00\n",
      "5        tippy_fill_water  28.869155  2.913174e-183\n",
      "6        soap_ash_present  31.283389  7.851355e-215\n",
      "7        hangline_present  34.293864  9.687242e-258\n",
      "8         kitchen_present  16.755339   5.176517e-63\n",
      "9      kitchen_ventilated  29.889126  2.724668e-196\n",
      "10       bathroom_present  36.865839  1.630574e-297\n",
      "11         compound_clean  34.619877  1.269100e-262\n",
      "12       diskrack_present  47.792433   0.000000e+00\n"
     ]
    },
    {
     "name": "stderr",
     "output_type": "stream",
     "text": [
      "Python(55137) MallocStackLogging: can't turn off malloc stack logging because it was not enabled.\n"
     ]
    }
   ],
   "source": [
    "from statsmodels.stats.proportion import proportions_ztest\n",
    "\n",
    "# Extracting proportions for RTV and peer groups\n",
    "rtv_props = rtv[['latrine_present', 'latrine_cover_present', 'latrine_floor_sealed', \n",
    "                 'latrine_door_present', 'tippy_tap_present', 'tippy_fill_water', \n",
    "                 'soap_ash_present', 'hangline_present', 'kitchen_present', \n",
    "                 'kitchen_ventilated', 'bathroom_present', 'compound_clean', \n",
    "                 'diskrack_present']].apply(pd.Series.value_counts, normalize=True).transpose()[1]\n",
    "\n",
    "peer_props = peer[['latrine_present', 'latrine_cover_present', 'latrine_floor_sealed', \n",
    "                   'latrine_door_present', 'tippy_tap_present', 'tippy_fill_water', \n",
    "                   'soap_ash_present', 'hangline_present', 'kitchen_present', \n",
    "                   'kitchen_ventilated', 'bathroom_present', 'compound_clean', \n",
    "                   'diskrack_present']].apply(pd.Series.value_counts, normalize=True).transpose()[1]\n",
    "\n",
    "# Total number of observations in each group (n_rtvs, n_peers)\n",
    "n_rtvs = len(rtv)\n",
    "n_peers = len(peer)\n",
    "\n",
    "# Loop through each feature to perform the z-test\n",
    "results = []\n",
    "for feature in rtv_props.index:\n",
    "    count = [rtv_props[feature] * n_rtvs, peer_props[feature] * n_peers]\n",
    "    nobs = [n_rtvs, n_peers]\n",
    "    \n",
    "    zstat, pval = proportions_ztest(count, nobs)\n",
    "    results.append((feature, zstat, pval))\n",
    "\n",
    "# Convert results to a DataFrame for better visualization\n",
    "import pandas as pd\n",
    "results_df = pd.DataFrame(results, columns=['Feature', 'Z-Score', 'P-Value'])\n",
    "\n",
    "print(results_df)"
   ]
  },
  {
   "cell_type": "code",
   "execution_count": 167,
   "id": "6a09ff8d-da32-4f36-bc8a-e5edcbd56e58",
   "metadata": {},
   "outputs": [
    {
     "data": {
      "text/plain": [
       "(0.8626770986444553, 0.5106350454227813)"
      ]
     },
     "execution_count": 167,
     "metadata": {},
     "output_type": "execute_result"
    }
   ],
   "source": [
    "rtv['WASH (%)'].mean(), peer['WASH (%)'].mean()"
   ]
  },
  {
   "cell_type": "code",
   "execution_count": null,
   "id": "76c4420a-f265-4c61-9b27-4bfa1a1e68bf",
   "metadata": {},
   "outputs": [],
   "source": []
  },
  {
   "cell_type": "code",
   "execution_count": null,
   "id": "3b90ed13-71eb-4305-9746-b0222b732295",
   "metadata": {},
   "outputs": [],
   "source": []
  },
  {
   "cell_type": "code",
   "execution_count": 172,
   "id": "dc9fe47a-d2c8-4b69-9a2c-f0341ac1fac8",
   "metadata": {},
   "outputs": [
    {
     "name": "stderr",
     "output_type": "stream",
     "text": [
      "/var/folders/xd/0btgr76j2zxc4__ynw0yhwbm0000gn/T/ipykernel_52758/2314588612.py:1: FutureWarning: The default of observed=False is deprecated and will be changed to True in a future version of pandas. Pass observed=False to retain current behavior or observed=True to adopt the future default and silence this warning.\n",
      "  df.groupby(['STATUS','latrine_present'])['waterborne_30_days_flag'].value_counts(normalize=True)\n"
     ]
    },
    {
     "data": {
      "text/plain": [
       "STATUS  latrine_present  waterborne_30_days_flag\n",
       "RTV     0                0                          0.855556\n",
       "                         1                          0.144444\n",
       "        1                0                          0.902736\n",
       "                         1                          0.097264\n",
       "PEER    0                0                          0.903614\n",
       "                         1                          0.096386\n",
       "        1                0                          0.858328\n",
       "                         1                          0.141672\n",
       "Name: proportion, dtype: float64"
      ]
     },
     "execution_count": 172,
     "metadata": {},
     "output_type": "execute_result"
    }
   ],
   "source": [
    "df.groupby(['STATUS','latrine_present'])['waterborne_30_days_flag'].value_counts(normalize=True)"
   ]
  },
  {
   "cell_type": "code",
   "execution_count": 171,
   "id": "ac9f5726-942a-476f-940f-dca66ff9bca6",
   "metadata": {},
   "outputs": [
    {
     "name": "stderr",
     "output_type": "stream",
     "text": [
      "/var/folders/xd/0btgr76j2zxc4__ynw0yhwbm0000gn/T/ipykernel_52758/1233233133.py:1: FutureWarning: The default of observed=False is deprecated and will be changed to True in a future version of pandas. Pass observed=False to retain current behavior or observed=True to adopt the future default and silence this warning.\n",
      "  df.groupby(['STATUS','latrine_cover_present'])['waterborne_30_days_flag'].value_counts(normalize=True)\n"
     ]
    },
    {
     "data": {
      "text/plain": [
       "STATUS  latrine_cover_present  waterborne_30_days_flag\n",
       "RTV     0.0                    0                          0.892011\n",
       "                               1                          0.107989\n",
       "        1.0                    0                          0.904917\n",
       "                               1                          0.095083\n",
       "PEER    0.0                    0                          0.871807\n",
       "                               1                          0.128193\n",
       "        1.0                    0                          0.824623\n",
       "                               1                          0.175377\n",
       "Name: proportion, dtype: float64"
      ]
     },
     "execution_count": 171,
     "metadata": {},
     "output_type": "execute_result"
    }
   ],
   "source": [
    "df.groupby(['STATUS','latrine_cover_present'])['waterborne_30_days_flag'].value_counts(normalize=True)"
   ]
  },
  {
   "cell_type": "code",
   "execution_count": 173,
   "id": "7922befb-cae9-4e8c-afea-e5be3259d6ab",
   "metadata": {},
   "outputs": [
    {
     "name": "stderr",
     "output_type": "stream",
     "text": [
      "/var/folders/xd/0btgr76j2zxc4__ynw0yhwbm0000gn/T/ipykernel_52758/551129802.py:1: FutureWarning: The default of observed=False is deprecated and will be changed to True in a future version of pandas. Pass observed=False to retain current behavior or observed=True to adopt the future default and silence this warning.\n",
      "  df.groupby(['STATUS','latrine_door_present'])['waterborne_30_days_flag'].value_counts(normalize=True)\n"
     ]
    },
    {
     "data": {
      "text/plain": [
       "STATUS  latrine_door_present  waterborne_30_days_flag\n",
       "RTV     0.0                   0                          0.904729\n",
       "                              1                          0.095271\n",
       "        1.0                   0                          0.902423\n",
       "                              1                          0.097577\n",
       "PEER    0.0                   0                          0.862275\n",
       "                              1                          0.137725\n",
       "        1.0                   0                          0.852167\n",
       "                              1                          0.147833\n",
       "Name: proportion, dtype: float64"
      ]
     },
     "execution_count": 173,
     "metadata": {},
     "output_type": "execute_result"
    }
   ],
   "source": [
    "df.groupby(['STATUS','latrine_door_present'])['waterborne_30_days_flag'].value_counts(normalize=True)"
   ]
  },
  {
   "cell_type": "code",
   "execution_count": 174,
   "id": "df4d5d9b-d186-4a0a-b855-73f1db170cf5",
   "metadata": {},
   "outputs": [
    {
     "name": "stderr",
     "output_type": "stream",
     "text": [
      "/var/folders/xd/0btgr76j2zxc4__ynw0yhwbm0000gn/T/ipykernel_52758/3009506476.py:1: FutureWarning: The default of observed=False is deprecated and will be changed to True in a future version of pandas. Pass observed=False to retain current behavior or observed=True to adopt the future default and silence this warning.\n",
      "  df.groupby(['STATUS','tippy_tap_present'])['waterborne_30_days_flag'].value_counts(normalize=True)\n"
     ]
    },
    {
     "data": {
      "text/plain": [
       "STATUS  tippy_tap_present  waterborne_30_days_flag\n",
       "RTV     0.0                0                          0.886643\n",
       "                           1                          0.113357\n",
       "        1.0                0                          0.919869\n",
       "                           1                          0.080131\n",
       "PEER    0.0                0                          0.859649\n",
       "                           1                          0.140351\n",
       "        1.0                0                          0.822430\n",
       "                           1                          0.177570\n",
       "Name: proportion, dtype: float64"
      ]
     },
     "execution_count": 174,
     "metadata": {},
     "output_type": "execute_result"
    }
   ],
   "source": [
    "df.groupby(['STATUS','tippy_tap_present'])['waterborne_30_days_flag'].value_counts(normalize=True)"
   ]
  },
  {
   "cell_type": "code",
   "execution_count": 175,
   "id": "53e7d6df-10c2-496f-8018-96c8398aeea2",
   "metadata": {},
   "outputs": [
    {
     "name": "stderr",
     "output_type": "stream",
     "text": [
      "/var/folders/xd/0btgr76j2zxc4__ynw0yhwbm0000gn/T/ipykernel_52758/1106969697.py:1: FutureWarning: The default of observed=False is deprecated and will be changed to True in a future version of pandas. Pass observed=False to retain current behavior or observed=True to adopt the future default and silence this warning.\n",
      "  df.groupby(['STATUS','tippy_fill_water'])['waterborne_30_days_flag'].value_counts(normalize=True)\n"
     ]
    },
    {
     "data": {
      "text/plain": [
       "STATUS  tippy_fill_water  waterborne_30_days_flag\n",
       "RTV     0.0               0                          0.881818\n",
       "                          1                          0.118182\n",
       "        1.0               0                          0.920691\n",
       "                          1                          0.079309\n",
       "PEER    0.0               0                          0.764706\n",
       "                          1                          0.235294\n",
       "        1.0               0                          0.833333\n",
       "                          1                          0.166667\n",
       "Name: proportion, dtype: float64"
      ]
     },
     "execution_count": 175,
     "metadata": {},
     "output_type": "execute_result"
    }
   ],
   "source": [
    "df.groupby(['STATUS','tippy_fill_water'])['waterborne_30_days_flag'].value_counts(normalize=True)"
   ]
  },
  {
   "cell_type": "code",
   "execution_count": 176,
   "id": "17ab8440-029a-4466-9385-1222d6c6f640",
   "metadata": {},
   "outputs": [
    {
     "name": "stderr",
     "output_type": "stream",
     "text": [
      "/var/folders/xd/0btgr76j2zxc4__ynw0yhwbm0000gn/T/ipykernel_52758/3141259605.py:1: FutureWarning: The default of observed=False is deprecated and will be changed to True in a future version of pandas. Pass observed=False to retain current behavior or observed=True to adopt the future default and silence this warning.\n",
      "  df.groupby(['STATUS','soap_ash_present'])['waterborne_30_days_flag'].value_counts(normalize=True)\n"
     ]
    },
    {
     "data": {
      "text/plain": [
       "STATUS  soap_ash_present  waterborne_30_days_flag\n",
       "RTV     0.0               0                          0.920388\n",
       "                          1                          0.079612\n",
       "        1.0               0                          0.919812\n",
       "                          1                          0.080188\n",
       "PEER    0.0               0                          0.805556\n",
       "                          1                          0.194444\n",
       "        1.0               0                          0.830986\n",
       "                          1                          0.169014\n",
       "Name: proportion, dtype: float64"
      ]
     },
     "execution_count": 176,
     "metadata": {},
     "output_type": "execute_result"
    }
   ],
   "source": [
    "df.groupby(['STATUS','soap_ash_present'])['waterborne_30_days_flag'].value_counts(normalize=True)"
   ]
  },
  {
   "cell_type": "code",
   "execution_count": 177,
   "id": "0f087179-f866-4ce0-a8e9-a9976c321386",
   "metadata": {},
   "outputs": [
    {
     "name": "stderr",
     "output_type": "stream",
     "text": [
      "/var/folders/xd/0btgr76j2zxc4__ynw0yhwbm0000gn/T/ipykernel_52758/2093873730.py:1: FutureWarning: The default of observed=False is deprecated and will be changed to True in a future version of pandas. Pass observed=False to retain current behavior or observed=True to adopt the future default and silence this warning.\n",
      "  df.groupby(['STATUS','hangline_present'])['waterborne_30_days_flag'].value_counts(normalize=True)\n"
     ]
    },
    {
     "data": {
      "text/plain": [
       "STATUS  hangline_present  waterborne_30_days_flag\n",
       "RTV     0                 0                          0.890957\n",
       "                          1                          0.109043\n",
       "        1                 0                          0.903194\n",
       "                          1                          0.096806\n",
       "PEER    0                 0                          0.865106\n",
       "                          1                          0.134894\n",
       "        1                 0                          0.858958\n",
       "                          1                          0.141042\n",
       "Name: proportion, dtype: float64"
      ]
     },
     "execution_count": 177,
     "metadata": {},
     "output_type": "execute_result"
    }
   ],
   "source": [
    "df.groupby(['STATUS','hangline_present'])['waterborne_30_days_flag'].value_counts(normalize=True)"
   ]
  },
  {
   "cell_type": "code",
   "execution_count": 178,
   "id": "88cda2f0-a91e-4233-862b-91d98ebd2b52",
   "metadata": {},
   "outputs": [
    {
     "name": "stderr",
     "output_type": "stream",
     "text": [
      "/var/folders/xd/0btgr76j2zxc4__ynw0yhwbm0000gn/T/ipykernel_52758/4135209012.py:1: FutureWarning: The default of observed=False is deprecated and will be changed to True in a future version of pandas. Pass observed=False to retain current behavior or observed=True to adopt the future default and silence this warning.\n",
      "  df.groupby(['STATUS','kitchen_present'])['waterborne_30_days_flag'].value_counts(normalize=True)\n"
     ]
    },
    {
     "data": {
      "text/plain": [
       "STATUS  kitchen_present  waterborne_30_days_flag\n",
       "RTV     0                0                          0.909639\n",
       "                         1                          0.090361\n",
       "        1                0                          0.901993\n",
       "                         1                          0.098007\n",
       "PEER    0                0                          0.878173\n",
       "                         1                          0.121827\n",
       "        1                0                          0.858220\n",
       "                         1                          0.141780\n",
       "Name: proportion, dtype: float64"
      ]
     },
     "execution_count": 178,
     "metadata": {},
     "output_type": "execute_result"
    }
   ],
   "source": [
    "df.groupby(['STATUS','kitchen_present'])['waterborne_30_days_flag'].value_counts(normalize=True)"
   ]
  },
  {
   "cell_type": "code",
   "execution_count": 180,
   "id": "cd224a91-8a0b-459a-b609-4b6d95526328",
   "metadata": {},
   "outputs": [
    {
     "name": "stderr",
     "output_type": "stream",
     "text": [
      "/var/folders/xd/0btgr76j2zxc4__ynw0yhwbm0000gn/T/ipykernel_52758/4020517639.py:1: FutureWarning: The default of observed=False is deprecated and will be changed to True in a future version of pandas. Pass observed=False to retain current behavior or observed=True to adopt the future default and silence this warning.\n",
      "  df.groupby(['STATUS','kitchen_ventilated'])['waterborne_30_days_flag'].value_counts(normalize=True)\n"
     ]
    },
    {
     "data": {
      "text/plain": [
       "STATUS  kitchen_ventilated  waterborne_30_days_flag\n",
       "RTV     0.0                 0                          0.891519\n",
       "                            1                          0.108481\n",
       "        1.0                 0                          0.902533\n",
       "                            1                          0.097467\n",
       "PEER    0.0                 0                          0.871336\n",
       "                            1                          0.128664\n",
       "        1.0                 0                          0.854512\n",
       "                            1                          0.145488\n",
       "Name: proportion, dtype: float64"
      ]
     },
     "execution_count": 180,
     "metadata": {},
     "output_type": "execute_result"
    }
   ],
   "source": [
    "df.groupby(['STATUS','kitchen_ventilated'])['waterborne_30_days_flag'].value_counts(normalize=True)"
   ]
  },
  {
   "cell_type": "code",
   "execution_count": 179,
   "id": "58836e07-70ec-4408-911a-9fe67d56993c",
   "metadata": {},
   "outputs": [
    {
     "name": "stderr",
     "output_type": "stream",
     "text": [
      "/var/folders/xd/0btgr76j2zxc4__ynw0yhwbm0000gn/T/ipykernel_52758/1472402304.py:1: FutureWarning: The default of observed=False is deprecated and will be changed to True in a future version of pandas. Pass observed=False to retain current behavior or observed=True to adopt the future default and silence this warning.\n",
      "  df.groupby(['STATUS','bathroom_present'])['waterborne_30_days_flag'].value_counts(normalize=True)\n"
     ]
    },
    {
     "data": {
      "text/plain": [
       "STATUS  bathroom_present  waterborne_30_days_flag\n",
       "RTV     0                 0                          0.884100\n",
       "                          1                          0.115900\n",
       "        1                 0                          0.904290\n",
       "                          1                          0.095710\n",
       "PEER    0                 0                          0.873500\n",
       "                          1                          0.126500\n",
       "        1                 0                          0.854077\n",
       "                          1                          0.145923\n",
       "Name: proportion, dtype: float64"
      ]
     },
     "execution_count": 179,
     "metadata": {},
     "output_type": "execute_result"
    }
   ],
   "source": [
    "df.groupby(['STATUS','bathroom_present'])['waterborne_30_days_flag'].value_counts(normalize=True)"
   ]
  },
  {
   "cell_type": "code",
   "execution_count": 181,
   "id": "93608468-85fd-45fa-83b4-5b449bc35a32",
   "metadata": {},
   "outputs": [
    {
     "name": "stderr",
     "output_type": "stream",
     "text": [
      "/var/folders/xd/0btgr76j2zxc4__ynw0yhwbm0000gn/T/ipykernel_52758/561295323.py:1: FutureWarning: The default of observed=False is deprecated and will be changed to True in a future version of pandas. Pass observed=False to retain current behavior or observed=True to adopt the future default and silence this warning.\n",
      "  df.groupby(['STATUS','compound_clean'])['waterborne_30_days_flag'].value_counts(normalize=True)\n"
     ]
    },
    {
     "data": {
      "text/plain": [
       "STATUS  compound_clean  waterborne_30_days_flag\n",
       "RTV     0               0                          0.886819\n",
       "                        1                          0.113181\n",
       "        1               0                          0.903414\n",
       "                        1                          0.096586\n",
       "PEER    0               0                          0.863061\n",
       "                        1                          0.136939\n",
       "        1               0                          0.859801\n",
       "                        1                          0.140199\n",
       "Name: proportion, dtype: float64"
      ]
     },
     "execution_count": 181,
     "metadata": {},
     "output_type": "execute_result"
    }
   ],
   "source": [
    "df.groupby(['STATUS','compound_clean'])['waterborne_30_days_flag'].value_counts(normalize=True)"
   ]
  },
  {
   "cell_type": "code",
   "execution_count": 182,
   "id": "8db95788-53d2-47d3-ab51-f82ceded01b3",
   "metadata": {},
   "outputs": [
    {
     "name": "stderr",
     "output_type": "stream",
     "text": [
      "/var/folders/xd/0btgr76j2zxc4__ynw0yhwbm0000gn/T/ipykernel_52758/393004289.py:1: FutureWarning: The default of observed=False is deprecated and will be changed to True in a future version of pandas. Pass observed=False to retain current behavior or observed=True to adopt the future default and silence this warning.\n",
      "  df.groupby(['STATUS','diskrack_present'])['waterborne_30_days_flag'].value_counts(normalize=True)\n"
     ]
    },
    {
     "data": {
      "text/plain": [
       "STATUS  diskrack_present  waterborne_30_days_flag\n",
       "RTV     0                 0                          0.894449\n",
       "                          1                          0.105551\n",
       "        1                 0                          0.903236\n",
       "                          1                          0.096764\n",
       "PEER    0                 0                          0.875995\n",
       "                          1                          0.124005\n",
       "        1                 0                          0.846890\n",
       "                          1                          0.153110\n",
       "Name: proportion, dtype: float64"
      ]
     },
     "execution_count": 182,
     "metadata": {},
     "output_type": "execute_result"
    }
   ],
   "source": [
    "df.groupby(['STATUS','diskrack_present'])['waterborne_30_days_flag'].value_counts(normalize=True)"
   ]
  },
  {
   "cell_type": "code",
   "execution_count": null,
   "id": "318ed643-db02-4e6c-a1f5-7f03c2a6bafd",
   "metadata": {},
   "outputs": [],
   "source": []
  },
  {
   "cell_type": "code",
   "execution_count": null,
   "id": "3325ff5f-6c2a-46a5-b1e3-9ac2b28f0cf1",
   "metadata": {},
   "outputs": [],
   "source": []
  },
  {
   "cell_type": "code",
   "execution_count": null,
   "id": "74f03a8e-66b4-4559-b9d5-0b0538230ab0",
   "metadata": {},
   "outputs": [],
   "source": []
  },
  {
   "cell_type": "markdown",
   "id": "d095ed8b-fddd-4d3f-9a09-91a40cb5b0c2",
   "metadata": {},
   "source": [
    "# Baseline"
   ]
  },
  {
   "cell_type": "code",
   "execution_count": 212,
   "id": "f3f07272-1a28-4e66-a261-0c947b980e7d",
   "metadata": {},
   "outputs": [],
   "source": [
    "peer = pd.read_excel(\"peer_base_2022_access_water.xlsx\")\n",
    "rtv = pd.read_excel(\"rtv_base_merged.xlsx\")"
   ]
  },
  {
   "cell_type": "code",
   "execution_count": 213,
   "id": "2d36ea24-d62e-46d0-a921-0b56edfafb03",
   "metadata": {},
   "outputs": [],
   "source": [
    "base_combined = pd.concat(\n",
    "    [peer, rtv ], ignore_index=True   \n",
    ")"
   ]
  },
  {
   "cell_type": "code",
   "execution_count": 214,
   "id": "9b7e5d12-2503-4132-87d6-980ea44449a5",
   "metadata": {},
   "outputs": [
    {
     "data": {
      "text/plain": [
       "Index(['Number_of_Household_Illnesses_in_last_30_days_',\n",
       "       'Number_of_Waterborne_Illness_in_the_last_30_days',\n",
       "       'Distance_travelled_Outpatient_Treatment',\n",
       "       'Time_travel_round_trip_Outpatient_Treatment_minutes',\n",
       "       'HH Income + Consumption + Assets + Residues / Day', 'STATUS', 'index',\n",
       "       'outlier'],\n",
       "      dtype='object')"
      ]
     },
     "execution_count": 214,
     "metadata": {},
     "output_type": "execute_result"
    }
   ],
   "source": [
    "base_combined.columns"
   ]
  },
  {
   "cell_type": "code",
   "execution_count": 217,
   "id": "821b8104-cfde-48e6-b9e6-db1d07a62108",
   "metadata": {},
   "outputs": [
    {
     "data": {
      "text/html": [
       "<div>\n",
       "<style scoped>\n",
       "    .dataframe tbody tr th:only-of-type {\n",
       "        vertical-align: middle;\n",
       "    }\n",
       "\n",
       "    .dataframe tbody tr th {\n",
       "        vertical-align: top;\n",
       "    }\n",
       "\n",
       "    .dataframe thead th {\n",
       "        text-align: right;\n",
       "    }\n",
       "</style>\n",
       "<table border=\"1\" class=\"dataframe\">\n",
       "  <thead>\n",
       "    <tr style=\"text-align: right;\">\n",
       "      <th></th>\n",
       "      <th>Number_of_Household_Illnesses_in_last_30_days_</th>\n",
       "      <th>Number_of_Waterborne_Illness_in_the_last_30_days</th>\n",
       "    </tr>\n",
       "  </thead>\n",
       "  <tbody>\n",
       "    <tr>\n",
       "      <th>0</th>\n",
       "      <td>0.0</td>\n",
       "      <td>0.0</td>\n",
       "    </tr>\n",
       "    <tr>\n",
       "      <th>1</th>\n",
       "      <td>0.0</td>\n",
       "      <td>0.0</td>\n",
       "    </tr>\n",
       "    <tr>\n",
       "      <th>2</th>\n",
       "      <td>0.0</td>\n",
       "      <td>0.0</td>\n",
       "    </tr>\n",
       "    <tr>\n",
       "      <th>3</th>\n",
       "      <td>0.0</td>\n",
       "      <td>0.0</td>\n",
       "    </tr>\n",
       "    <tr>\n",
       "      <th>4</th>\n",
       "      <td>0.0</td>\n",
       "      <td>0.0</td>\n",
       "    </tr>\n",
       "    <tr>\n",
       "      <th>...</th>\n",
       "      <td>...</td>\n",
       "      <td>...</td>\n",
       "    </tr>\n",
       "    <tr>\n",
       "      <th>5848</th>\n",
       "      <td>3.0</td>\n",
       "      <td>2.0</td>\n",
       "    </tr>\n",
       "    <tr>\n",
       "      <th>5849</th>\n",
       "      <td>2.0</td>\n",
       "      <td>1.0</td>\n",
       "    </tr>\n",
       "    <tr>\n",
       "      <th>5850</th>\n",
       "      <td>3.0</td>\n",
       "      <td>1.0</td>\n",
       "    </tr>\n",
       "    <tr>\n",
       "      <th>5851</th>\n",
       "      <td>2.0</td>\n",
       "      <td>0.0</td>\n",
       "    </tr>\n",
       "    <tr>\n",
       "      <th>5852</th>\n",
       "      <td>4.0</td>\n",
       "      <td>2.0</td>\n",
       "    </tr>\n",
       "  </tbody>\n",
       "</table>\n",
       "<p>5853 rows × 2 columns</p>\n",
       "</div>"
      ],
      "text/plain": [
       "      Number_of_Household_Illnesses_in_last_30_days_  \\\n",
       "0                                                0.0   \n",
       "1                                                0.0   \n",
       "2                                                0.0   \n",
       "3                                                0.0   \n",
       "4                                                0.0   \n",
       "...                                              ...   \n",
       "5848                                             3.0   \n",
       "5849                                             2.0   \n",
       "5850                                             3.0   \n",
       "5851                                             2.0   \n",
       "5852                                             4.0   \n",
       "\n",
       "      Number_of_Waterborne_Illness_in_the_last_30_days  \n",
       "0                                                  0.0  \n",
       "1                                                  0.0  \n",
       "2                                                  0.0  \n",
       "3                                                  0.0  \n",
       "4                                                  0.0  \n",
       "...                                                ...  \n",
       "5848                                               2.0  \n",
       "5849                                               1.0  \n",
       "5850                                               1.0  \n",
       "5851                                               0.0  \n",
       "5852                                               2.0  \n",
       "\n",
       "[5853 rows x 2 columns]"
      ]
     },
     "execution_count": 217,
     "metadata": {},
     "output_type": "execute_result"
    }
   ],
   "source": [
    "base_combined[\n",
    "    [\"Number_of_Household_Illnesses_in_last_30_days_\", \n",
    "     \"Number_of_Waterborne_Illness_in_the_last_30_days\"]\n",
    "]"
   ]
  },
  {
   "cell_type": "code",
   "execution_count": 229,
   "id": "6abbccbf-04f1-43c3-9003-47c0c72d7766",
   "metadata": {},
   "outputs": [],
   "source": [
    "base_combined[\"non_waterborne_30_days\"] = abs(base_combined[\"Number_of_Household_Illnesses_in_last_30_days_\"] - base_combined[\"Number_of_Waterborne_Illness_in_the_last_30_days\"])"
   ]
  },
  {
   "cell_type": "code",
   "execution_count": 233,
   "id": "c0d15333-507a-4166-8887-f3b419ce5f07",
   "metadata": {},
   "outputs": [],
   "source": [
    "base_combined['non_waterborne_30_days_flag'] = base_combined['non_waterborne_30_days'].apply(lambda x: 1 if x > 0 else 0)\n",
    "base_combined['waterborne_30_days_flag'] = base_combined['Number_of_Waterborne_Illness_in_the_last_30_days'].apply(lambda x: 1 if x > 0 else 0)"
   ]
  },
  {
   "cell_type": "code",
   "execution_count": 243,
   "id": "3d6f4c6e-a68a-4d82-80b4-3236cc662000",
   "metadata": {},
   "outputs": [
    {
     "data": {
      "text/html": [
       "<div>\n",
       "<style scoped>\n",
       "    .dataframe tbody tr th:only-of-type {\n",
       "        vertical-align: middle;\n",
       "    }\n",
       "\n",
       "    .dataframe tbody tr th {\n",
       "        vertical-align: top;\n",
       "    }\n",
       "\n",
       "    .dataframe thead th {\n",
       "        text-align: right;\n",
       "    }\n",
       "</style>\n",
       "<table border=\"1\" class=\"dataframe\">\n",
       "  <thead>\n",
       "    <tr style=\"text-align: right;\">\n",
       "      <th>STATUS</th>\n",
       "      <th>PEER</th>\n",
       "      <th>RTV</th>\n",
       "    </tr>\n",
       "  </thead>\n",
       "  <tbody>\n",
       "    <tr>\n",
       "      <th>non_waterborne_30_days</th>\n",
       "      <td>0.547019</td>\n",
       "      <td>0.601961</td>\n",
       "    </tr>\n",
       "    <tr>\n",
       "      <th>Number_of_Waterborne_Illness_in_the_last_30_days</th>\n",
       "      <td>0.390848</td>\n",
       "      <td>0.274301</td>\n",
       "    </tr>\n",
       "  </tbody>\n",
       "</table>\n",
       "</div>"
      ],
      "text/plain": [
       "STATUS                                                PEER       RTV\n",
       "non_waterborne_30_days                            0.547019  0.601961\n",
       "Number_of_Waterborne_Illness_in_the_last_30_days  0.390848  0.274301"
      ]
     },
     "execution_count": 243,
     "metadata": {},
     "output_type": "execute_result"
    }
   ],
   "source": [
    "base_combined.groupby(\"STATUS\")[[\"non_waterborne_30_days\", \"Number_of_Waterborne_Illness_in_the_last_30_days\"]].mean().transpose()"
   ]
  },
  {
   "cell_type": "code",
   "execution_count": 237,
   "id": "a1e73172-d3b0-4634-8182-8e81ed89491a",
   "metadata": {},
   "outputs": [
    {
     "data": {
      "text/plain": [
       "STATUS  waterborne_30_days_flag\n",
       "PEER    0                          0.745172\n",
       "        1                          0.254828\n",
       "RTV     0                          0.793431\n",
       "        1                          0.206569\n",
       "Name: proportion, dtype: float64"
      ]
     },
     "execution_count": 237,
     "metadata": {},
     "output_type": "execute_result"
    }
   ],
   "source": [
    "base_combined.groupby(\"STATUS\")[\"waterborne_30_days_flag\"].value_counts(normalize=True)"
   ]
  },
  {
   "cell_type": "code",
   "execution_count": 238,
   "id": "7f220975-74de-401b-8538-ae8418bed277",
   "metadata": {},
   "outputs": [
    {
     "data": {
      "text/plain": [
       "STATUS  non_waterborne_30_days_flag\n",
       "PEER    0                              0.629303\n",
       "        1                              0.370697\n",
       "RTV     0                              0.575050\n",
       "        1                              0.424950\n",
       "Name: proportion, dtype: float64"
      ]
     },
     "execution_count": 238,
     "metadata": {},
     "output_type": "execute_result"
    }
   ],
   "source": [
    "base_combined.groupby(\"STATUS\")[\"non_waterborne_30_days_flag\"].value_counts(normalize=True)"
   ]
  },
  {
   "cell_type": "code",
   "execution_count": 239,
   "id": "a2df2769-f3f3-45d1-9af5-fd7b09f060c2",
   "metadata": {},
   "outputs": [
    {
     "data": {
      "text/plain": [
       "Index(['Number_of_Household_Illnesses_in_last_30_days_',\n",
       "       'Number_of_Waterborne_Illness_in_the_last_30_days',\n",
       "       'Distance_travelled_Outpatient_Treatment',\n",
       "       'Time_travel_round_trip_Outpatient_Treatment_minutes',\n",
       "       'HH Income + Consumption + Assets + Residues / Day', 'STATUS', 'index',\n",
       "       'outlier', 'non_waterborne_30_days', 'non_waterborne_30_days_flag',\n",
       "       'waterborne_30_days_flag'],\n",
       "      dtype='object')"
      ]
     },
     "execution_count": 239,
     "metadata": {},
     "output_type": "execute_result"
    }
   ],
   "source": [
    "base_combined.columns"
   ]
  },
  {
   "cell_type": "code",
   "execution_count": 241,
   "id": "3fdd8eb2-12f3-48ea-b5b6-2859b3dfdf6b",
   "metadata": {},
   "outputs": [
    {
     "data": {
      "text/html": [
       "<div>\n",
       "<style scoped>\n",
       "    .dataframe tbody tr th:only-of-type {\n",
       "        vertical-align: middle;\n",
       "    }\n",
       "\n",
       "    .dataframe tbody tr th {\n",
       "        vertical-align: top;\n",
       "    }\n",
       "\n",
       "    .dataframe thead th {\n",
       "        text-align: right;\n",
       "    }\n",
       "</style>\n",
       "<table border=\"1\" class=\"dataframe\">\n",
       "  <thead>\n",
       "    <tr style=\"text-align: right;\">\n",
       "      <th></th>\n",
       "      <th>Distance_travelled_Outpatient_Treatment</th>\n",
       "      <th>Time_travel_round_trip_Outpatient_Treatment_minutes</th>\n",
       "    </tr>\n",
       "    <tr>\n",
       "      <th>STATUS</th>\n",
       "      <th></th>\n",
       "      <th></th>\n",
       "    </tr>\n",
       "  </thead>\n",
       "  <tbody>\n",
       "    <tr>\n",
       "      <th>PEER</th>\n",
       "      <td>3.141312</td>\n",
       "      <td>60.947103</td>\n",
       "    </tr>\n",
       "    <tr>\n",
       "      <th>RTV</th>\n",
       "      <td>4.665625</td>\n",
       "      <td>197.571099</td>\n",
       "    </tr>\n",
       "  </tbody>\n",
       "</table>\n",
       "</div>"
      ],
      "text/plain": [
       "        Distance_travelled_Outpatient_Treatment  \\\n",
       "STATUS                                            \n",
       "PEER                                   3.141312   \n",
       "RTV                                    4.665625   \n",
       "\n",
       "        Time_travel_round_trip_Outpatient_Treatment_minutes  \n",
       "STATUS                                                       \n",
       "PEER                                            60.947103    \n",
       "RTV                                            197.571099    "
      ]
     },
     "execution_count": 241,
     "metadata": {},
     "output_type": "execute_result"
    }
   ],
   "source": [
    "base_combined.groupby(\"STATUS\")[\n",
    "[\n",
    "    \"Distance_travelled_Outpatient_Treatment\", \"Time_travel_round_trip_Outpatient_Treatment_minutes\"\n",
    "]\n",
    "].mean()"
   ]
  },
  {
   "cell_type": "code",
   "execution_count": null,
   "id": "94757136-9d46-456a-b2d7-069d24421ad5",
   "metadata": {},
   "outputs": [],
   "source": []
  }
 ],
 "metadata": {
  "kernelspec": {
   "display_name": "Python 3 (ipykernel)",
   "language": "python",
   "name": "python3"
  },
  "language_info": {
   "codemirror_mode": {
    "name": "ipython",
    "version": 3
   },
   "file_extension": ".py",
   "mimetype": "text/x-python",
   "name": "python",
   "nbconvert_exporter": "python",
   "pygments_lexer": "ipython3",
   "version": "3.10.9"
  }
 },
 "nbformat": 4,
 "nbformat_minor": 5
}
