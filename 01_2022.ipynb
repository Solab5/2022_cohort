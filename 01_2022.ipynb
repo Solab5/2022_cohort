{
 "cells": [
  {
   "cell_type": "code",
   "execution_count": 1,
   "id": "f577d597-abad-4517-a566-6b664e342b61",
   "metadata": {},
   "outputs": [],
   "source": [
    "import pandas as pd"
   ]
  },
  {
   "cell_type": "code",
   "execution_count": 3,
   "id": "70e0ed52-5ef1-438e-90ff-86c8f5e2c619",
   "metadata": {},
   "outputs": [],
   "source": [
    "data = pd.read_excel(\"2024_cohorts_merged.xlsx\", sheet_name=\"2019_2022_merged\", header=5)"
   ]
  },
  {
   "cell_type": "code",
   "execution_count": 4,
   "id": "9f013553-c616-461f-b870-9d2f7e1a7f57",
   "metadata": {},
   "outputs": [
    {
     "data": {
      "text/html": [
       "<div>\n",
       "<style scoped>\n",
       "    .dataframe tbody tr th:only-of-type {\n",
       "        vertical-align: middle;\n",
       "    }\n",
       "\n",
       "    .dataframe tbody tr th {\n",
       "        vertical-align: top;\n",
       "    }\n",
       "\n",
       "    .dataframe thead th {\n",
       "        text-align: right;\n",
       "    }\n",
       "</style>\n",
       "<table border=\"1\" class=\"dataframe\">\n",
       "  <thead>\n",
       "    <tr style=\"text-align: right;\">\n",
       "      <th></th>\n",
       "      <th>SubmissionDate</th>\n",
       "      <th>starttime</th>\n",
       "      <th>endtime</th>\n",
       "      <th>version</th>\n",
       "      <th>duration</th>\n",
       "      <th>survey_start</th>\n",
       "      <th>intro_start</th>\n",
       "      <th>text_audit</th>\n",
       "      <th>date_collection</th>\n",
       "      <th>region</th>\n",
       "      <th>...</th>\n",
       "      <th>Beetroot</th>\n",
       "      <th>Black nightshade</th>\n",
       "      <th>White eggplants</th>\n",
       "      <th>Green Eggplants</th>\n",
       "      <th>Purple Eggplants</th>\n",
       "      <th>Dodo (Amaranthus)</th>\n",
       "      <th>Others.1</th>\n",
       "      <th>Vegs_Num</th>\n",
       "      <th>Unnamed: 7218</th>\n",
       "      <th>STATUS</th>\n",
       "    </tr>\n",
       "  </thead>\n",
       "  <tbody>\n",
       "    <tr>\n",
       "      <th>0</th>\n",
       "      <td>Jul 29, 2024 11:16:27 PM</td>\n",
       "      <td>Jul 29, 2024 5:25:05 PM</td>\n",
       "      <td>Jul 29, 2024 6:06:27 PM</td>\n",
       "      <td>2407300828</td>\n",
       "      <td>2457</td>\n",
       "      <td>4.0</td>\n",
       "      <td>4.0</td>\n",
       "      <td>https://rtvuganda.surveycto.com/view/submissio...</td>\n",
       "      <td>45503</td>\n",
       "      <td>4</td>\n",
       "      <td>...</td>\n",
       "      <td>0</td>\n",
       "      <td>0</td>\n",
       "      <td>0</td>\n",
       "      <td>0</td>\n",
       "      <td>0</td>\n",
       "      <td>0</td>\n",
       "      <td>0</td>\n",
       "      <td>0</td>\n",
       "      <td>NaN</td>\n",
       "      <td>PEER</td>\n",
       "    </tr>\n",
       "    <tr>\n",
       "      <th>1</th>\n",
       "      <td>Jul 29, 2024 2:20:16 PM</td>\n",
       "      <td>Jul 29, 2024 1:20:26 PM</td>\n",
       "      <td>Jul 29, 2024 2:19:54 PM</td>\n",
       "      <td>2407301247</td>\n",
       "      <td>3291</td>\n",
       "      <td>9.0</td>\n",
       "      <td>9.0</td>\n",
       "      <td>https://rtvuganda.surveycto.com/view/submissio...</td>\n",
       "      <td>2024-07-30</td>\n",
       "      <td>4</td>\n",
       "      <td>...</td>\n",
       "      <td>0</td>\n",
       "      <td>0</td>\n",
       "      <td>0</td>\n",
       "      <td>0</td>\n",
       "      <td>0</td>\n",
       "      <td>0</td>\n",
       "      <td>0</td>\n",
       "      <td>0</td>\n",
       "      <td>NaN</td>\n",
       "      <td>PEER</td>\n",
       "    </tr>\n",
       "    <tr>\n",
       "      <th>2</th>\n",
       "      <td>Jul 29, 2024 11:18:08 AM</td>\n",
       "      <td>Jul 29, 2024 10:23:17 AM</td>\n",
       "      <td>Jul 29, 2024 11:17:39 AM</td>\n",
       "      <td>2407300924</td>\n",
       "      <td>3261</td>\n",
       "      <td>4.0</td>\n",
       "      <td>4.0</td>\n",
       "      <td>https://rtvuganda.surveycto.com/view/submissio...</td>\n",
       "      <td>2024-07-30</td>\n",
       "      <td>4</td>\n",
       "      <td>...</td>\n",
       "      <td>0</td>\n",
       "      <td>0</td>\n",
       "      <td>0</td>\n",
       "      <td>0</td>\n",
       "      <td>0</td>\n",
       "      <td>0</td>\n",
       "      <td>0</td>\n",
       "      <td>0</td>\n",
       "      <td>NaN</td>\n",
       "      <td>PEER</td>\n",
       "    </tr>\n",
       "    <tr>\n",
       "      <th>3</th>\n",
       "      <td>Jul 29, 2024 6:15:33 PM</td>\n",
       "      <td>Jul 29, 2024 1:44:04 PM</td>\n",
       "      <td>Jul 29, 2024 2:30:23 PM</td>\n",
       "      <td>2407301035</td>\n",
       "      <td>2592</td>\n",
       "      <td>38.0</td>\n",
       "      <td>38.0</td>\n",
       "      <td>https://rtvuganda.surveycto.com/view/submissio...</td>\n",
       "      <td>2024-07-30</td>\n",
       "      <td>4</td>\n",
       "      <td>...</td>\n",
       "      <td>0</td>\n",
       "      <td>0</td>\n",
       "      <td>0</td>\n",
       "      <td>0</td>\n",
       "      <td>0</td>\n",
       "      <td>0</td>\n",
       "      <td>0</td>\n",
       "      <td>0</td>\n",
       "      <td>NaN</td>\n",
       "      <td>PEER</td>\n",
       "    </tr>\n",
       "    <tr>\n",
       "      <th>4</th>\n",
       "      <td>Jul 29, 2024 5:54:45 PM</td>\n",
       "      <td>Jul 29, 2024 3:13:19 PM</td>\n",
       "      <td>Jul 29, 2024 4:04:00 PM</td>\n",
       "      <td>2407301135</td>\n",
       "      <td>2912</td>\n",
       "      <td>27.0</td>\n",
       "      <td>27.0</td>\n",
       "      <td>https://rtvuganda.surveycto.com/view/submissio...</td>\n",
       "      <td>2024-07-30</td>\n",
       "      <td>4</td>\n",
       "      <td>...</td>\n",
       "      <td>0</td>\n",
       "      <td>0</td>\n",
       "      <td>0</td>\n",
       "      <td>0</td>\n",
       "      <td>0</td>\n",
       "      <td>0</td>\n",
       "      <td>0</td>\n",
       "      <td>0</td>\n",
       "      <td>NaN</td>\n",
       "      <td>PEER</td>\n",
       "    </tr>\n",
       "  </tbody>\n",
       "</table>\n",
       "<p>5 rows × 7220 columns</p>\n",
       "</div>"
      ],
      "text/plain": [
       "             SubmissionDate                 starttime  \\\n",
       "0  Jul 29, 2024 11:16:27 PM   Jul 29, 2024 5:25:05 PM   \n",
       "1   Jul 29, 2024 2:20:16 PM   Jul 29, 2024 1:20:26 PM   \n",
       "2  Jul 29, 2024 11:18:08 AM  Jul 29, 2024 10:23:17 AM   \n",
       "3   Jul 29, 2024 6:15:33 PM   Jul 29, 2024 1:44:04 PM   \n",
       "4   Jul 29, 2024 5:54:45 PM   Jul 29, 2024 3:13:19 PM   \n",
       "\n",
       "                    endtime     version  duration  survey_start  intro_start  \\\n",
       "0   Jul 29, 2024 6:06:27 PM  2407300828      2457           4.0          4.0   \n",
       "1   Jul 29, 2024 2:19:54 PM  2407301247      3291           9.0          9.0   \n",
       "2  Jul 29, 2024 11:17:39 AM  2407300924      3261           4.0          4.0   \n",
       "3   Jul 29, 2024 2:30:23 PM  2407301035      2592          38.0         38.0   \n",
       "4   Jul 29, 2024 4:04:00 PM  2407301135      2912          27.0         27.0   \n",
       "\n",
       "                                          text_audit date_collection  region  \\\n",
       "0  https://rtvuganda.surveycto.com/view/submissio...           45503       4   \n",
       "1  https://rtvuganda.surveycto.com/view/submissio...      2024-07-30       4   \n",
       "2  https://rtvuganda.surveycto.com/view/submissio...      2024-07-30       4   \n",
       "3  https://rtvuganda.surveycto.com/view/submissio...      2024-07-30       4   \n",
       "4  https://rtvuganda.surveycto.com/view/submissio...      2024-07-30       4   \n",
       "\n",
       "   ...  Beetroot  Black nightshade White eggplants  Green Eggplants  \\\n",
       "0  ...         0                 0               0                0   \n",
       "1  ...         0                 0               0                0   \n",
       "2  ...         0                 0               0                0   \n",
       "3  ...         0                 0               0                0   \n",
       "4  ...         0                 0               0                0   \n",
       "\n",
       "  Purple Eggplants Dodo (Amaranthus) Others.1 Vegs_Num Unnamed: 7218 STATUS  \n",
       "0                0                 0        0        0           NaN   PEER  \n",
       "1                0                 0        0        0           NaN   PEER  \n",
       "2                0                 0        0        0           NaN   PEER  \n",
       "3                0                 0        0        0           NaN   PEER  \n",
       "4                0                 0        0        0           NaN   PEER  \n",
       "\n",
       "[5 rows x 7220 columns]"
      ]
     },
     "execution_count": 4,
     "metadata": {},
     "output_type": "execute_result"
    }
   ],
   "source": [
    "data.head()"
   ]
  },
  {
   "cell_type": "code",
   "execution_count": 5,
   "id": "cec3ff96-bd60-439b-a36c-1829378ef2f5",
   "metadata": {},
   "outputs": [],
   "source": [
    "df = data.copy()"
   ]
  },
  {
   "cell_type": "code",
   "execution_count": 5,
   "id": "893e18cf-832d-408e-b245-cb59424a2ced",
   "metadata": {},
   "outputs": [],
   "source": [
    "df.to_csv(\"Combined_2024_merged.csv\", index=False)"
   ]
  },
  {
   "cell_type": "code",
   "execution_count": 6,
   "id": "e915bfee-198d-48bf-8b21-905585110782",
   "metadata": {},
   "outputs": [
    {
     "data": {
      "text/plain": [
       "pre_cohort\n",
       "2022    11342\n",
       "2019     2670\n",
       "Name: count, dtype: int64"
      ]
     },
     "execution_count": 6,
     "metadata": {},
     "output_type": "execute_result"
    }
   ],
   "source": [
    "df['pre_cohort'].value_counts()"
   ]
  },
  {
   "cell_type": "code",
   "execution_count": 7,
   "id": "4a04cc43-7482-4d4b-aaa1-331efd83f416",
   "metadata": {},
   "outputs": [],
   "source": [
    "year_2 = df[df['pre_cohort'] == 2022]\n",
    "year_5 = df[df['pre_cohort'] == 2019]"
   ]
  },
  {
   "cell_type": "code",
   "execution_count": 8,
   "id": "ed8a0ec9-6f2e-4e1c-8279-4908b7ef201b",
   "metadata": {},
   "outputs": [
    {
     "data": {
      "text/plain": [
       "(11342, 7220)"
      ]
     },
     "execution_count": 8,
     "metadata": {},
     "output_type": "execute_result"
    }
   ],
   "source": [
    "year_2.shape"
   ]
  },
  {
   "cell_type": "code",
   "execution_count": 10,
   "id": "918a231c-de6f-4bde-a0cf-31aa0400d1f5",
   "metadata": {},
   "outputs": [
    {
     "data": {
      "text/plain": [
       "STATUS\n",
       "RTV     8163\n",
       "PEER    3179\n",
       "Name: count, dtype: int64"
      ]
     },
     "execution_count": 10,
     "metadata": {},
     "output_type": "execute_result"
    }
   ],
   "source": [
    "year_2['STATUS'].value_counts()"
   ]
  },
  {
   "cell_type": "code",
   "execution_count": null,
   "id": "eb590f84-a423-43a4-b331-744b31bc193f",
   "metadata": {},
   "outputs": [],
   "source": []
  },
  {
   "cell_type": "code",
   "execution_count": 14,
   "id": "fd1585b6-5377-4a60-91ca-de0dbbc86e64",
   "metadata": {},
   "outputs": [
    {
     "data": {
      "text/plain": [
       "4.047511762221196"
      ]
     },
     "execution_count": 14,
     "metadata": {},
     "output_type": "execute_result"
    }
   ],
   "source": [
    "year_2[year_2['pre_district'] == \"Kibaale\"]['HH Income + Production/Day  (USD)'].mean()"
   ]
  },
  {
   "cell_type": "code",
   "execution_count": null,
   "id": "ec64c27e-b100-4585-a74d-1b418601effa",
   "metadata": {},
   "outputs": [],
   "source": []
  },
  {
   "cell_type": "code",
   "execution_count": null,
   "id": "baf0da03-6607-457d-9f43-e52a5b48c6d6",
   "metadata": {},
   "outputs": [],
   "source": []
  },
  {
   "cell_type": "code",
   "execution_count": 29,
   "id": "64844547-8083-43b1-859c-092fbd5fbe9a",
   "metadata": {},
   "outputs": [
    {
     "data": {
      "text/plain": [
       "STATUS\n",
       "RTV    2670\n",
       "Name: count, dtype: int64"
      ]
     },
     "execution_count": 29,
     "metadata": {},
     "output_type": "execute_result"
    }
   ],
   "source": [
    "year_5['STATUS'].value_counts()"
   ]
  },
  {
   "cell_type": "code",
   "execution_count": 26,
   "id": "aa1b5a89-5ec7-44b7-933b-0d1c5a379264",
   "metadata": {},
   "outputs": [
    {
     "data": {
      "text/plain": [
       "(14012, 7220)"
      ]
     },
     "execution_count": 26,
     "metadata": {},
     "output_type": "execute_result"
    }
   ],
   "source": [
    "df.shape"
   ]
  },
  {
   "cell_type": "code",
   "execution_count": 8,
   "id": "2a25ebb1-e606-4b2e-a3ed-762bdde77024",
   "metadata": {},
   "outputs": [
    {
     "data": {
      "text/plain": [
       "STATUS  Status_2.15\n",
       "PEER    0              0.656181\n",
       "        1              0.343819\n",
       "RTV     1              0.703540\n",
       "        0              0.296460\n",
       "Name: proportion, dtype: float64"
      ]
     },
     "execution_count": 8,
     "metadata": {},
     "output_type": "execute_result"
    }
   ],
   "source": [
    "year_2.groupby('STATUS')['Status_2.15'].value_counts(normalize=True)"
   ]
  },
  {
   "cell_type": "code",
   "execution_count": 9,
   "id": "4b2decdd-a2bc-42fe-a909-bed53808382f",
   "metadata": {},
   "outputs": [
    {
     "data": {
      "text/plain": [
       "STATUS  Status_2.15\n",
       "RTV     1              0.851685\n",
       "        0              0.148315\n",
       "Name: proportion, dtype: float64"
      ]
     },
     "execution_count": 9,
     "metadata": {},
     "output_type": "execute_result"
    }
   ],
   "source": [
    "year_5.groupby('STATUS')['Status_2.15'].value_counts(normalize=True)"
   ]
  },
  {
   "cell_type": "code",
   "execution_count": null,
   "id": "166648b9-16d2-4330-a717-eeca0473efa3",
   "metadata": {},
   "outputs": [],
   "source": []
  },
  {
   "cell_type": "markdown",
   "id": "33a8f195-e8a9-4ff1-875c-6d35839440db",
   "metadata": {},
   "source": [
    "## Expenditure"
   ]
  },
  {
   "cell_type": "markdown",
   "id": "b3c843d4-0eeb-4d29-bd3f-468748c6c7d4",
   "metadata": {},
   "source": [
    "\"consumption_exp_weekly(ugx)\"\t\"consumption_exp_monthly\"\t\"consumption_exp _annual\""
   ]
  },
  {
   "cell_type": "code",
   "execution_count": 10,
   "id": "3b252ba7-79b3-4fb3-af96-0c9faaa75015",
   "metadata": {},
   "outputs": [
    {
     "data": {
      "text/plain": [
       "STATUS\n",
       "PEER    374.862024\n",
       "RTV     480.150846\n",
       "Name: consumption_exp_weekly(ugx), dtype: float64"
      ]
     },
     "execution_count": 10,
     "metadata": {},
     "output_type": "execute_result"
    }
   ],
   "source": [
    "year_2.groupby('STATUS')[\"consumption_exp_weekly(ugx)\"].mean() / 3700"
   ]
  },
  {
   "cell_type": "code",
   "execution_count": 11,
   "id": "9ef5b601-8d7e-4a54-8e94-d47e9b555976",
   "metadata": {},
   "outputs": [
    {
     "data": {
      "text/plain": [
       "STATUS\n",
       "RTV    463.053546\n",
       "Name: consumption_exp_weekly(ugx), dtype: float64"
      ]
     },
     "execution_count": 11,
     "metadata": {},
     "output_type": "execute_result"
    }
   ],
   "source": [
    "year_5.groupby('STATUS')[\"consumption_exp_weekly(ugx)\"].mean() / 3700"
   ]
  },
  {
   "cell_type": "code",
   "execution_count": null,
   "id": "fc0c9ca5-cd7e-455b-bfb7-c640546914f4",
   "metadata": {},
   "outputs": [],
   "source": []
  },
  {
   "cell_type": "code",
   "execution_count": 12,
   "id": "34d5cebb-0da5-4491-bc2a-3f46db6f5626",
   "metadata": {},
   "outputs": [
    {
     "data": {
      "text/plain": [
       "STATUS\n",
       "PEER    108.057454\n",
       "RTV     128.820296\n",
       "Name: consumption_exp_monthly, dtype: float64"
      ]
     },
     "execution_count": 12,
     "metadata": {},
     "output_type": "execute_result"
    }
   ],
   "source": [
    "year_2.groupby('STATUS')[\"consumption_exp_monthly\"].mean() / 3700"
   ]
  },
  {
   "cell_type": "code",
   "execution_count": 13,
   "id": "ca9432ef-3d7d-43ba-bb5a-e4bb3212327c",
   "metadata": {},
   "outputs": [
    {
     "data": {
      "text/plain": [
       "STATUS\n",
       "RTV    120.77607\n",
       "Name: consumption_exp_monthly, dtype: float64"
      ]
     },
     "execution_count": 13,
     "metadata": {},
     "output_type": "execute_result"
    }
   ],
   "source": [
    "year_5.groupby('STATUS')[\"consumption_exp_monthly\"].mean() / 3700"
   ]
  },
  {
   "cell_type": "code",
   "execution_count": null,
   "id": "82685647-217c-413b-a301-841557026b00",
   "metadata": {},
   "outputs": [],
   "source": []
  },
  {
   "cell_type": "code",
   "execution_count": null,
   "id": "44819b4d-037f-4358-8380-662af464b1bf",
   "metadata": {},
   "outputs": [],
   "source": []
  },
  {
   "cell_type": "code",
   "execution_count": 14,
   "id": "ad2be287-ea1b-4bfa-bcca-520d79457007",
   "metadata": {},
   "outputs": [
    {
     "data": {
      "text/plain": [
       "STATUS\n",
       "PEER    68.182653\n",
       "RTV     81.692755\n",
       "Name: consumption_exp _annual, dtype: float64"
      ]
     },
     "execution_count": 14,
     "metadata": {},
     "output_type": "execute_result"
    }
   ],
   "source": [
    "year_2.groupby('STATUS')[\"consumption_exp _annual\"].mean() / 3700"
   ]
  },
  {
   "cell_type": "code",
   "execution_count": 15,
   "id": "5a92f45f-7a7d-482e-bff7-6b4c4f36c993",
   "metadata": {},
   "outputs": [
    {
     "data": {
      "text/plain": [
       "STATUS\n",
       "RTV    75.570647\n",
       "Name: consumption_exp _annual, dtype: float64"
      ]
     },
     "execution_count": 15,
     "metadata": {},
     "output_type": "execute_result"
    }
   ],
   "source": [
    "year_5.groupby('STATUS')[\"consumption_exp _annual\"].mean() / 3700"
   ]
  },
  {
   "cell_type": "code",
   "execution_count": null,
   "id": "8f921b3c-8fa0-48a3-bb50-20c88bde6f80",
   "metadata": {},
   "outputs": [],
   "source": []
  },
  {
   "cell_type": "code",
   "execution_count": null,
   "id": "8c30dc03-bc8d-455c-8fb1-12a9fe446c08",
   "metadata": {},
   "outputs": [],
   "source": []
  },
  {
   "cell_type": "code",
   "execution_count": null,
   "id": "b3e1a35a-f53d-41f4-9558-6d358ed3ee88",
   "metadata": {},
   "outputs": [],
   "source": []
  },
  {
   "cell_type": "code",
   "execution_count": 16,
   "id": "fd5fc12e-0e5c-4dc1-9826-f538134a18f1",
   "metadata": {},
   "outputs": [
    {
     "data": {
      "text/plain": [
       "pre_district     STATUS\n",
       "Kagadi_GAC       RTV       544.912548\n",
       "Kagadi_Standard  RTV       574.826415\n",
       "Kaliro           PEER      341.027601\n",
       "                 RTV       349.874716\n",
       "Kanungu          PEER      384.729291\n",
       "                 RTV       564.982422\n",
       "Kibaale          PEER      443.588743\n",
       "Kyenjojo         RTV       538.464323\n",
       "Mitooma          PEER      423.984836\n",
       "                 RTV       514.306650\n",
       "Rubanda          PEER      285.773774\n",
       "                 RTV       305.211432\n",
       "Rubirizi         RTV       510.519247\n",
       "Rukungiri        RTV       526.288512\n",
       "kanungu          PEER      157.405405\n",
       "Name: consumption_exp_weekly(ugx), dtype: float64"
      ]
     },
     "execution_count": 16,
     "metadata": {},
     "output_type": "execute_result"
    }
   ],
   "source": [
    "year_2.groupby(['pre_district','STATUS'])[\"consumption_exp_weekly(ugx)\"].mean() / 3700"
   ]
  },
  {
   "cell_type": "code",
   "execution_count": 17,
   "id": "a73b00e8-b3ad-4688-a6ae-30a38d71e07b",
   "metadata": {},
   "outputs": [
    {
     "data": {
      "text/plain": [
       "pre_district  STATUS\n",
       "Kanungu       RTV       470.143645\n",
       "Kisoro        RTV       395.169039\n",
       "Rukungiri     RTV       465.729844\n",
       "kanungu       RTV        94.054054\n",
       "Name: consumption_exp_weekly(ugx), dtype: float64"
      ]
     },
     "execution_count": 17,
     "metadata": {},
     "output_type": "execute_result"
    }
   ],
   "source": [
    "year_5.groupby(['pre_district','STATUS'])[\"consumption_exp_weekly(ugx)\"].mean() / 3700"
   ]
  },
  {
   "cell_type": "code",
   "execution_count": null,
   "id": "3c3f4903-90e6-4359-971e-06128277b28d",
   "metadata": {},
   "outputs": [],
   "source": []
  },
  {
   "cell_type": "code",
   "execution_count": 18,
   "id": "c4db1be9-691b-4617-8109-eb281e89495c",
   "metadata": {},
   "outputs": [
    {
     "data": {
      "text/plain": [
       "pre_district     STATUS\n",
       "Kagadi_GAC       RTV       125.892342\n",
       "Kagadi_Standard  RTV       123.793214\n",
       "Kaliro           PEER      109.215129\n",
       "                 RTV       122.641606\n",
       "Kanungu          PEER       92.294884\n",
       "                 RTV       123.734735\n",
       "Kibaale          PEER      129.199822\n",
       "Kyenjojo         RTV       156.361785\n",
       "Mitooma          PEER      114.993954\n",
       "                 RTV       128.038960\n",
       "Rubanda          PEER       87.582583\n",
       "                 RTV       105.961205\n",
       "Rubirizi         RTV       128.100067\n",
       "Rukungiri        RTV       154.779517\n",
       "kanungu          PEER      140.540541\n",
       "Name: consumption_exp_monthly, dtype: float64"
      ]
     },
     "execution_count": 18,
     "metadata": {},
     "output_type": "execute_result"
    }
   ],
   "source": [
    "year_2.groupby(['pre_district','STATUS'])[\"consumption_exp_monthly\"].mean() / 3700"
   ]
  },
  {
   "cell_type": "code",
   "execution_count": 19,
   "id": "d7f8f403-0328-4302-9482-9fd14b016964",
   "metadata": {},
   "outputs": [
    {
     "data": {
      "text/plain": [
       "pre_district  STATUS\n",
       "Kanungu       RTV       112.576894\n",
       "Kisoro        RTV        74.646410\n",
       "Rukungiri     RTV       144.336124\n",
       "kanungu       RTV        28.648649\n",
       "Name: consumption_exp_monthly, dtype: float64"
      ]
     },
     "execution_count": 19,
     "metadata": {},
     "output_type": "execute_result"
    }
   ],
   "source": [
    "year_5.groupby(['pre_district','STATUS'])[\"consumption_exp_monthly\"].mean() / 3700"
   ]
  },
  {
   "cell_type": "code",
   "execution_count": null,
   "id": "fb105aee-7c28-41aa-9cf1-8cb957c39937",
   "metadata": {},
   "outputs": [],
   "source": []
  },
  {
   "cell_type": "code",
   "execution_count": null,
   "id": "809019ba-fef0-4203-8e79-baf105bd8eb2",
   "metadata": {},
   "outputs": [],
   "source": []
  },
  {
   "cell_type": "code",
   "execution_count": 20,
   "id": "7e69a031-028c-4925-8ee1-02112df6a3be",
   "metadata": {},
   "outputs": [
    {
     "data": {
      "text/plain": [
       "pre_district     STATUS\n",
       "Kagadi_GAC       RTV       100.555201\n",
       "Kagadi_Standard  RTV       106.360787\n",
       "Kaliro           PEER       60.245637\n",
       "                 RTV        65.344184\n",
       "Kanungu          PEER       58.157420\n",
       "                 RTV        73.993968\n",
       "Kibaale          PEER       94.203167\n",
       "Kyenjojo         RTV       101.777603\n",
       "Mitooma          PEER       75.091999\n",
       "                 RTV        84.840418\n",
       "Rubanda          PEER       50.573991\n",
       "                 RTV        61.501210\n",
       "Rubirizi         RTV        76.775000\n",
       "Rukungiri        RTV        89.402986\n",
       "kanungu          PEER       98.648649\n",
       "Name: consumption_exp _annual, dtype: float64"
      ]
     },
     "execution_count": 20,
     "metadata": {},
     "output_type": "execute_result"
    }
   ],
   "source": [
    "year_2.groupby(['pre_district','STATUS'])[\"consumption_exp _annual\"].mean() / 3700"
   ]
  },
  {
   "cell_type": "code",
   "execution_count": 21,
   "id": "7230469c-98e2-4b4d-99f1-f9448cd03801",
   "metadata": {},
   "outputs": [
    {
     "data": {
      "text/plain": [
       "pre_district  STATUS\n",
       "Kanungu       RTV       71.047826\n",
       "Kisoro        RTV       55.904526\n",
       "Rukungiri     RTV       87.603241\n",
       "kanungu       RTV        7.612613\n",
       "Name: consumption_exp _annual, dtype: float64"
      ]
     },
     "execution_count": 21,
     "metadata": {},
     "output_type": "execute_result"
    }
   ],
   "source": [
    "year_5.groupby(['pre_district','STATUS'])[\"consumption_exp _annual\"].mean() / 3700"
   ]
  },
  {
   "cell_type": "markdown",
   "id": "88ea77ed-a0ff-48f3-8ad6-04ad3835dc97",
   "metadata": {},
   "source": [
    "# Expenses"
   ]
  },
  {
   "cell_type": "code",
   "execution_count": 23,
   "id": "596a2274-3d14-4345-8627-54416224d28b",
   "metadata": {},
   "outputs": [
    {
     "data": {
      "text/plain": [
       "pre_district     STATUS\n",
       "Kagadi_GAC       RTV       1209.992736\n",
       "Kagadi_Standard  RTV       1237.236901\n",
       "Kaliro           PEER       805.076267\n",
       "                 RTV       1077.494841\n",
       "Kanungu          PEER       866.203147\n",
       "                 RTV       1269.321398\n",
       "Kibaale          PEER      1182.983800\n",
       "Kyenjojo         RTV       1209.566490\n",
       "Mitooma          PEER      1063.904405\n",
       "                 RTV       1232.351728\n",
       "Rubanda          PEER       748.567854\n",
       "                 RTV       1025.499359\n",
       "Rubirizi         RTV       1270.318830\n",
       "Rukungiri        RTV       1267.742680\n",
       "kanungu          PEER       652.101351\n",
       "Name: Total Expenses, dtype: float64"
      ]
     },
     "execution_count": 23,
     "metadata": {},
     "output_type": "execute_result"
    }
   ],
   "source": [
    "year_2.groupby(['pre_district','STATUS'])[\"Total Expenses\"].mean() / 3700"
   ]
  },
  {
   "cell_type": "code",
   "execution_count": 24,
   "id": "c3129da6-e4cc-40d0-9bc8-96e3fdaad274",
   "metadata": {},
   "outputs": [
    {
     "data": {
      "text/plain": [
       "pre_district  STATUS\n",
       "Kanungu       RTV       1167.736044\n",
       "Kisoro        RTV        927.061890\n",
       "Rukungiri     RTV       1274.389758\n",
       "kanungu       RTV        495.162162\n",
       "Name: Total Expenses, dtype: float64"
      ]
     },
     "execution_count": 24,
     "metadata": {},
     "output_type": "execute_result"
    }
   ],
   "source": [
    "year_5.groupby(['pre_district','STATUS'])[\"Total Expenses\"].mean() / 3700"
   ]
  },
  {
   "cell_type": "code",
   "execution_count": 22,
   "id": "2415aaf9-30b8-4fbb-8ed4-8305e0d851f6",
   "metadata": {},
   "outputs": [
    {
     "data": {
      "text/plain": [
       "4193947.4030117043"
      ]
     },
     "execution_count": 22,
     "metadata": {},
     "output_type": "execute_result"
    }
   ],
   "source": [
    "df['Total Expenses'].mean()"
   ]
  },
  {
   "cell_type": "code",
   "execution_count": 32,
   "id": "911a0d10-8868-415f-b408-2ab6eddabb8b",
   "metadata": {},
   "outputs": [
    {
     "data": {
      "text/plain": [
       "0        False\n",
       "1        False\n",
       "2        False\n",
       "3        False\n",
       "4        False\n",
       "         ...  \n",
       "11337    False\n",
       "11338    False\n",
       "11339    False\n",
       "11340    False\n",
       "11341    False\n",
       "Name: pre_district, Length: 11342, dtype: bool"
      ]
     },
     "execution_count": 32,
     "metadata": {},
     "output_type": "execute_result"
    }
   ],
   "source": [
    "year_2['pre_district'] == \"Kibaale\""
   ]
  },
  {
   "cell_type": "code",
   "execution_count": 30,
   "id": "953552a9-554f-4eff-b4c2-e42d4de49653",
   "metadata": {},
   "outputs": [
    {
     "data": {
      "text/html": [
       "<div>\n",
       "<style scoped>\n",
       "    .dataframe tbody tr th:only-of-type {\n",
       "        vertical-align: middle;\n",
       "    }\n",
       "\n",
       "    .dataframe tbody tr th {\n",
       "        vertical-align: top;\n",
       "    }\n",
       "\n",
       "    .dataframe thead th {\n",
       "        text-align: right;\n",
       "    }\n",
       "</style>\n",
       "<table border=\"1\" class=\"dataframe\">\n",
       "  <thead>\n",
       "    <tr style=\"text-align: right;\">\n",
       "      <th></th>\n",
       "      <th>SubmissionDate</th>\n",
       "      <th>starttime</th>\n",
       "      <th>endtime</th>\n",
       "      <th>version</th>\n",
       "      <th>duration</th>\n",
       "      <th>survey_start</th>\n",
       "      <th>intro_start</th>\n",
       "      <th>text_audit</th>\n",
       "      <th>date_collection</th>\n",
       "      <th>region</th>\n",
       "      <th>...</th>\n",
       "      <th>Beetroot</th>\n",
       "      <th>Black nightshade</th>\n",
       "      <th>White eggplants</th>\n",
       "      <th>Green Eggplants</th>\n",
       "      <th>Purple Eggplants</th>\n",
       "      <th>Dodo (Amaranthus)</th>\n",
       "      <th>Others.1</th>\n",
       "      <th>Vegs_Num</th>\n",
       "      <th>Unnamed: 7218</th>\n",
       "      <th>STATUS</th>\n",
       "    </tr>\n",
       "  </thead>\n",
       "  <tbody>\n",
       "    <tr>\n",
       "      <th>0</th>\n",
       "      <td>Jul 29, 2024 11:16:27 PM</td>\n",
       "      <td>Jul 29, 2024 5:25:05 PM</td>\n",
       "      <td>Jul 29, 2024 6:06:27 PM</td>\n",
       "      <td>2407300828</td>\n",
       "      <td>2457</td>\n",
       "      <td>4.0</td>\n",
       "      <td>4.0</td>\n",
       "      <td>https://rtvuganda.surveycto.com/view/submissio...</td>\n",
       "      <td>45503</td>\n",
       "      <td>4</td>\n",
       "      <td>...</td>\n",
       "      <td>0</td>\n",
       "      <td>0</td>\n",
       "      <td>0</td>\n",
       "      <td>0</td>\n",
       "      <td>0</td>\n",
       "      <td>0</td>\n",
       "      <td>0</td>\n",
       "      <td>0</td>\n",
       "      <td>NaN</td>\n",
       "      <td>PEER</td>\n",
       "    </tr>\n",
       "    <tr>\n",
       "      <th>1</th>\n",
       "      <td>Jul 29, 2024 2:20:16 PM</td>\n",
       "      <td>Jul 29, 2024 1:20:26 PM</td>\n",
       "      <td>Jul 29, 2024 2:19:54 PM</td>\n",
       "      <td>2407301247</td>\n",
       "      <td>3291</td>\n",
       "      <td>9.0</td>\n",
       "      <td>9.0</td>\n",
       "      <td>https://rtvuganda.surveycto.com/view/submissio...</td>\n",
       "      <td>2024-07-30</td>\n",
       "      <td>4</td>\n",
       "      <td>...</td>\n",
       "      <td>0</td>\n",
       "      <td>0</td>\n",
       "      <td>0</td>\n",
       "      <td>0</td>\n",
       "      <td>0</td>\n",
       "      <td>0</td>\n",
       "      <td>0</td>\n",
       "      <td>0</td>\n",
       "      <td>NaN</td>\n",
       "      <td>PEER</td>\n",
       "    </tr>\n",
       "    <tr>\n",
       "      <th>2</th>\n",
       "      <td>Jul 29, 2024 11:18:08 AM</td>\n",
       "      <td>Jul 29, 2024 10:23:17 AM</td>\n",
       "      <td>Jul 29, 2024 11:17:39 AM</td>\n",
       "      <td>2407300924</td>\n",
       "      <td>3261</td>\n",
       "      <td>4.0</td>\n",
       "      <td>4.0</td>\n",
       "      <td>https://rtvuganda.surveycto.com/view/submissio...</td>\n",
       "      <td>2024-07-30</td>\n",
       "      <td>4</td>\n",
       "      <td>...</td>\n",
       "      <td>0</td>\n",
       "      <td>0</td>\n",
       "      <td>0</td>\n",
       "      <td>0</td>\n",
       "      <td>0</td>\n",
       "      <td>0</td>\n",
       "      <td>0</td>\n",
       "      <td>0</td>\n",
       "      <td>NaN</td>\n",
       "      <td>PEER</td>\n",
       "    </tr>\n",
       "    <tr>\n",
       "      <th>3</th>\n",
       "      <td>Jul 29, 2024 6:15:33 PM</td>\n",
       "      <td>Jul 29, 2024 1:44:04 PM</td>\n",
       "      <td>Jul 29, 2024 2:30:23 PM</td>\n",
       "      <td>2407301035</td>\n",
       "      <td>2592</td>\n",
       "      <td>38.0</td>\n",
       "      <td>38.0</td>\n",
       "      <td>https://rtvuganda.surveycto.com/view/submissio...</td>\n",
       "      <td>2024-07-30</td>\n",
       "      <td>4</td>\n",
       "      <td>...</td>\n",
       "      <td>0</td>\n",
       "      <td>0</td>\n",
       "      <td>0</td>\n",
       "      <td>0</td>\n",
       "      <td>0</td>\n",
       "      <td>0</td>\n",
       "      <td>0</td>\n",
       "      <td>0</td>\n",
       "      <td>NaN</td>\n",
       "      <td>PEER</td>\n",
       "    </tr>\n",
       "    <tr>\n",
       "      <th>4</th>\n",
       "      <td>Jul 29, 2024 5:54:45 PM</td>\n",
       "      <td>Jul 29, 2024 3:13:19 PM</td>\n",
       "      <td>Jul 29, 2024 4:04:00 PM</td>\n",
       "      <td>2407301135</td>\n",
       "      <td>2912</td>\n",
       "      <td>27.0</td>\n",
       "      <td>27.0</td>\n",
       "      <td>https://rtvuganda.surveycto.com/view/submissio...</td>\n",
       "      <td>2024-07-30</td>\n",
       "      <td>4</td>\n",
       "      <td>...</td>\n",
       "      <td>0</td>\n",
       "      <td>0</td>\n",
       "      <td>0</td>\n",
       "      <td>0</td>\n",
       "      <td>0</td>\n",
       "      <td>0</td>\n",
       "      <td>0</td>\n",
       "      <td>0</td>\n",
       "      <td>NaN</td>\n",
       "      <td>PEER</td>\n",
       "    </tr>\n",
       "    <tr>\n",
       "      <th>...</th>\n",
       "      <td>...</td>\n",
       "      <td>...</td>\n",
       "      <td>...</td>\n",
       "      <td>...</td>\n",
       "      <td>...</td>\n",
       "      <td>...</td>\n",
       "      <td>...</td>\n",
       "      <td>...</td>\n",
       "      <td>...</td>\n",
       "      <td>...</td>\n",
       "      <td>...</td>\n",
       "      <td>...</td>\n",
       "      <td>...</td>\n",
       "      <td>...</td>\n",
       "      <td>...</td>\n",
       "      <td>...</td>\n",
       "      <td>...</td>\n",
       "      <td>...</td>\n",
       "      <td>...</td>\n",
       "      <td>...</td>\n",
       "      <td>...</td>\n",
       "    </tr>\n",
       "    <tr>\n",
       "      <th>11337</th>\n",
       "      <td>Jul 31, 2024 3:26:03 AM</td>\n",
       "      <td>Jul 30, 2024 11:01:51 AM</td>\n",
       "      <td>Jul 30, 2024 11:58:08 AM</td>\n",
       "      <td>2407302157</td>\n",
       "      <td>3368</td>\n",
       "      <td>4.0</td>\n",
       "      <td>4.0</td>\n",
       "      <td>https://rtvuganda.surveycto.com/view/submissio...</td>\n",
       "      <td>2024-07-31</td>\n",
       "      <td>4</td>\n",
       "      <td>...</td>\n",
       "      <td>0</td>\n",
       "      <td>0</td>\n",
       "      <td>0</td>\n",
       "      <td>0</td>\n",
       "      <td>0</td>\n",
       "      <td>1</td>\n",
       "      <td>0</td>\n",
       "      <td>1</td>\n",
       "      <td>NaN</td>\n",
       "      <td>RTV</td>\n",
       "    </tr>\n",
       "    <tr>\n",
       "      <th>11338</th>\n",
       "      <td>Jul 31, 2024 9:27:47 PM</td>\n",
       "      <td>Jul 31, 2024 10:13:18 AM</td>\n",
       "      <td>Jul 31, 2024 11:35:34 AM</td>\n",
       "      <td>2407311236</td>\n",
       "      <td>4936</td>\n",
       "      <td>2.0</td>\n",
       "      <td>2.0</td>\n",
       "      <td>https://rtvuganda.surveycto.com/view/submissio...</td>\n",
       "      <td>2024-08-01</td>\n",
       "      <td>4</td>\n",
       "      <td>...</td>\n",
       "      <td>0</td>\n",
       "      <td>0</td>\n",
       "      <td>1</td>\n",
       "      <td>0</td>\n",
       "      <td>0</td>\n",
       "      <td>1</td>\n",
       "      <td>0</td>\n",
       "      <td>2</td>\n",
       "      <td>NaN</td>\n",
       "      <td>RTV</td>\n",
       "    </tr>\n",
       "    <tr>\n",
       "      <th>11339</th>\n",
       "      <td>Jul 30, 2024 7:33:52 PM</td>\n",
       "      <td>Jul 30, 2024 12:27:26 PM</td>\n",
       "      <td>Jul 30, 2024 2:24:14 PM</td>\n",
       "      <td>2407302157</td>\n",
       "      <td>10844</td>\n",
       "      <td>3.0</td>\n",
       "      <td>3.0</td>\n",
       "      <td>https://rtvuganda.surveycto.com/view/submissio...</td>\n",
       "      <td>2024-07-31</td>\n",
       "      <td>4</td>\n",
       "      <td>...</td>\n",
       "      <td>0</td>\n",
       "      <td>0</td>\n",
       "      <td>0</td>\n",
       "      <td>0</td>\n",
       "      <td>0</td>\n",
       "      <td>1</td>\n",
       "      <td>0</td>\n",
       "      <td>2</td>\n",
       "      <td>NaN</td>\n",
       "      <td>RTV</td>\n",
       "    </tr>\n",
       "    <tr>\n",
       "      <th>11340</th>\n",
       "      <td>Jul 31, 2024 6:17:41 PM</td>\n",
       "      <td>Jul 31, 2024 9:30:01 AM</td>\n",
       "      <td>Jul 31, 2024 10:37:15 AM</td>\n",
       "      <td>2407311236</td>\n",
       "      <td>3578</td>\n",
       "      <td>45.0</td>\n",
       "      <td>45.0</td>\n",
       "      <td>https://rtvuganda.surveycto.com/view/submissio...</td>\n",
       "      <td>2024-08-01</td>\n",
       "      <td>4</td>\n",
       "      <td>...</td>\n",
       "      <td>0</td>\n",
       "      <td>0</td>\n",
       "      <td>1</td>\n",
       "      <td>0</td>\n",
       "      <td>0</td>\n",
       "      <td>1</td>\n",
       "      <td>0</td>\n",
       "      <td>2</td>\n",
       "      <td>NaN</td>\n",
       "      <td>RTV</td>\n",
       "    </tr>\n",
       "    <tr>\n",
       "      <th>11341</th>\n",
       "      <td>Jul 29, 2024 9:42:41 PM</td>\n",
       "      <td>Jul 29, 2024 12:59:06 PM</td>\n",
       "      <td>Jul 29, 2024 2:05:44 PM</td>\n",
       "      <td>2407300828</td>\n",
       "      <td>3193</td>\n",
       "      <td>35.0</td>\n",
       "      <td>35.0</td>\n",
       "      <td>https://rtvuganda.surveycto.com/view/submissio...</td>\n",
       "      <td>2024-07-30</td>\n",
       "      <td>4</td>\n",
       "      <td>...</td>\n",
       "      <td>0</td>\n",
       "      <td>0</td>\n",
       "      <td>1</td>\n",
       "      <td>0</td>\n",
       "      <td>0</td>\n",
       "      <td>1</td>\n",
       "      <td>0</td>\n",
       "      <td>4</td>\n",
       "      <td>NaN</td>\n",
       "      <td>RTV</td>\n",
       "    </tr>\n",
       "  </tbody>\n",
       "</table>\n",
       "<p>11342 rows × 7220 columns</p>\n",
       "</div>"
      ],
      "text/plain": [
       "                 SubmissionDate                 starttime  \\\n",
       "0      Jul 29, 2024 11:16:27 PM   Jul 29, 2024 5:25:05 PM   \n",
       "1       Jul 29, 2024 2:20:16 PM   Jul 29, 2024 1:20:26 PM   \n",
       "2      Jul 29, 2024 11:18:08 AM  Jul 29, 2024 10:23:17 AM   \n",
       "3       Jul 29, 2024 6:15:33 PM   Jul 29, 2024 1:44:04 PM   \n",
       "4       Jul 29, 2024 5:54:45 PM   Jul 29, 2024 3:13:19 PM   \n",
       "...                         ...                       ...   \n",
       "11337   Jul 31, 2024 3:26:03 AM  Jul 30, 2024 11:01:51 AM   \n",
       "11338   Jul 31, 2024 9:27:47 PM  Jul 31, 2024 10:13:18 AM   \n",
       "11339   Jul 30, 2024 7:33:52 PM  Jul 30, 2024 12:27:26 PM   \n",
       "11340   Jul 31, 2024 6:17:41 PM   Jul 31, 2024 9:30:01 AM   \n",
       "11341   Jul 29, 2024 9:42:41 PM  Jul 29, 2024 12:59:06 PM   \n",
       "\n",
       "                        endtime     version  duration  survey_start  \\\n",
       "0       Jul 29, 2024 6:06:27 PM  2407300828      2457           4.0   \n",
       "1       Jul 29, 2024 2:19:54 PM  2407301247      3291           9.0   \n",
       "2      Jul 29, 2024 11:17:39 AM  2407300924      3261           4.0   \n",
       "3       Jul 29, 2024 2:30:23 PM  2407301035      2592          38.0   \n",
       "4       Jul 29, 2024 4:04:00 PM  2407301135      2912          27.0   \n",
       "...                         ...         ...       ...           ...   \n",
       "11337  Jul 30, 2024 11:58:08 AM  2407302157      3368           4.0   \n",
       "11338  Jul 31, 2024 11:35:34 AM  2407311236      4936           2.0   \n",
       "11339   Jul 30, 2024 2:24:14 PM  2407302157     10844           3.0   \n",
       "11340  Jul 31, 2024 10:37:15 AM  2407311236      3578          45.0   \n",
       "11341   Jul 29, 2024 2:05:44 PM  2407300828      3193          35.0   \n",
       "\n",
       "       intro_start                                         text_audit  \\\n",
       "0              4.0  https://rtvuganda.surveycto.com/view/submissio...   \n",
       "1              9.0  https://rtvuganda.surveycto.com/view/submissio...   \n",
       "2              4.0  https://rtvuganda.surveycto.com/view/submissio...   \n",
       "3             38.0  https://rtvuganda.surveycto.com/view/submissio...   \n",
       "4             27.0  https://rtvuganda.surveycto.com/view/submissio...   \n",
       "...            ...                                                ...   \n",
       "11337          4.0  https://rtvuganda.surveycto.com/view/submissio...   \n",
       "11338          2.0  https://rtvuganda.surveycto.com/view/submissio...   \n",
       "11339          3.0  https://rtvuganda.surveycto.com/view/submissio...   \n",
       "11340         45.0  https://rtvuganda.surveycto.com/view/submissio...   \n",
       "11341         35.0  https://rtvuganda.surveycto.com/view/submissio...   \n",
       "\n",
       "      date_collection  region  ...  Beetroot  Black nightshade  \\\n",
       "0               45503       4  ...         0                 0   \n",
       "1          2024-07-30       4  ...         0                 0   \n",
       "2          2024-07-30       4  ...         0                 0   \n",
       "3          2024-07-30       4  ...         0                 0   \n",
       "4          2024-07-30       4  ...         0                 0   \n",
       "...               ...     ...  ...       ...               ...   \n",
       "11337      2024-07-31       4  ...         0                 0   \n",
       "11338      2024-08-01       4  ...         0                 0   \n",
       "11339      2024-07-31       4  ...         0                 0   \n",
       "11340      2024-08-01       4  ...         0                 0   \n",
       "11341      2024-07-30       4  ...         0                 0   \n",
       "\n",
       "      White eggplants  Green Eggplants Purple Eggplants Dodo (Amaranthus)  \\\n",
       "0                   0                0                0                 0   \n",
       "1                   0                0                0                 0   \n",
       "2                   0                0                0                 0   \n",
       "3                   0                0                0                 0   \n",
       "4                   0                0                0                 0   \n",
       "...               ...              ...              ...               ...   \n",
       "11337               0                0                0                 1   \n",
       "11338               1                0                0                 1   \n",
       "11339               0                0                0                 1   \n",
       "11340               1                0                0                 1   \n",
       "11341               1                0                0                 1   \n",
       "\n",
       "      Others.1 Vegs_Num Unnamed: 7218 STATUS  \n",
       "0            0        0           NaN   PEER  \n",
       "1            0        0           NaN   PEER  \n",
       "2            0        0           NaN   PEER  \n",
       "3            0        0           NaN   PEER  \n",
       "4            0        0           NaN   PEER  \n",
       "...        ...      ...           ...    ...  \n",
       "11337        0        1           NaN    RTV  \n",
       "11338        0        2           NaN    RTV  \n",
       "11339        0        2           NaN    RTV  \n",
       "11340        0        2           NaN    RTV  \n",
       "11341        0        4           NaN    RTV  \n",
       "\n",
       "[11342 rows x 7220 columns]"
      ]
     },
     "execution_count": 30,
     "metadata": {},
     "output_type": "execute_result"
    }
   ],
   "source": [
    "year_2['"
   ]
  },
  {
   "cell_type": "code",
   "execution_count": null,
   "id": "33cd7a42-928c-49d2-830e-004a15d25af7",
   "metadata": {},
   "outputs": [],
   "source": []
  }
 ],
 "metadata": {
  "kernelspec": {
   "display_name": "Python 3 (ipykernel)",
   "language": "python",
   "name": "python3"
  },
  "language_info": {
   "codemirror_mode": {
    "name": "ipython",
    "version": 3
   },
   "file_extension": ".py",
   "mimetype": "text/x-python",
   "name": "python",
   "nbconvert_exporter": "python",
   "pygments_lexer": "ipython3",
   "version": "3.10.9"
  }
 },
 "nbformat": 4,
 "nbformat_minor": 5
}
