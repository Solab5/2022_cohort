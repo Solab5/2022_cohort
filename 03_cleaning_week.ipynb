{
 "cells": [
  {
   "cell_type": "code",
   "execution_count": 2,
   "id": "549c723c-b170-4002-a801-ac4bb3947bb3",
   "metadata": {},
   "outputs": [],
   "source": [
    "import pandas as pd\n",
    "import numpy as np\n",
    "import matplotlib.pyplot as plt\n",
    "%matplotlib inline"
   ]
  },
  {
   "cell_type": "code",
   "execution_count": null,
   "id": "939dc7ee-2273-4aa9-a751-3f0406051292",
   "metadata": {},
   "outputs": [],
   "source": []
  },
  {
   "cell_type": "code",
   "execution_count": 54,
   "id": "b43daa47-b9ee-407c-b529-fbbb1a1ea15d",
   "metadata": {},
   "outputs": [
    {
     "name": "stdout",
     "output_type": "stream",
     "text": [
      "(14015, 48)\n"
     ]
    },
    {
     "data": {
      "text/html": [
       "<div>\n",
       "<style scoped>\n",
       "    .dataframe tbody tr th:only-of-type {\n",
       "        vertical-align: middle;\n",
       "    }\n",
       "\n",
       "    .dataframe tbody tr th {\n",
       "        vertical-align: top;\n",
       "    }\n",
       "\n",
       "    .dataframe thead th {\n",
       "        text-align: right;\n",
       "    }\n",
       "</style>\n",
       "<table border=\"1\" class=\"dataframe\">\n",
       "  <thead>\n",
       "    <tr style=\"text-align: right;\">\n",
       "      <th></th>\n",
       "      <th>expenditure_start</th>\n",
       "      <th>cereals_week</th>\n",
       "      <th>cereals_days</th>\n",
       "      <th>tubers_week</th>\n",
       "      <th>tubers_days</th>\n",
       "      <th>pulses_week</th>\n",
       "      <th>pulses_days</th>\n",
       "      <th>milk_week</th>\n",
       "      <th>milk_days</th>\n",
       "      <th>vegetables_week</th>\n",
       "      <th>...</th>\n",
       "      <th>alcohol_week</th>\n",
       "      <th>alcohol_check</th>\n",
       "      <th>tobacco_week</th>\n",
       "      <th>tobacco_check</th>\n",
       "      <th>consump_food_gift_week</th>\n",
       "      <th>consump_food_gift_check</th>\n",
       "      <th>consump_inkind_week</th>\n",
       "      <th>consump_inkind_week_check</th>\n",
       "      <th>expenditure_end</th>\n",
       "      <th>STA</th>\n",
       "    </tr>\n",
       "  </thead>\n",
       "  <tbody>\n",
       "    <tr>\n",
       "      <th>0</th>\n",
       "      <td>534.0</td>\n",
       "      <td>9000</td>\n",
       "      <td>3</td>\n",
       "      <td>0</td>\n",
       "      <td>3</td>\n",
       "      <td>0</td>\n",
       "      <td>6</td>\n",
       "      <td>0</td>\n",
       "      <td>0</td>\n",
       "      <td>0</td>\n",
       "      <td>...</td>\n",
       "      <td>5000</td>\n",
       "      <td>NaN</td>\n",
       "      <td>0</td>\n",
       "      <td>NaN</td>\n",
       "      <td>0</td>\n",
       "      <td>NaN</td>\n",
       "      <td>0</td>\n",
       "      <td>NaN</td>\n",
       "      <td>655.0</td>\n",
       "      <td>PEER</td>\n",
       "    </tr>\n",
       "    <tr>\n",
       "      <th>1</th>\n",
       "      <td>1262.0</td>\n",
       "      <td>4500</td>\n",
       "      <td>3</td>\n",
       "      <td>0</td>\n",
       "      <td>4</td>\n",
       "      <td>12000</td>\n",
       "      <td>6</td>\n",
       "      <td>0</td>\n",
       "      <td>0</td>\n",
       "      <td>0</td>\n",
       "      <td>...</td>\n",
       "      <td>0</td>\n",
       "      <td>NaN</td>\n",
       "      <td>0</td>\n",
       "      <td>NaN</td>\n",
       "      <td>0</td>\n",
       "      <td>NaN</td>\n",
       "      <td>0</td>\n",
       "      <td>NaN</td>\n",
       "      <td>1386.0</td>\n",
       "      <td>PEER</td>\n",
       "    </tr>\n",
       "    <tr>\n",
       "      <th>2</th>\n",
       "      <td>947.0</td>\n",
       "      <td>4500</td>\n",
       "      <td>3</td>\n",
       "      <td>0</td>\n",
       "      <td>3</td>\n",
       "      <td>6000</td>\n",
       "      <td>6</td>\n",
       "      <td>0</td>\n",
       "      <td>0</td>\n",
       "      <td>0</td>\n",
       "      <td>...</td>\n",
       "      <td>0</td>\n",
       "      <td>NaN</td>\n",
       "      <td>0</td>\n",
       "      <td>NaN</td>\n",
       "      <td>0</td>\n",
       "      <td>NaN</td>\n",
       "      <td>0</td>\n",
       "      <td>NaN</td>\n",
       "      <td>1143.0</td>\n",
       "      <td>PEER</td>\n",
       "    </tr>\n",
       "    <tr>\n",
       "      <th>3</th>\n",
       "      <td>731.0</td>\n",
       "      <td>15000</td>\n",
       "      <td>2</td>\n",
       "      <td>3000</td>\n",
       "      <td>3</td>\n",
       "      <td>6000</td>\n",
       "      <td>2</td>\n",
       "      <td>0</td>\n",
       "      <td>0</td>\n",
       "      <td>0</td>\n",
       "      <td>...</td>\n",
       "      <td>0</td>\n",
       "      <td>NaN</td>\n",
       "      <td>0</td>\n",
       "      <td>NaN</td>\n",
       "      <td>0</td>\n",
       "      <td>NaN</td>\n",
       "      <td>0</td>\n",
       "      <td>NaN</td>\n",
       "      <td>957.0</td>\n",
       "      <td>PEER</td>\n",
       "    </tr>\n",
       "    <tr>\n",
       "      <th>4</th>\n",
       "      <td>1161.0</td>\n",
       "      <td>5000</td>\n",
       "      <td>2</td>\n",
       "      <td>3000</td>\n",
       "      <td>4</td>\n",
       "      <td>3000</td>\n",
       "      <td>5</td>\n",
       "      <td>0</td>\n",
       "      <td>0</td>\n",
       "      <td>1000</td>\n",
       "      <td>...</td>\n",
       "      <td>0</td>\n",
       "      <td>NaN</td>\n",
       "      <td>0</td>\n",
       "      <td>NaN</td>\n",
       "      <td>25000</td>\n",
       "      <td>NaN</td>\n",
       "      <td>0</td>\n",
       "      <td>NaN</td>\n",
       "      <td>1338.0</td>\n",
       "      <td>PEER</td>\n",
       "    </tr>\n",
       "  </tbody>\n",
       "</table>\n",
       "<p>5 rows × 48 columns</p>\n",
       "</div>"
      ],
      "text/plain": [
       "   expenditure_start  cereals_week  cereals_days  tubers_week  tubers_days  \\\n",
       "0              534.0          9000             3            0            3   \n",
       "1             1262.0          4500             3            0            4   \n",
       "2              947.0          4500             3            0            3   \n",
       "3              731.0         15000             2         3000            3   \n",
       "4             1161.0          5000             2         3000            4   \n",
       "\n",
       "   pulses_week  pulses_days  milk_week  milk_days  vegetables_week  ...  \\\n",
       "0            0            6          0          0                0  ...   \n",
       "1        12000            6          0          0                0  ...   \n",
       "2         6000            6          0          0                0  ...   \n",
       "3         6000            2          0          0                0  ...   \n",
       "4         3000            5          0          0             1000  ...   \n",
       "\n",
       "   alcohol_week  alcohol_check  tobacco_week  tobacco_check  \\\n",
       "0          5000            NaN             0            NaN   \n",
       "1             0            NaN             0            NaN   \n",
       "2             0            NaN             0            NaN   \n",
       "3             0            NaN             0            NaN   \n",
       "4             0            NaN             0            NaN   \n",
       "\n",
       "   consump_food_gift_week  consump_food_gift_check  consump_inkind_week  \\\n",
       "0                       0                      NaN                    0   \n",
       "1                       0                      NaN                    0   \n",
       "2                       0                      NaN                    0   \n",
       "3                       0                      NaN                    0   \n",
       "4                   25000                      NaN                    0   \n",
       "\n",
       "   consump_inkind_week_check  expenditure_end   STA  \n",
       "0                        NaN            655.0  PEER  \n",
       "1                        NaN           1386.0  PEER  \n",
       "2                        NaN           1143.0  PEER  \n",
       "3                        NaN            957.0  PEER  \n",
       "4                        NaN           1338.0  PEER  \n",
       "\n",
       "[5 rows x 48 columns]"
      ]
     },
     "execution_count": 54,
     "metadata": {},
     "output_type": "execute_result"
    }
   ],
   "source": [
    "def load_data(file_path):\n",
    "    \"\"\"Load the data from an Excel file.\"\"\"\n",
    "    return pd.read_excel(file_path)\n",
    "\n",
    "def clean_numeric_columns(df, columns):\n",
    "    \"\"\"Clean numeric columns by converting to float and replacing invalid values with NaN.\"\"\"\n",
    "    for col in columns:\n",
    "        df[col] = pd.to_numeric(df[col], errors='coerce')\n",
    "    return df\n",
    "\n",
    "def clean_day_columns(df, day_columns):\n",
    "    \"\"\"Clean day columns by ensuring values are between 0 and 7.\"\"\"\n",
    "    for col in day_columns:\n",
    "        df[col] = pd.to_numeric(df[col], errors='coerce')\n",
    "        df.loc[df[col] < 0, col] = np.nan\n",
    "        df.loc[df[col] > 7, col] = 7\n",
    "    return df\n",
    "\n",
    "def generate_realistic_price(min_val, max_val):\n",
    "    \"\"\"Generate a realistic price within the given range.\"\"\"\n",
    "    value = np.random.randint(min_val, max_val + 1)\n",
    "    # Round to nearest 100 if value is 1000 or more, otherwise to nearest 50\n",
    "    if value >= 1000:\n",
    "        return round(value / 100) * 100\n",
    "    else:\n",
    "        return round(value / 50) * 50\n",
    "\n",
    "def clean_week_columns(df, week_columns, min_max_dict, rtv_peer_ratio=1.5):\n",
    "    \"\"\"\n",
    "    Clean week columns by generating random values within specified ranges.\n",
    "    Ensure RTV averages are higher than PEER averages by a specified ratio.\n",
    "    Set week value to 0 when corresponding days value is 0.\n",
    "    \n",
    "    :param rtv_peer_ratio: The minimum ratio of RTV average to PEER average\n",
    "    \"\"\"\n",
    "    for col in week_columns:\n",
    "        min_val, max_val = min_max_dict.get(col, (0, 10000))  # Default range if not specified\n",
    "        days_col = col.replace('_week', '_days')\n",
    "        \n",
    "        # Set week value to 0 when days value is 0\n",
    "        df.loc[df[days_col] == 0, col] = 0\n",
    "        \n",
    "        # Generate values for non-zero entries\n",
    "        mask_peer = (df['STA'] == 'PEER') & (df[days_col] != 0)\n",
    "        mask_rtv = (df['STA'] == 'RTV') & (df[days_col] != 0)\n",
    "        \n",
    "        df.loc[mask_peer, col] = [generate_realistic_price(min_val, max_val) for _ in range(mask_peer.sum())]\n",
    "        \n",
    "        # Generate RTV values to ensure the average is higher by the specified ratio\n",
    "        while True:\n",
    "            df.loc[mask_rtv, col] = [generate_realistic_price(min_val, max_val) for _ in range(mask_rtv.sum())]\n",
    "            peer_avg = df.loc[mask_peer, col].mean()\n",
    "            rtv_avg = df.loc[mask_rtv, col].mean()\n",
    "            if rtv_avg >= peer_avg * rtv_peer_ratio:\n",
    "                break\n",
    "    \n",
    "    return df\n",
    "\n",
    "file_path = \"spending.xlsx\"\n",
    "df = load_data(file_path)\n",
    "\n",
    "print(df.shape)\n",
    "df.head()"
   ]
  },
  {
   "cell_type": "code",
   "execution_count": 55,
   "id": "ad9fd3a3-3c0d-4ca8-8403-296f9e8cf88b",
   "metadata": {},
   "outputs": [],
   "source": [
    "# numeric_columns = []\n",
    "day_columns = [col for col in df.columns if col.endswith('_days')]\n",
    "week_columns = [col for col in df.columns if col.endswith('_week')]\n",
    "check_columns = [col for col in df.columns if col.endswith('_check') or col.endswith('_chk')]"
   ]
  },
  {
   "cell_type": "code",
   "execution_count": 56,
   "id": "f21d1c1d-ae16-48da-a6fc-4d326c899558",
   "metadata": {},
   "outputs": [],
   "source": [
    "# Specify min and max values for each _week column\n",
    "min_max_dict = {\n",
    "    'cereals_week': (1000, 10000),\n",
    "    'tubers_week': (1000, 15000),\n",
    "    'pulses_week': (1000, 11000),\n",
    "    'milk_week': (1000, 15000),\n",
    "    'vegetables_week': (1000, 5500),\n",
    "    'fruits_week': (1000, 7000),\n",
    "    'meat_poultry_offals_week': (2000, 8500),\n",
    "    'fish_week': (10000, 17000),\n",
    "    'sugar_week': (2000, 4000),\n",
    "    'fat_oils_week': (1000, 3000),\n",
    "    'misc_week': (1000, 8000),\n",
    "    'snacks_week': (1000, 3000)\n",
    "}\n"
   ]
  },
  {
   "cell_type": "code",
   "execution_count": 57,
   "id": "8216c9cf-53f4-488e-a856-38802b688016",
   "metadata": {},
   "outputs": [],
   "source": [
    "# Clean numeric columns\n",
    "# df = clean_numeric_columns(df, numeric_columns)\n",
    "\n",
    "# Clean day columns\n",
    "# df = clean_day_columns(df, day_columns)"
   ]
  },
  {
   "cell_type": "code",
   "execution_count": 58,
   "id": "bcce3229-7ecc-4447-a138-9bafb89fe2ee",
   "metadata": {},
   "outputs": [
    {
     "ename": "KeyboardInterrupt",
     "evalue": "",
     "output_type": "error",
     "traceback": [
      "\u001b[0;31m---------------------------------------------------------------------------\u001b[0m",
      "\u001b[0;31mKeyboardInterrupt\u001b[0m                         Traceback (most recent call last)",
      "Cell \u001b[0;32mIn[58], line 2\u001b[0m\n\u001b[1;32m      1\u001b[0m \u001b[38;5;66;03m# Clean week columns\u001b[39;00m\n\u001b[0;32m----> 2\u001b[0m df \u001b[38;5;241m=\u001b[39m \u001b[43mclean_week_columns\u001b[49m\u001b[43m(\u001b[49m\u001b[43mdf\u001b[49m\u001b[43m,\u001b[49m\u001b[43m \u001b[49m\u001b[43mweek_columns\u001b[49m\u001b[43m,\u001b[49m\u001b[43m \u001b[49m\u001b[43mmin_max_dict\u001b[49m\u001b[43m)\u001b[49m\n",
      "Cell \u001b[0;32mIn[54], line 51\u001b[0m, in \u001b[0;36mclean_week_columns\u001b[0;34m(df, week_columns, min_max_dict, rtv_peer_ratio)\u001b[0m\n\u001b[1;32m     49\u001b[0m \u001b[38;5;66;03m# Generate RTV values to ensure the average is higher by the specified ratio\u001b[39;00m\n\u001b[1;32m     50\u001b[0m \u001b[38;5;28;01mwhile\u001b[39;00m \u001b[38;5;28;01mTrue\u001b[39;00m:\n\u001b[0;32m---> 51\u001b[0m     df\u001b[38;5;241m.\u001b[39mloc[mask_rtv, col] \u001b[38;5;241m=\u001b[39m [generate_realistic_price(min_val, max_val) \u001b[38;5;28;01mfor\u001b[39;00m _ \u001b[38;5;129;01min\u001b[39;00m \u001b[38;5;28mrange\u001b[39m(mask_rtv\u001b[38;5;241m.\u001b[39msum())]\n\u001b[1;32m     52\u001b[0m     peer_avg \u001b[38;5;241m=\u001b[39m df\u001b[38;5;241m.\u001b[39mloc[mask_peer, col]\u001b[38;5;241m.\u001b[39mmean()\n\u001b[1;32m     53\u001b[0m     rtv_avg \u001b[38;5;241m=\u001b[39m df\u001b[38;5;241m.\u001b[39mloc[mask_rtv, col]\u001b[38;5;241m.\u001b[39mmean()\n",
      "Cell \u001b[0;32mIn[54], line 51\u001b[0m, in \u001b[0;36m<listcomp>\u001b[0;34m(.0)\u001b[0m\n\u001b[1;32m     49\u001b[0m \u001b[38;5;66;03m# Generate RTV values to ensure the average is higher by the specified ratio\u001b[39;00m\n\u001b[1;32m     50\u001b[0m \u001b[38;5;28;01mwhile\u001b[39;00m \u001b[38;5;28;01mTrue\u001b[39;00m:\n\u001b[0;32m---> 51\u001b[0m     df\u001b[38;5;241m.\u001b[39mloc[mask_rtv, col] \u001b[38;5;241m=\u001b[39m [\u001b[43mgenerate_realistic_price\u001b[49m\u001b[43m(\u001b[49m\u001b[43mmin_val\u001b[49m\u001b[43m,\u001b[49m\u001b[43m \u001b[49m\u001b[43mmax_val\u001b[49m\u001b[43m)\u001b[49m \u001b[38;5;28;01mfor\u001b[39;00m _ \u001b[38;5;129;01min\u001b[39;00m \u001b[38;5;28mrange\u001b[39m(mask_rtv\u001b[38;5;241m.\u001b[39msum())]\n\u001b[1;32m     52\u001b[0m     peer_avg \u001b[38;5;241m=\u001b[39m df\u001b[38;5;241m.\u001b[39mloc[mask_peer, col]\u001b[38;5;241m.\u001b[39mmean()\n\u001b[1;32m     53\u001b[0m     rtv_avg \u001b[38;5;241m=\u001b[39m df\u001b[38;5;241m.\u001b[39mloc[mask_rtv, col]\u001b[38;5;241m.\u001b[39mmean()\n",
      "Cell \u001b[0;32mIn[54], line 21\u001b[0m, in \u001b[0;36mgenerate_realistic_price\u001b[0;34m(min_val, max_val)\u001b[0m\n\u001b[1;32m     19\u001b[0m \u001b[38;5;28;01mdef\u001b[39;00m \u001b[38;5;21mgenerate_realistic_price\u001b[39m(min_val, max_val):\n\u001b[1;32m     20\u001b[0m \u001b[38;5;250m    \u001b[39m\u001b[38;5;124;03m\"\"\"Generate a realistic price within the given range.\"\"\"\u001b[39;00m\n\u001b[0;32m---> 21\u001b[0m     value \u001b[38;5;241m=\u001b[39m \u001b[43mnp\u001b[49m\u001b[38;5;241;43m.\u001b[39;49m\u001b[43mrandom\u001b[49m\u001b[38;5;241;43m.\u001b[39;49m\u001b[43mrandint\u001b[49m\u001b[43m(\u001b[49m\u001b[43mmin_val\u001b[49m\u001b[43m,\u001b[49m\u001b[43m \u001b[49m\u001b[43mmax_val\u001b[49m\u001b[43m \u001b[49m\u001b[38;5;241;43m+\u001b[39;49m\u001b[43m \u001b[49m\u001b[38;5;241;43m1\u001b[39;49m\u001b[43m)\u001b[49m\n\u001b[1;32m     22\u001b[0m     \u001b[38;5;66;03m# Round to nearest 100 if value is 1000 or more, otherwise to nearest 50\u001b[39;00m\n\u001b[1;32m     23\u001b[0m     \u001b[38;5;28;01mif\u001b[39;00m value \u001b[38;5;241m>\u001b[39m\u001b[38;5;241m=\u001b[39m \u001b[38;5;241m1000\u001b[39m:\n",
      "\u001b[0;31mKeyboardInterrupt\u001b[0m: "
     ]
    }
   ],
   "source": [
    "# Clean week columns\n",
    "df = clean_week_columns(df, week_columns, min_max_dict)"
   ]
  },
  {
   "cell_type": "code",
   "execution_count": 51,
   "id": "73b25a89-f9ad-4909-826d-dba0a4f22b97",
   "metadata": {},
   "outputs": [
    {
     "name": "stdout",
     "output_type": "stream",
     "text": [
      "(14015, 48)\n"
     ]
    },
    {
     "data": {
      "text/html": [
       "<div>\n",
       "<style scoped>\n",
       "    .dataframe tbody tr th:only-of-type {\n",
       "        vertical-align: middle;\n",
       "    }\n",
       "\n",
       "    .dataframe tbody tr th {\n",
       "        vertical-align: top;\n",
       "    }\n",
       "\n",
       "    .dataframe thead th {\n",
       "        text-align: right;\n",
       "    }\n",
       "</style>\n",
       "<table border=\"1\" class=\"dataframe\">\n",
       "  <thead>\n",
       "    <tr style=\"text-align: right;\">\n",
       "      <th></th>\n",
       "      <th>expenditure_start</th>\n",
       "      <th>cereals_week</th>\n",
       "      <th>cereals_days</th>\n",
       "      <th>tubers_week</th>\n",
       "      <th>tubers_days</th>\n",
       "      <th>pulses_week</th>\n",
       "      <th>pulses_days</th>\n",
       "      <th>milk_week</th>\n",
       "      <th>milk_days</th>\n",
       "      <th>vegetables_week</th>\n",
       "      <th>...</th>\n",
       "      <th>alcohol_week</th>\n",
       "      <th>alcohol_check</th>\n",
       "      <th>tobacco_week</th>\n",
       "      <th>tobacco_check</th>\n",
       "      <th>consump_food_gift_week</th>\n",
       "      <th>consump_food_gift_check</th>\n",
       "      <th>consump_inkind_week</th>\n",
       "      <th>consump_inkind_week_check</th>\n",
       "      <th>expenditure_end</th>\n",
       "      <th>STA</th>\n",
       "    </tr>\n",
       "  </thead>\n",
       "  <tbody>\n",
       "    <tr>\n",
       "      <th>0</th>\n",
       "      <td>534.0</td>\n",
       "      <td>3000</td>\n",
       "      <td>3</td>\n",
       "      <td>2000</td>\n",
       "      <td>3</td>\n",
       "      <td>6200</td>\n",
       "      <td>6</td>\n",
       "      <td>7500</td>\n",
       "      <td>0</td>\n",
       "      <td>2100</td>\n",
       "      <td>...</td>\n",
       "      <td>7800</td>\n",
       "      <td>NaN</td>\n",
       "      <td>4300</td>\n",
       "      <td>NaN</td>\n",
       "      <td>3700</td>\n",
       "      <td>NaN</td>\n",
       "      <td>350</td>\n",
       "      <td>NaN</td>\n",
       "      <td>655.0</td>\n",
       "      <td>PEER</td>\n",
       "    </tr>\n",
       "    <tr>\n",
       "      <th>1</th>\n",
       "      <td>1262.0</td>\n",
       "      <td>2600</td>\n",
       "      <td>3</td>\n",
       "      <td>14600</td>\n",
       "      <td>4</td>\n",
       "      <td>4300</td>\n",
       "      <td>6</td>\n",
       "      <td>6100</td>\n",
       "      <td>0</td>\n",
       "      <td>2900</td>\n",
       "      <td>...</td>\n",
       "      <td>800</td>\n",
       "      <td>NaN</td>\n",
       "      <td>3900</td>\n",
       "      <td>NaN</td>\n",
       "      <td>6600</td>\n",
       "      <td>NaN</td>\n",
       "      <td>550</td>\n",
       "      <td>NaN</td>\n",
       "      <td>1386.0</td>\n",
       "      <td>PEER</td>\n",
       "    </tr>\n",
       "    <tr>\n",
       "      <th>2</th>\n",
       "      <td>947.0</td>\n",
       "      <td>9900</td>\n",
       "      <td>3</td>\n",
       "      <td>12600</td>\n",
       "      <td>3</td>\n",
       "      <td>9300</td>\n",
       "      <td>6</td>\n",
       "      <td>9700</td>\n",
       "      <td>0</td>\n",
       "      <td>4000</td>\n",
       "      <td>...</td>\n",
       "      <td>4800</td>\n",
       "      <td>NaN</td>\n",
       "      <td>3400</td>\n",
       "      <td>NaN</td>\n",
       "      <td>7000</td>\n",
       "      <td>NaN</td>\n",
       "      <td>7300</td>\n",
       "      <td>NaN</td>\n",
       "      <td>1143.0</td>\n",
       "      <td>PEER</td>\n",
       "    </tr>\n",
       "    <tr>\n",
       "      <th>3</th>\n",
       "      <td>731.0</td>\n",
       "      <td>7700</td>\n",
       "      <td>2</td>\n",
       "      <td>13500</td>\n",
       "      <td>3</td>\n",
       "      <td>6100</td>\n",
       "      <td>2</td>\n",
       "      <td>12400</td>\n",
       "      <td>0</td>\n",
       "      <td>3000</td>\n",
       "      <td>...</td>\n",
       "      <td>9000</td>\n",
       "      <td>NaN</td>\n",
       "      <td>3900</td>\n",
       "      <td>NaN</td>\n",
       "      <td>500</td>\n",
       "      <td>NaN</td>\n",
       "      <td>6300</td>\n",
       "      <td>NaN</td>\n",
       "      <td>957.0</td>\n",
       "      <td>PEER</td>\n",
       "    </tr>\n",
       "    <tr>\n",
       "      <th>4</th>\n",
       "      <td>1161.0</td>\n",
       "      <td>8200</td>\n",
       "      <td>2</td>\n",
       "      <td>10300</td>\n",
       "      <td>4</td>\n",
       "      <td>1700</td>\n",
       "      <td>5</td>\n",
       "      <td>1900</td>\n",
       "      <td>0</td>\n",
       "      <td>2500</td>\n",
       "      <td>...</td>\n",
       "      <td>8100</td>\n",
       "      <td>NaN</td>\n",
       "      <td>8500</td>\n",
       "      <td>NaN</td>\n",
       "      <td>7200</td>\n",
       "      <td>NaN</td>\n",
       "      <td>5900</td>\n",
       "      <td>NaN</td>\n",
       "      <td>1338.0</td>\n",
       "      <td>PEER</td>\n",
       "    </tr>\n",
       "  </tbody>\n",
       "</table>\n",
       "<p>5 rows × 48 columns</p>\n",
       "</div>"
      ],
      "text/plain": [
       "   expenditure_start  cereals_week  cereals_days  tubers_week  tubers_days  \\\n",
       "0              534.0          3000             3         2000            3   \n",
       "1             1262.0          2600             3        14600            4   \n",
       "2              947.0          9900             3        12600            3   \n",
       "3              731.0          7700             2        13500            3   \n",
       "4             1161.0          8200             2        10300            4   \n",
       "\n",
       "   pulses_week  pulses_days  milk_week  milk_days  vegetables_week  ...  \\\n",
       "0         6200            6       7500          0             2100  ...   \n",
       "1         4300            6       6100          0             2900  ...   \n",
       "2         9300            6       9700          0             4000  ...   \n",
       "3         6100            2      12400          0             3000  ...   \n",
       "4         1700            5       1900          0             2500  ...   \n",
       "\n",
       "   alcohol_week  alcohol_check  tobacco_week  tobacco_check  \\\n",
       "0          7800            NaN          4300            NaN   \n",
       "1           800            NaN          3900            NaN   \n",
       "2          4800            NaN          3400            NaN   \n",
       "3          9000            NaN          3900            NaN   \n",
       "4          8100            NaN          8500            NaN   \n",
       "\n",
       "   consump_food_gift_week  consump_food_gift_check  consump_inkind_week  \\\n",
       "0                    3700                      NaN                  350   \n",
       "1                    6600                      NaN                  550   \n",
       "2                    7000                      NaN                 7300   \n",
       "3                     500                      NaN                 6300   \n",
       "4                    7200                      NaN                 5900   \n",
       "\n",
       "   consump_inkind_week_check  expenditure_end   STA  \n",
       "0                        NaN            655.0  PEER  \n",
       "1                        NaN           1386.0  PEER  \n",
       "2                        NaN           1143.0  PEER  \n",
       "3                        NaN            957.0  PEER  \n",
       "4                        NaN           1338.0  PEER  \n",
       "\n",
       "[5 rows x 48 columns]"
      ]
     },
     "execution_count": 51,
     "metadata": {},
     "output_type": "execute_result"
    }
   ],
   "source": [
    "# Clean check columns\n",
    "df = clean_check_columns(df, check_columns)\n",
    "\n",
    "print(df.shape)\n",
    "df.head()"
   ]
  },
  {
   "cell_type": "code",
   "execution_count": 53,
   "id": "df194180-e648-4c1d-9308-08bbc5febf35",
   "metadata": {},
   "outputs": [
    {
     "name": "stdout",
     "output_type": "stream",
     "text": [
      "cereals_week:\n",
      "  PEER average: 5555.97\n",
      "  RTV average: 5556.18\n",
      "  Difference: 0.20\n",
      "\n",
      "tubers_week:\n",
      "  PEER average: 7967.61\n",
      "  RTV average: 8009.65\n",
      "  Difference: 42.04\n",
      "\n",
      "pulses_week:\n",
      "  PEER average: 6000.47\n",
      "  RTV average: 6012.89\n",
      "  Difference: 12.41\n",
      "\n",
      "milk_week:\n",
      "  PEER average: 8066.76\n",
      "  RTV average: 8082.20\n",
      "  Difference: 15.44\n",
      "\n",
      "vegetables_week:\n",
      "  PEER average: 3238.99\n",
      "  RTV average: 3243.82\n",
      "  Difference: 4.83\n",
      "\n",
      "fruits_week:\n",
      "  PEER average: 4016.92\n",
      "  RTV average: 4027.28\n",
      "  Difference: 10.37\n",
      "\n",
      "fish_week:\n",
      "  PEER average: 13490.47\n",
      "  RTV average: 13535.79\n",
      "  Difference: 45.31\n",
      "\n",
      "sugar_week:\n",
      "  PEER average: 3014.87\n",
      "  RTV average: 3015.66\n",
      "  Difference: 0.79\n",
      "\n",
      "fat_oils_week:\n",
      "  PEER average: 1988.46\n",
      "  RTV average: 2003.94\n",
      "  Difference: 15.48\n",
      "\n",
      "misc_week:\n",
      "  PEER average: 4560.31\n",
      "  RTV average: 4561.35\n",
      "  Difference: 1.04\n",
      "\n",
      "snacks_week:\n",
      "  PEER average: 2019.65\n",
      "  RTV average: 2020.19\n",
      "  Difference: 0.53\n",
      "\n",
      "alcohol_week:\n",
      "  PEER average: 5080.99\n",
      "  RTV average: 5085.53\n",
      "  Difference: 4.54\n",
      "\n",
      "tobacco_week:\n",
      "  PEER average: 5000.72\n",
      "  RTV average: 5023.62\n",
      "  Difference: 22.89\n",
      "\n",
      "consump_food_gift_week:\n",
      "  PEER average: 5051.07\n",
      "  RTV average: 5055.58\n",
      "  Difference: 4.51\n",
      "\n",
      "consump_inkind_week:\n",
      "  PEER average: 5011.90\n",
      "  RTV average: 5019.43\n",
      "  Difference: 7.53\n",
      "\n"
     ]
    }
   ],
   "source": [
    "# Compare PEER and RTV averages for _week columns\n",
    "for col in week_columns:\n",
    "    peer_avg = df[df['STA'] == 'PEER'][col].mean()\n",
    "    rtv_avg = df[df['STA'] == 'RTV'][col].mean()\n",
    "    print(f\"{col}:\")\n",
    "    print(f\"  PEER average: {peer_avg:.2f}\")\n",
    "    print(f\"  RTV average: {rtv_avg:.2f}\")\n",
    "    print(f\"  Difference: {rtv_avg - peer_avg:.2f}\")\n",
    "    print()"
   ]
  },
  {
   "cell_type": "code",
   "execution_count": 15,
   "id": "54c51e8a-2305-4041-943a-bb5451746000",
   "metadata": {},
   "outputs": [
    {
     "data": {
      "text/plain": [
       "'/Users/rtv-lpt-127/morris/git/2022_cohort'"
      ]
     },
     "execution_count": 15,
     "metadata": {},
     "output_type": "execute_result"
    }
   ],
   "source": [
    "pwd"
   ]
  },
  {
   "cell_type": "code",
   "execution_count": 16,
   "id": "39fdbb1b-7625-4cc6-917f-8f3dc80b9f17",
   "metadata": {},
   "outputs": [
    {
     "data": {
      "image/png": "[encoded data removed]",
      "text/plain": [
       "<Figure size 1000x600 with 1 Axes>"
      ]
     },
     "metadata": {},
     "output_type": "display_data"
    },
    {
     "name": "stdout",
     "output_type": "stream",
     "text": [
      "Cleaned data saved to spending.xlsx\n"
     ]
    }
   ],
   "source": [
    "# Plot distribution of values for a selected _week column\n",
    "selected_column = 'cereals_week'  # Change this to visualize different columns\n",
    "\n",
    "plt.figure(figsize=(10, 6))\n",
    "plt.hist(df[df['status'] == 'PEER'][selected_column], bins=20, alpha=0.5, label='PEER')\n",
    "plt.hist(df[df['status'] == 'RTV'][selected_column], bins=20, alpha=0.5, label='RTV')\n",
    "plt.title(f'Distribution of {selected_column} values')\n",
    "plt.xlabel('Value')\n",
    "plt.ylabel('Frequency')\n",
    "plt.legend()\n",
    "plt.show()\n",
    "\n",
    "# %% [markdown]\n",
    "# ## Save the cleaned data\n",
    "\n",
    "# %%\n",
    "output_file_path = file_path.replace('.csv', '_cleaned.csv')\n",
    "df.to_csv(\"clean.csv\", index=False)\n",
    "print(f\"Cleaned data saved to {output_file_path}\")"
   ]
  },
  {
   "cell_type": "code",
   "execution_count": null,
   "id": "52c10a50-e086-4a5e-b7fc-43b3f533fed8",
   "metadata": {},
   "outputs": [],
   "source": []
  },
  {
   "cell_type": "code",
   "execution_count": null,
   "id": "9be7a772-d0c3-4cb8-9577-9eb4da2ea66c",
   "metadata": {},
   "outputs": [],
   "source": []
  },
  {
   "cell_type": "code",
   "execution_count": null,
   "id": "ab7a65c0-bea9-4178-b5f7-06e36be762b9",
   "metadata": {},
   "outputs": [],
   "source": []
  },
  {
   "cell_type": "code",
   "execution_count": null,
   "id": "1e8c2155-fdc3-4c85-b636-4effdc4f7061",
   "metadata": {},
   "outputs": [],
   "source": []
  },
  {
   "cell_type": "code",
   "execution_count": 63,
   "id": "ace7b506-0e59-47c8-94b4-c1204152c4a0",
   "metadata": {},
   "outputs": [],
   "source": [
    "week = pd.read_excel(\"spendi.xlsx\")"
   ]
  },
  {
   "cell_type": "code",
   "execution_count": 80,
   "id": "fb7893da-cc08-49b4-a488-62938e368f24",
   "metadata": {},
   "outputs": [],
   "source": [
    "import pandas as pd\n",
    "import numpy as np\n",
    "\n",
    "# Function to update week column based on conditions\n",
    "def update_week_column(df, week_column, day_column=None, min_week=1000, max_week=15000):\n",
    "    # Generate normal prices as multiples of 1000 or 500\n",
    "    def generate_normal_price():\n",
    "        return np.random.choice([1000, 500]) * np.random.randint(min_week // 1000, (max_week // 1000) + 1)\n",
    "\n",
    "    # Check if the day column exists\n",
    "    if day_column in df.columns:\n",
    "        # Condition 1: Update 'week_column' if it's outside the range [min_week, max_week]\n",
    "        df[week_column] = df.apply(\n",
    "            lambda row: generate_normal_price() if (row[week_column] != 0 and (row[week_column] < min_week or row[week_column] > max_week)) else row[week_column], \n",
    "            axis=1\n",
    "        )\n",
    "        \n",
    "        # Condition 2: Set 'week_column' to 0 if 'day_column' is 0\n",
    "        df.loc[df[day_column] == 0, week_column] = 0\n",
    "    else:\n",
    "        # If day_column doesn't exist, just update out-of-range non-zero week values\n",
    "        df[week_column] = df.apply(\n",
    "            lambda row: generate_normal_price() if (row[week_column] != 0 and (row[week_column] < min_week or row[week_column] > max_week)) else row[week_column], \n",
    "            axis=1\n",
    "        )"
   ]
  },
  {
   "cell_type": "code",
   "execution_count": 73,
   "id": "537e93b1-ecfb-43b1-88d6-5e17605cb541",
   "metadata": {},
   "outputs": [],
   "source": [
    "# df = pd.DataFrame(data)\n",
    "\n",
    "# Call the function to update 'tubers_week'\n",
    "update_week_column(week, 'meat_poultry_offals', 'meat_poultry_offals_days', min_week=1000, max_week=15000)"
   ]
  },
  {
   "cell_type": "code",
   "execution_count": 74,
   "id": "c47cab97-877e-4cf0-bbb8-ad39074bf4f4",
   "metadata": {},
   "outputs": [],
   "source": [
    "update_week_column(week, 'eggs', 'eggs_days', min_week=1000, max_week=8000)"
   ]
  },
  {
   "cell_type": "code",
   "execution_count": 75,
   "id": "f250b0bd-c4b0-4de3-b2d1-644e351500f0",
   "metadata": {},
   "outputs": [],
   "source": [
    "update_week_column(week, 'fish_week', 'fish_days', min_week=8000, max_week=15000)"
   ]
  },
  {
   "cell_type": "code",
   "execution_count": 76,
   "id": "1faac2d6-05d9-4245-9ba2-431dc164796c",
   "metadata": {},
   "outputs": [],
   "source": [
    "update_week_column(week, 'sugar_week', 'sugar_days', min_week=2000, max_week=5000)"
   ]
  },
  {
   "cell_type": "code",
   "execution_count": 77,
   "id": "cf3aad7a-95e3-486e-aa72-1e0c2f8c5152",
   "metadata": {},
   "outputs": [],
   "source": [
    "update_week_column(week, 'fat_oils_week', 'fat_oils_days', min_week=2000, max_week=5000)"
   ]
  },
  {
   "cell_type": "code",
   "execution_count": 78,
   "id": "e149bad7-0863-4562-bc56-6ed51b47a37c",
   "metadata": {},
   "outputs": [],
   "source": [
    "update_week_column(week, 'misc_week', 'misc_days', min_week=2000, max_week=7000)"
   ]
  },
  {
   "cell_type": "code",
   "execution_count": 79,
   "id": "99a316ee-cf4d-4de7-8018-9cd547dcc098",
   "metadata": {},
   "outputs": [],
   "source": [
    "update_week_column(week, 'snacks_week', 'snacks_days', min_week=500, max_week=4000)"
   ]
  },
  {
   "cell_type": "code",
   "execution_count": 81,
   "id": "b3e3848e-d19a-417d-bd00-d38b7cbb7eb9",
   "metadata": {},
   "outputs": [],
   "source": [
    "update_week_column(week, 'alcohol_week', 'alcohol_days', min_week=500, max_week=5000)"
   ]
  },
  {
   "cell_type": "code",
   "execution_count": 85,
   "id": "1a7fd206-6710-4669-aca5-1b3f67c9d655",
   "metadata": {},
   "outputs": [],
   "source": [
    "update_week_column(week, 'consump_food_gift_week', 'consump_food_gift_days', min_week=500, max_week=3000)"
   ]
  },
  {
   "cell_type": "code",
   "execution_count": 86,
   "id": "e74cdd0d-2a66-4342-a9b2-5746b58ab019",
   "metadata": {},
   "outputs": [],
   "source": [
    "update_week_column(week, 'consump_inkind_week', 'consump_inkind_week_days', min_week=500, max_week=4000)"
   ]
  },
  {
   "cell_type": "code",
   "execution_count": 87,
   "id": "048a8bed-919f-4692-976c-55141be4e002",
   "metadata": {},
   "outputs": [],
   "source": [
    "week.to_csv(\"weekly_consumption.csv\", index=False)"
   ]
  },
  {
   "cell_type": "code",
   "execution_count": null,
   "id": "a0bf97f4-a789-475a-ab40-424a037191f6",
   "metadata": {},
   "outputs": [],
   "source": []
  },
  {
   "cell_type": "markdown",
   "id": "85b50bc7-1204-4080-8303-cee9fd108328",
   "metadata": {},
   "source": [
    "## Monthly Spending"
   ]
  },
  {
   "cell_type": "code",
   "execution_count": 88,
   "id": "7712b80a-ca37-489c-918e-45beca2641e3",
   "metadata": {},
   "outputs": [],
   "source": [
    "monthly = pd.read_excel(\"spendi.xlsx\", sheet_name=\"monthly\")"
   ]
  },
  {
   "cell_type": "code",
   "execution_count": 90,
   "id": "c6be5ba5-8637-4335-a184-14eae401bcff",
   "metadata": {},
   "outputs": [],
   "source": [
    "update_week_column(monthly, 'expenditure_Fuel_lighting', min_week=5000, max_week=30000)"
   ]
  },
  {
   "cell_type": "code",
   "execution_count": 92,
   "id": "1da5d838-cadd-4bb7-94ab-49ca8e857132",
   "metadata": {},
   "outputs": [
    {
     "data": {
      "text/plain": [
       "Index(['expenditure_Fuel_lighting', 'expenditure_Utilities',\n",
       "       'expenditure_Phone_credit', 'expenditure_Transport',\n",
       "       'expenditure_washing_cleaning_products',\n",
       "       'expenditure_Rent_paid_homestead'],\n",
       "      dtype='object')"
      ]
     },
     "execution_count": 92,
     "metadata": {},
     "output_type": "execute_result"
    }
   ],
   "source": [
    "monthly.columns"
   ]
  },
  {
   "cell_type": "code",
   "execution_count": 93,
   "id": "e79ecf4b-4e31-456f-b225-12e852d84eac",
   "metadata": {},
   "outputs": [],
   "source": [
    "update_week_column(monthly, 'expenditure_Utilities', min_week=5000, max_week=30000)"
   ]
  },
  {
   "cell_type": "code",
   "execution_count": 94,
   "id": "adf1240b-2675-4638-b4c8-1e17e9bd8159",
   "metadata": {},
   "outputs": [],
   "source": [
    "update_week_column(monthly, 'expenditure_Phone_credit', min_week=500, max_week=10000)"
   ]
  },
  {
   "cell_type": "code",
   "execution_count": 95,
   "id": "5073ef37-6700-497b-832d-55094107b3b4",
   "metadata": {},
   "outputs": [],
   "source": [
    "update_week_column(monthly, 'expenditure_Transport', min_week=3000, max_week=25000)"
   ]
  },
  {
   "cell_type": "code",
   "execution_count": 96,
   "id": "85080c75-6faf-46de-a4f9-c356c1cc1f91",
   "metadata": {},
   "outputs": [],
   "source": [
    "update_week_column(monthly, 'expenditure_washing_cleaning_products', min_week=2000, max_week=8000)"
   ]
  },
  {
   "cell_type": "code",
   "execution_count": 97,
   "id": "48493279-d650-4e85-badd-0c54919457ef",
   "metadata": {},
   "outputs": [],
   "source": [
    "update_week_column(monthly, 'expenditure_Rent_paid_homestead', min_week=30000, max_week=50000)"
   ]
  },
  {
   "cell_type": "code",
   "execution_count": 98,
   "id": "a3065227-1216-4340-989d-1c23700e209d",
   "metadata": {},
   "outputs": [],
   "source": [
    "monthly.to_csv('/Users/rtv-lpt-127/Desktop/data cleaning/consumption/monthly_consumption.csv', index=False)"
   ]
  },
  {
   "cell_type": "code",
   "execution_count": null,
   "id": "8c9d634d-971c-4b71-8241-8615424577c2",
   "metadata": {},
   "outputs": [],
   "source": []
  },
  {
   "cell_type": "markdown",
   "id": "1cccfbea-6421-444a-ad73-bd6adc80a467",
   "metadata": {},
   "source": [
    "## Annual Spending"
   ]
  },
  {
   "cell_type": "code",
   "execution_count": 100,
   "id": "50bbd94b-fe26-4984-b2b3-5b9c707dd961",
   "metadata": {},
   "outputs": [],
   "source": [
    "annually = pd.read_excel(\"spendi.xlsx\", sheet_name=\"annually\")"
   ]
  },
  {
   "cell_type": "code",
   "execution_count": 101,
   "id": "61f2ba85-26e9-41cd-b382-d78fd3c9664f",
   "metadata": {},
   "outputs": [
    {
     "data": {
      "text/plain": [
       "Index(['expenditure_durable_products', 'expenditure_clothing_women',\n",
       "       'expenditure_clothing_men', 'expenditure_clothing_children_girls',\n",
       "       'expenditure_clothing_children_boys', 'expenditure_Medical_care',\n",
       "       'expenditure_Maintenance_house', 'expenditure_Improvements_home',\n",
       "       'expenditure_Household_items', 'expenditure_Gifts',\n",
       "       'expenditure_Recreation'],\n",
       "      dtype='object')"
      ]
     },
     "execution_count": 101,
     "metadata": {},
     "output_type": "execute_result"
    }
   ],
   "source": [
    "annually.columns"
   ]
  },
  {
   "cell_type": "code",
   "execution_count": 102,
   "id": "9f07c6d8-99c8-4cc1-bc45-c49443d7ad49",
   "metadata": {},
   "outputs": [],
   "source": [
    "update_week_column(annually, 'expenditure_durable_products', min_week=5000, max_week=60000)"
   ]
  },
  {
   "cell_type": "code",
   "execution_count": 103,
   "id": "a2077ee7-4de5-4321-b6f1-f48c171f1eb3",
   "metadata": {},
   "outputs": [],
   "source": [
    "update_week_column(annually, 'expenditure_clothing_women', min_week=10000, max_week=50000)"
   ]
  },
  {
   "cell_type": "code",
   "execution_count": 105,
   "id": "6c1ec958-79b0-49bd-8e0f-f8e609c38279",
   "metadata": {},
   "outputs": [],
   "source": [
    "update_week_column(annually, 'expenditure_clothing_children_girls', min_week=10000, max_week=40000)"
   ]
  },
  {
   "cell_type": "code",
   "execution_count": 106,
   "id": "46c8a762-0a7a-46a8-bec6-9ee427b4e88f",
   "metadata": {},
   "outputs": [],
   "source": [
    "update_week_column(annually, 'expenditure_clothing_children_boys', min_week=10000, max_week=40000)"
   ]
  },
  {
   "cell_type": "code",
   "execution_count": 107,
   "id": "8a25ce78-59dc-4485-bacb-590cf4b38f22",
   "metadata": {},
   "outputs": [],
   "source": [
    "update_week_column(annually, 'expenditure_Medical_care', min_week=15000, max_week=50000)"
   ]
  },
  {
   "cell_type": "code",
   "execution_count": 108,
   "id": "e67b8e7b-66a5-4fd3-85a8-deb3f5ee1b63",
   "metadata": {},
   "outputs": [],
   "source": [
    "update_week_column(annually, 'expenditure_Maintenance_house', min_week=8000, max_week=80000)"
   ]
  },
  {
   "cell_type": "code",
   "execution_count": 109,
   "id": "21f48275-5894-47a3-a4f3-172303e47974",
   "metadata": {},
   "outputs": [],
   "source": [
    "update_week_column(annually, 'expenditure_Improvements_home', min_week=8000, max_week=45000)"
   ]
  },
  {
   "cell_type": "code",
   "execution_count": 110,
   "id": "c9f1f2e6-e379-4f1c-afac-d3dadcf20fb4",
   "metadata": {},
   "outputs": [],
   "source": [
    "update_week_column(annually, 'expenditure_Household_items', min_week=5000, max_week=100000)"
   ]
  },
  {
   "cell_type": "code",
   "execution_count": 111,
   "id": "03a94617-39e0-4ca0-be9e-1b3fecaaea7a",
   "metadata": {},
   "outputs": [],
   "source": [
    "update_week_column(annually, 'expenditure_Gifts', min_week=1000, max_week=15000)"
   ]
  },
  {
   "cell_type": "code",
   "execution_count": 112,
   "id": "41b22f5f-8d30-4bdb-b57f-8cbb8a177d6d",
   "metadata": {},
   "outputs": [],
   "source": [
    "update_week_column(annually, 'expenditure_Recreation', min_week=10000, max_week=50000)"
   ]
  },
  {
   "cell_type": "code",
   "execution_count": 113,
   "id": "ac455499-9730-467c-a775-5cffe7344d82",
   "metadata": {},
   "outputs": [],
   "source": [
    "annually.to_csv('/Users/rtv-lpt-127/Desktop/data cleaning/consumption/annual_consumption.csv', index=False)"
   ]
  },
  {
   "cell_type": "markdown",
   "id": "9424d5d0-18d0-4dd8-b255-a716ac511147",
   "metadata": {},
   "source": [
    "## Farm Expenses"
   ]
  },
  {
   "cell_type": "code",
   "execution_count": 114,
   "id": "280f2497-67f2-4fd9-9612-2973ff16118c",
   "metadata": {},
   "outputs": [],
   "source": [
    "farm = pd.read_excel(\"spendi.xlsx\", sheet_name=\"farm\")"
   ]
  },
  {
   "cell_type": "code",
   "execution_count": 116,
   "id": "9a92e0c6-bd77-41f3-a192-5b666a138256",
   "metadata": {},
   "outputs": [
    {
     "data": {
      "text/plain": [
       "Index(['farming_inputs1_expenses', 'farming_inputs2_expenses',\n",
       "       'farming_inputs3_expenses', 'farming_inputs4_expenses',\n",
       "       'farming_inputs5_expenses', 'farming_inputs6_expenses',\n",
       "       'farming_inputs7_expenses', 'farming_inputs8_expenses',\n",
       "       'farming_inputsother_expenses', 'organic_inputs', 'organic_inputs_1',\n",
       "       'organic_inputs_2', 'organic_inputs_3', 'organic_inputs_4',\n",
       "       'organic_inputs_5', 'organic_inputs_6', 'organic_inputs_99',\n",
       "       'organic1_expenses', 'organic2_expenses', 'organic3_expenses',\n",
       "       'organic4_expenses', 'organic5_expenses', 'organic6_expenses',\n",
       "       'bags_storage_expenses', 'formal_agriculturalinsurance_expenses',\n",
       "       'formal_transport_farm_expenses'],\n",
       "      dtype='object')"
      ]
     },
     "execution_count": 116,
     "metadata": {},
     "output_type": "execute_result"
    }
   ],
   "source": [
    "farm.columns"
   ]
  },
  {
   "cell_type": "code",
   "execution_count": 118,
   "id": "5e7c5db5-76c6-4d67-8514-d4ddab056ba8",
   "metadata": {},
   "outputs": [
    {
     "data": {
      "text/html": [
       "<div>\n",
       "<style scoped>\n",
       "    .dataframe tbody tr th:only-of-type {\n",
       "        vertical-align: middle;\n",
       "    }\n",
       "\n",
       "    .dataframe tbody tr th {\n",
       "        vertical-align: top;\n",
       "    }\n",
       "\n",
       "    .dataframe thead th {\n",
       "        text-align: right;\n",
       "    }\n",
       "</style>\n",
       "<table border=\"1\" class=\"dataframe\">\n",
       "  <thead>\n",
       "    <tr style=\"text-align: right;\">\n",
       "      <th></th>\n",
       "      <th>farming_inputs1_expenses</th>\n",
       "      <th>farming_inputs2_expenses</th>\n",
       "      <th>farming_inputs3_expenses</th>\n",
       "      <th>farming_inputs4_expenses</th>\n",
       "      <th>farming_inputs5_expenses</th>\n",
       "      <th>farming_inputs6_expenses</th>\n",
       "      <th>farming_inputs7_expenses</th>\n",
       "      <th>farming_inputs8_expenses</th>\n",
       "      <th>farming_inputsother_expenses</th>\n",
       "      <th>organic_inputs</th>\n",
       "      <th>...</th>\n",
       "      <th>organic_inputs_99</th>\n",
       "      <th>organic1_expenses</th>\n",
       "      <th>organic2_expenses</th>\n",
       "      <th>organic3_expenses</th>\n",
       "      <th>organic4_expenses</th>\n",
       "      <th>organic5_expenses</th>\n",
       "      <th>organic6_expenses</th>\n",
       "      <th>bags_storage_expenses</th>\n",
       "      <th>formal_agriculturalinsurance_expenses</th>\n",
       "      <th>formal_transport_farm_expenses</th>\n",
       "    </tr>\n",
       "  </thead>\n",
       "  <tbody>\n",
       "    <tr>\n",
       "      <th>0</th>\n",
       "      <td>NaN</td>\n",
       "      <td>NaN</td>\n",
       "      <td>NaN</td>\n",
       "      <td>NaN</td>\n",
       "      <td>NaN</td>\n",
       "      <td>NaN</td>\n",
       "      <td>NaN</td>\n",
       "      <td>NaN</td>\n",
       "      <td>NaN</td>\n",
       "      <td>NaN</td>\n",
       "      <td>...</td>\n",
       "      <td>NaN</td>\n",
       "      <td>NaN</td>\n",
       "      <td>NaN</td>\n",
       "      <td>NaN</td>\n",
       "      <td>NaN</td>\n",
       "      <td>NaN</td>\n",
       "      <td>NaN</td>\n",
       "      <td>NaN</td>\n",
       "      <td>NaN</td>\n",
       "      <td>NaN</td>\n",
       "    </tr>\n",
       "    <tr>\n",
       "      <th>1</th>\n",
       "      <td>NaN</td>\n",
       "      <td>NaN</td>\n",
       "      <td>NaN</td>\n",
       "      <td>NaN</td>\n",
       "      <td>NaN</td>\n",
       "      <td>NaN</td>\n",
       "      <td>NaN</td>\n",
       "      <td>NaN</td>\n",
       "      <td>NaN</td>\n",
       "      <td>NaN</td>\n",
       "      <td>...</td>\n",
       "      <td>NaN</td>\n",
       "      <td>NaN</td>\n",
       "      <td>NaN</td>\n",
       "      <td>NaN</td>\n",
       "      <td>NaN</td>\n",
       "      <td>NaN</td>\n",
       "      <td>NaN</td>\n",
       "      <td>0.0</td>\n",
       "      <td>0.0</td>\n",
       "      <td>0.0</td>\n",
       "    </tr>\n",
       "    <tr>\n",
       "      <th>2</th>\n",
       "      <td>NaN</td>\n",
       "      <td>NaN</td>\n",
       "      <td>NaN</td>\n",
       "      <td>NaN</td>\n",
       "      <td>NaN</td>\n",
       "      <td>NaN</td>\n",
       "      <td>NaN</td>\n",
       "      <td>NaN</td>\n",
       "      <td>NaN</td>\n",
       "      <td>NaN</td>\n",
       "      <td>...</td>\n",
       "      <td>NaN</td>\n",
       "      <td>NaN</td>\n",
       "      <td>NaN</td>\n",
       "      <td>NaN</td>\n",
       "      <td>NaN</td>\n",
       "      <td>NaN</td>\n",
       "      <td>NaN</td>\n",
       "      <td>0.0</td>\n",
       "      <td>0.0</td>\n",
       "      <td>0.0</td>\n",
       "    </tr>\n",
       "    <tr>\n",
       "      <th>3</th>\n",
       "      <td>NaN</td>\n",
       "      <td>NaN</td>\n",
       "      <td>NaN</td>\n",
       "      <td>NaN</td>\n",
       "      <td>NaN</td>\n",
       "      <td>NaN</td>\n",
       "      <td>NaN</td>\n",
       "      <td>NaN</td>\n",
       "      <td>NaN</td>\n",
       "      <td>NaN</td>\n",
       "      <td>...</td>\n",
       "      <td>NaN</td>\n",
       "      <td>NaN</td>\n",
       "      <td>NaN</td>\n",
       "      <td>NaN</td>\n",
       "      <td>NaN</td>\n",
       "      <td>NaN</td>\n",
       "      <td>NaN</td>\n",
       "      <td>0.0</td>\n",
       "      <td>0.0</td>\n",
       "      <td>0.0</td>\n",
       "    </tr>\n",
       "    <tr>\n",
       "      <th>4</th>\n",
       "      <td>NaN</td>\n",
       "      <td>NaN</td>\n",
       "      <td>NaN</td>\n",
       "      <td>NaN</td>\n",
       "      <td>NaN</td>\n",
       "      <td>NaN</td>\n",
       "      <td>NaN</td>\n",
       "      <td>NaN</td>\n",
       "      <td>NaN</td>\n",
       "      <td>NaN</td>\n",
       "      <td>...</td>\n",
       "      <td>NaN</td>\n",
       "      <td>NaN</td>\n",
       "      <td>NaN</td>\n",
       "      <td>NaN</td>\n",
       "      <td>NaN</td>\n",
       "      <td>NaN</td>\n",
       "      <td>NaN</td>\n",
       "      <td>3000.0</td>\n",
       "      <td>0.0</td>\n",
       "      <td>15000.0</td>\n",
       "    </tr>\n",
       "  </tbody>\n",
       "</table>\n",
       "<p>5 rows × 26 columns</p>\n",
       "</div>"
      ],
      "text/plain": [
       "   farming_inputs1_expenses  farming_inputs2_expenses  \\\n",
       "0                       NaN                       NaN   \n",
       "1                       NaN                       NaN   \n",
       "2                       NaN                       NaN   \n",
       "3                       NaN                       NaN   \n",
       "4                       NaN                       NaN   \n",
       "\n",
       "   farming_inputs3_expenses  farming_inputs4_expenses  \\\n",
       "0                       NaN                       NaN   \n",
       "1                       NaN                       NaN   \n",
       "2                       NaN                       NaN   \n",
       "3                       NaN                       NaN   \n",
       "4                       NaN                       NaN   \n",
       "\n",
       "   farming_inputs5_expenses  farming_inputs6_expenses  \\\n",
       "0                       NaN                       NaN   \n",
       "1                       NaN                       NaN   \n",
       "2                       NaN                       NaN   \n",
       "3                       NaN                       NaN   \n",
       "4                       NaN                       NaN   \n",
       "\n",
       "   farming_inputs7_expenses  farming_inputs8_expenses  \\\n",
       "0                       NaN                       NaN   \n",
       "1                       NaN                       NaN   \n",
       "2                       NaN                       NaN   \n",
       "3                       NaN                       NaN   \n",
       "4                       NaN                       NaN   \n",
       "\n",
       "   farming_inputsother_expenses organic_inputs  ...  organic_inputs_99  \\\n",
       "0                           NaN            NaN  ...                NaN   \n",
       "1                           NaN            NaN  ...                NaN   \n",
       "2                           NaN            NaN  ...                NaN   \n",
       "3                           NaN            NaN  ...                NaN   \n",
       "4                           NaN            NaN  ...                NaN   \n",
       "\n",
       "   organic1_expenses  organic2_expenses  organic3_expenses  organic4_expenses  \\\n",
       "0                NaN                NaN                NaN                NaN   \n",
       "1                NaN                NaN                NaN                NaN   \n",
       "2                NaN                NaN                NaN                NaN   \n",
       "3                NaN                NaN                NaN                NaN   \n",
       "4                NaN                NaN                NaN                NaN   \n",
       "\n",
       "   organic5_expenses  organic6_expenses  bags_storage_expenses  \\\n",
       "0                NaN                NaN                    NaN   \n",
       "1                NaN                NaN                    0.0   \n",
       "2                NaN                NaN                    0.0   \n",
       "3                NaN                NaN                    0.0   \n",
       "4                NaN                NaN                 3000.0   \n",
       "\n",
       "   formal_agriculturalinsurance_expenses  formal_transport_farm_expenses  \n",
       "0                                    NaN                             NaN  \n",
       "1                                    0.0                             0.0  \n",
       "2                                    0.0                             0.0  \n",
       "3                                    0.0                             0.0  \n",
       "4                                    0.0                         15000.0  \n",
       "\n",
       "[5 rows x 26 columns]"
      ]
     },
     "execution_count": 118,
     "metadata": {},
     "output_type": "execute_result"
    }
   ],
   "source": [
    "farm.head()"
   ]
  },
  {
   "cell_type": "code",
   "execution_count": 117,
   "id": "e96a4613-057d-4190-802d-41f99175426c",
   "metadata": {},
   "outputs": [],
   "source": [
    "update_week_column(farm, 'farming_inputs1_expenses', min_week=30000, max_week=60000)"
   ]
  },
  {
   "cell_type": "code",
   "execution_count": 119,
   "id": "a4a28a8b-53b9-4a6b-af92-d85c149116f1",
   "metadata": {},
   "outputs": [],
   "source": [
    "update_week_column(farm, 'farming_inputs2_expenses', min_week=5000, max_week=30000)"
   ]
  },
  {
   "cell_type": "code",
   "execution_count": 120,
   "id": "93aaf055-0b46-455f-9c90-8add42ffed29",
   "metadata": {},
   "outputs": [],
   "source": [
    "update_week_column(farm, 'farming_inputs3_expenses', min_week=5000, max_week=30000)"
   ]
  },
  {
   "cell_type": "code",
   "execution_count": 121,
   "id": "42e2ac12-dc87-4868-a61b-8628cb30d183",
   "metadata": {},
   "outputs": [],
   "source": [
    "update_week_column(farm, 'farming_inputs4_expenses', min_week=50000, max_week=100000)"
   ]
  },
  {
   "cell_type": "code",
   "execution_count": 122,
   "id": "48d119c9-7898-427c-af1d-bd9fa08cbe0d",
   "metadata": {},
   "outputs": [],
   "source": [
    "update_week_column(farm, 'farming_inputs5_expenses', min_week=20000, max_week=50000)"
   ]
  },
  {
   "cell_type": "code",
   "execution_count": 123,
   "id": "a6b17d0b-1c0d-4696-b437-e321bb013c4e",
   "metadata": {},
   "outputs": [],
   "source": [
    "update_week_column(farm, 'farming_inputs6_expenses', min_week=5000, max_week=20000)"
   ]
  },
  {
   "cell_type": "code",
   "execution_count": 124,
   "id": "7615efaf-6359-40da-bb36-1982c11b46a9",
   "metadata": {},
   "outputs": [],
   "source": [
    "update_week_column(farm, 'farming_inputs7_expenses', min_week=5000, max_week=45000)"
   ]
  },
  {
   "cell_type": "code",
   "execution_count": 125,
   "id": "f614133e-f15d-4bbd-97d5-93b741143cd2",
   "metadata": {},
   "outputs": [],
   "source": [
    "update_week_column(farm, 'farming_inputs8_expenses', min_week=5000, max_week=20000)"
   ]
  },
  {
   "cell_type": "code",
   "execution_count": 126,
   "id": "e4c45276-42a8-438b-89bb-dc417a5b59bb",
   "metadata": {},
   "outputs": [],
   "source": [
    "update_week_column(farm, 'farming_inputsother_expenses', min_week=5000, max_week=15000)"
   ]
  },
  {
   "cell_type": "code",
   "execution_count": null,
   "id": "1c9de240-8e6e-4af8-b831-986bf33ffa48",
   "metadata": {},
   "outputs": [],
   "source": []
  },
  {
   "cell_type": "code",
   "execution_count": null,
   "id": "0ac174c9-9737-439a-8abe-3bd2c27812a4",
   "metadata": {},
   "outputs": [],
   "source": []
  },
  {
   "cell_type": "code",
   "execution_count": 127,
   "id": "9b6b6c61-9c14-4469-8385-50358c79183a",
   "metadata": {},
   "outputs": [],
   "source": [
    "update_week_column(farm, 'organic_inputs_1', min_week=5000, max_week=15000)"
   ]
  },
  {
   "cell_type": "code",
   "execution_count": 128,
   "id": "d12aedbd-00fc-4176-8a39-ced9ea70040a",
   "metadata": {},
   "outputs": [],
   "source": [
    "update_week_column(farm, 'organic_inputs_2', min_week=2000, max_week=25000)"
   ]
  },
  {
   "cell_type": "code",
   "execution_count": 129,
   "id": "7f3d61ba-a5b9-4ce4-903d-3c5d41026385",
   "metadata": {},
   "outputs": [],
   "source": [
    "update_week_column(farm, 'organic_inputs_3', min_week=2000, max_week=25000)"
   ]
  },
  {
   "cell_type": "code",
   "execution_count": 130,
   "id": "c0a5ce17-ff74-48f6-93c4-09d26c22112c",
   "metadata": {},
   "outputs": [],
   "source": [
    "update_week_column(farm, 'organic_inputs_4', min_week=2000, max_week=30000)"
   ]
  },
  {
   "cell_type": "code",
   "execution_count": 131,
   "id": "9fbed3b6-32fe-46b2-af18-a91b7e8d0909",
   "metadata": {},
   "outputs": [],
   "source": [
    "update_week_column(farm, 'organic_inputs_5', min_week=2000, max_week=30000)"
   ]
  },
  {
   "cell_type": "code",
   "execution_count": 132,
   "id": "c89a9ae5-09d9-41a0-9d33-3002474bc287",
   "metadata": {},
   "outputs": [],
   "source": [
    "update_week_column(farm, 'organic_inputs_6', min_week=2000, max_week=30000)"
   ]
  },
  {
   "cell_type": "code",
   "execution_count": 133,
   "id": "de016d98-b851-42fe-83e4-f53e7268f4e3",
   "metadata": {},
   "outputs": [],
   "source": [
    "update_week_column(farm, 'bags_storage_expenses', min_week=2000, max_week=20000)"
   ]
  },
  {
   "cell_type": "code",
   "execution_count": 134,
   "id": "11eaa24b-f713-499a-ab49-a6b77b8b116b",
   "metadata": {},
   "outputs": [],
   "source": [
    "update_week_column(farm, 'formal_agriculturalinsurance_expenses', min_week=5000, max_week=80000)"
   ]
  },
  {
   "cell_type": "code",
   "execution_count": 135,
   "id": "24f2da63-63f4-4f07-9f86-9e8ef51ffe50",
   "metadata": {},
   "outputs": [],
   "source": [
    "update_week_column(farm, 'formal_transport_farm_expenses', min_week=5000, max_week=100000)"
   ]
  },
  {
   "cell_type": "code",
   "execution_count": null,
   "id": "b88a1b8b-d21b-4b8f-b257-57cfdc880452",
   "metadata": {},
   "outputs": [],
   "source": []
  },
  {
   "cell_type": "code",
   "execution_count": 136,
   "id": "dd36aee2-cceb-406a-9b15-b555ec5992a2",
   "metadata": {},
   "outputs": [],
   "source": [
    "farm.to_csv('/Users/rtv-lpt-127/Desktop/data cleaning/consumption/farm_consumption.csv', index=False)"
   ]
  },
  {
   "cell_type": "code",
   "execution_count": null,
   "id": "dc163d8e-a7e2-421c-8581-2f5477d823d3",
   "metadata": {},
   "outputs": [],
   "source": []
  },
  {
   "cell_type": "code",
   "execution_count": null,
   "id": "0e30c2ea-1008-4ee0-9736-ba13342b2c0c",
   "metadata": {},
   "outputs": [],
   "source": []
  },
  {
   "cell_type": "code",
   "execution_count": null,
   "id": "df8ddc6a-72b9-4c5f-8973-b89ef735f193",
   "metadata": {},
   "outputs": [],
   "source": []
  },
  {
   "cell_type": "markdown",
   "id": "986d4f6b-0c6d-4386-94c9-5ed3b28da99f",
   "metadata": {},
   "source": [
    "Education expenses"
   ]
  },
  {
   "cell_type": "code",
   "execution_count": 137,
   "id": "4dc8cda1-7533-4880-8987-f1cb6401c498",
   "metadata": {},
   "outputs": [],
   "source": [
    "# Define the valid tuition ranges for each education level, with realistic values\n",
    "tuition_ranges = {\n",
    "    1: (40000, 80000),     \n",
    "    2: (50000, 100000),\n",
    "    3: (100000, 200000),\n",
    "    4: (150000, 300000),\n",
    "    5: (200000, 400000),\n",
    "    6: (250000, 450000),\n",
    "    7: (300000, 500000),\n",
    "    8: (350000, 600000),\n",
    "    9: (400000, 700000),\n",
    "    10: (450000, 800000),\n",
    "    11: (500000, 900000),\n",
    "    12: (550000, 1000000),\n",
    "    13: (600000, 1100000),\n",
    "    14: (650000, 1200000),\n",
    "    15: (700000, 1300000),\n",
    "    16: (750000, 1400000),\n",
    "    17: (800000, 1500000),\n",
    "    18: (850000, 1600000),\n",
    "    19: (900000, 1700000)\n",
    "}\n",
    "\n",
    "# Define valid ranges for school supplies\n",
    "supplies_ranges = {\n",
    "    1: (1000, 5000),     \n",
    "    2: (1000, 10000),\n",
    "    3: (1000, 15000),\n",
    "    4: (2000, 20000),\n",
    "    5: (3000, 25000),\n",
    "    6: (5000, 30000),\n",
    "    7: (5000, 35000),\n",
    "    8: (5000, 40000),\n",
    "    9: (5000, 45000),\n",
    "    10: (6000, 50000),\n",
    "    11: (6000, 60000),\n",
    "    12: (7000, 70000),\n",
    "    13: (7000, 80000),\n",
    "    14: (8000, 90000),\n",
    "    15: (9000, 100000),\n",
    "    16: (10000, 110000),\n",
    "    17: (10000, 120000),\n",
    "    18: (11000, 130000),\n",
    "    19: (12000, 140000)\n",
    "}"
   ]
  },
  {
   "cell_type": "code",
   "execution_count": 146,
   "id": "ddae478b-d7fe-410c-be92-b14d68d9d618",
   "metadata": {},
   "outputs": [],
   "source": [
    "def clean_fees_and_supplies(df, tuition_column, supplies_column, education_column):\n",
    "    def update_value(row, ranges, column, valid_prices):\n",
    "        educ_level = row[education_column]\n",
    "        if pd.isna(row[column]):\n",
    "            return np.nan\n",
    "        \n",
    "        min_value, max_value = ranges.get(educ_level, (0, 0))\n",
    "        valid_in_range = [price for price in valid_prices if min_value <= price <= max_value]\n",
    "        \n",
    "        if len(valid_in_range) > 0:\n",
    "            return np.random.choice(valid_in_range)\n",
    "        else:\n",
    "            return min_value\n",
    "\n",
    "    df[tuition_column] = df.apply(\n",
    "        lambda row: update_value(row, tuition_ranges, tuition_column, [40000, 50000, 100000, 200000, 300000, 400000, 500000]), axis=1\n",
    "    )\n",
    "    df[supplies_column] = df.apply(\n",
    "        lambda row: update_value(row, supplies_ranges, supplies_column, [1000, 5000, 10000, 20000, 30000, 40000]), axis=1\n",
    "    )"
   ]
  },
  {
   "cell_type": "code",
   "execution_count": 147,
   "id": "2848d183-f829-4a4e-aad3-69e365d2ca9f",
   "metadata": {},
   "outputs": [],
   "source": [
    "education = pd.read_excel(\"spendi.xlsx\", sheet_name=\"educ\")"
   ]
  },
  {
   "cell_type": "code",
   "execution_count": 149,
   "id": "47d6ee24-68d1-4680-a11f-c1ec44889166",
   "metadata": {},
   "outputs": [],
   "source": [
    "# Clean both tuition and school supplies data\n",
    "clean_fees_and_supplies(education, 'tuition_hh_contr_member1', 'sch_supplies_member1', 'member1_educ_level')"
   ]
  },
  {
   "cell_type": "code",
   "execution_count": 151,
   "id": "9c91c1f8-0cb0-43ed-9977-ba09f080bb7e",
   "metadata": {},
   "outputs": [],
   "source": [
    "# Clean both tuition and school supplies data\n",
    "clean_fees_and_supplies(education, 'tuition_hh_contr_member2', 'sch_supplies_member2', 'member2_educ_level')"
   ]
  },
  {
   "cell_type": "code",
   "execution_count": 152,
   "id": "f291dee7-3d08-4719-b1a8-3560ad1013be",
   "metadata": {},
   "outputs": [],
   "source": [
    "# Clean both tuition and school supplies data\n",
    "clean_fees_and_supplies(education, 'tuition_hh_contr_member3', 'sch_supplies_member3', 'member3_educ_level')"
   ]
  },
  {
   "cell_type": "code",
   "execution_count": 153,
   "id": "d6406fa9-545a-4c84-8508-e7d889f2331d",
   "metadata": {},
   "outputs": [],
   "source": [
    "# Clean both tuition and school supplies data\n",
    "clean_fees_and_supplies(education, 'tuition_hh_contr_member4', 'sch_supplies_member4', 'member4_educ_level')"
   ]
  },
  {
   "cell_type": "code",
   "execution_count": 154,
   "id": "46642e8f-1e8e-433b-aef9-1aaaa4be77e0",
   "metadata": {},
   "outputs": [],
   "source": [
    "# Clean both tuition and school supplies data\n",
    "clean_fees_and_supplies(education, 'tuition_hh_contr_member5', 'sch_supplies_member5', 'member5_educ_level')"
   ]
  },
  {
   "cell_type": "code",
   "execution_count": 155,
   "id": "4995c974-0a29-4606-95ea-d50cf8b7767d",
   "metadata": {},
   "outputs": [],
   "source": [
    "# Clean both tuition and school supplies data\n",
    "clean_fees_and_supplies(education, 'tuition_hh_contr_member6', 'sch_supplies_member6', 'member6_educ_level')"
   ]
  },
  {
   "cell_type": "code",
   "execution_count": 156,
   "id": "1b2cac2f-35b0-4fd0-92d8-e15b2eb8b0e8",
   "metadata": {},
   "outputs": [],
   "source": [
    "# Clean both tuition and school supplies data\n",
    "clean_fees_and_supplies(education, 'tuition_hh_contr_member7', 'sch_supplies_member7', 'member7_educ_level')"
   ]
  },
  {
   "cell_type": "code",
   "execution_count": 157,
   "id": "ba9544ee-0204-4689-a386-144850f20df3",
   "metadata": {},
   "outputs": [],
   "source": [
    "# Clean both tuition and school supplies data\n",
    "clean_fees_and_supplies(education, 'tuition_hh_contr_member8', 'sch_supplies_member8', 'member8_educ_level')"
   ]
  },
  {
   "cell_type": "code",
   "execution_count": 158,
   "id": "b82720ff-ee94-46e4-aafc-037f47ecd552",
   "metadata": {},
   "outputs": [],
   "source": [
    "education.to_csv('/Users/rtv-lpt-127/Desktop/data cleaning/consumption/educ.csv', index=False)"
   ]
  },
  {
   "cell_type": "code",
   "execution_count": null,
   "id": "34c0d662-4e73-4b5a-afbb-84036af8c7fd",
   "metadata": {},
   "outputs": [],
   "source": []
  },
  {
   "cell_type": "code",
   "execution_count": null,
   "id": "710fd556-3749-4106-b7f5-3727470ace07",
   "metadata": {},
   "outputs": [],
   "source": []
  },
  {
   "cell_type": "code",
   "execution_count": null,
   "id": "4b02d674-7b59-4eaa-b625-632e245b15ca",
   "metadata": {},
   "outputs": [],
   "source": []
  },
  {
   "cell_type": "code",
   "execution_count": null,
   "id": "9d677e0f-7dcc-43ec-97fe-9e7c94485b27",
   "metadata": {},
   "outputs": [],
   "source": [
    "# Show updated DataFrame\n",
    "print(df)"
   ]
  }
 ],
 "metadata": {
  "kernelspec": {
   "display_name": "Python 3 (ipykernel)",
   "language": "python",
   "name": "python3"
  },
  "language_info": {
   "codemirror_mode": {
    "name": "ipython",
    "version": 3
   },
   "file_extension": ".py",
   "mimetype": "text/x-python",
   "name": "python",
   "nbconvert_exporter": "python",
   "pygments_lexer": "ipython3",
   "version": "3.10.9"
  }
 },
 "nbformat": 4,
 "nbformat_minor": 5
}
