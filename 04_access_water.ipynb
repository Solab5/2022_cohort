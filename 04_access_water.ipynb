{
 "cells": [
  {
   "cell_type": "code",
   "execution_count": 2,
   "id": "076cedf2-ff04-45cc-a205-d92e7ab22f6d",
   "metadata": {},
   "outputs": [],
   "source": [
    "import pandas as pd\n",
    "import numpy as np"
   ]
  },
  {
   "cell_type": "code",
   "execution_count": 3,
   "id": "77096aaf-f3ce-43d5-a1be-773f42f14828",
   "metadata": {},
   "outputs": [],
   "source": [
    "pd.set_option('display.precision', 6)"
   ]
  },
  {
   "cell_type": "code",
   "execution_count": 5,
   "id": "05aae4c6-0de8-4662-bfba-dd640c76c27f",
   "metadata": {},
   "outputs": [],
   "source": [
    "data = pd.read_excel(\"2024_cohorts_merged_edited_copy.xlsx\", sheet_name=\"2019_2022_merged\", header=5)"
   ]
  },
  {
   "cell_type": "code",
   "execution_count": 6,
   "id": "d88e5f7f-170a-4979-8348-c1a4133477a4",
   "metadata": {},
   "outputs": [],
   "source": [
    "df = data.copy()"
   ]
  },
  {
   "cell_type": "code",
   "execution_count": 28,
   "id": "0b0c4986-50b5-45a9-9bbf-57f8944a8ed7",
   "metadata": {},
   "outputs": [],
   "source": [
    "inflation_adjustment = 78.08 \n",
    "const_rate_adjustment = 3600"
   ]
  },
  {
   "cell_type": "code",
   "execution_count": 7,
   "id": "be831f73-9588-44b5-9c93-7d85d5830fde",
   "metadata": {},
   "outputs": [
    {
     "data": {
      "text/html": [
       "<div>\n",
       "<style scoped>\n",
       "    .dataframe tbody tr th:only-of-type {\n",
       "        vertical-align: middle;\n",
       "    }\n",
       "\n",
       "    .dataframe tbody tr th {\n",
       "        vertical-align: top;\n",
       "    }\n",
       "\n",
       "    .dataframe thead th {\n",
       "        text-align: right;\n",
       "    }\n",
       "</style>\n",
       "<table border=\"1\" class=\"dataframe\">\n",
       "  <thead>\n",
       "    <tr style=\"text-align: right;\">\n",
       "      <th></th>\n",
       "      <th>SubmissionDate</th>\n",
       "      <th>starttime</th>\n",
       "      <th>endtime</th>\n",
       "      <th>version</th>\n",
       "      <th>duration</th>\n",
       "      <th>survey_start</th>\n",
       "      <th>intro_start</th>\n",
       "      <th>text_audit</th>\n",
       "      <th>date_collection</th>\n",
       "      <th>region</th>\n",
       "      <th>...</th>\n",
       "      <th>Beetroot</th>\n",
       "      <th>Black nightshade</th>\n",
       "      <th>White eggplants</th>\n",
       "      <th>Green Eggplants</th>\n",
       "      <th>Purple Eggplants</th>\n",
       "      <th>Dodo (Amaranthus)</th>\n",
       "      <th>Others.1</th>\n",
       "      <th>Vegs_Num</th>\n",
       "      <th>Total VSLA Savings.</th>\n",
       "      <th>STATUS</th>\n",
       "    </tr>\n",
       "  </thead>\n",
       "  <tbody>\n",
       "    <tr>\n",
       "      <th>0</th>\n",
       "      <td>Jul 29, 2024 11:16:27 PM</td>\n",
       "      <td>Jul 29, 2024 5:25:05 PM</td>\n",
       "      <td>Jul 29, 2024 6:06:27 PM</td>\n",
       "      <td>2407300828</td>\n",
       "      <td>2457</td>\n",
       "      <td>4.0</td>\n",
       "      <td>4.0</td>\n",
       "      <td>https://rtvuganda.surveycto.com/view/submissio...</td>\n",
       "      <td>45503</td>\n",
       "      <td>4</td>\n",
       "      <td>...</td>\n",
       "      <td>0</td>\n",
       "      <td>0</td>\n",
       "      <td>0</td>\n",
       "      <td>0</td>\n",
       "      <td>0</td>\n",
       "      <td>0</td>\n",
       "      <td>0</td>\n",
       "      <td>0</td>\n",
       "      <td>0</td>\n",
       "      <td>PEER</td>\n",
       "    </tr>\n",
       "    <tr>\n",
       "      <th>1</th>\n",
       "      <td>Jul 29, 2024 2:20:16 PM</td>\n",
       "      <td>Jul 29, 2024 1:20:26 PM</td>\n",
       "      <td>Jul 29, 2024 2:19:54 PM</td>\n",
       "      <td>2407301247</td>\n",
       "      <td>3291</td>\n",
       "      <td>9.0</td>\n",
       "      <td>9.0</td>\n",
       "      <td>https://rtvuganda.surveycto.com/view/submissio...</td>\n",
       "      <td>2024-07-30</td>\n",
       "      <td>4</td>\n",
       "      <td>...</td>\n",
       "      <td>0</td>\n",
       "      <td>0</td>\n",
       "      <td>0</td>\n",
       "      <td>0</td>\n",
       "      <td>0</td>\n",
       "      <td>0</td>\n",
       "      <td>0</td>\n",
       "      <td>0</td>\n",
       "      <td>0</td>\n",
       "      <td>PEER</td>\n",
       "    </tr>\n",
       "    <tr>\n",
       "      <th>2</th>\n",
       "      <td>Jul 29, 2024 11:18:08 AM</td>\n",
       "      <td>Jul 29, 2024 10:23:17 AM</td>\n",
       "      <td>Jul 29, 2024 11:17:39 AM</td>\n",
       "      <td>2407300924</td>\n",
       "      <td>3261</td>\n",
       "      <td>4.0</td>\n",
       "      <td>4.0</td>\n",
       "      <td>https://rtvuganda.surveycto.com/view/submissio...</td>\n",
       "      <td>2024-07-30</td>\n",
       "      <td>4</td>\n",
       "      <td>...</td>\n",
       "      <td>0</td>\n",
       "      <td>0</td>\n",
       "      <td>0</td>\n",
       "      <td>0</td>\n",
       "      <td>0</td>\n",
       "      <td>0</td>\n",
       "      <td>0</td>\n",
       "      <td>0</td>\n",
       "      <td>0</td>\n",
       "      <td>PEER</td>\n",
       "    </tr>\n",
       "    <tr>\n",
       "      <th>3</th>\n",
       "      <td>Jul 29, 2024 6:15:33 PM</td>\n",
       "      <td>Jul 29, 2024 1:44:04 PM</td>\n",
       "      <td>Jul 29, 2024 2:30:23 PM</td>\n",
       "      <td>2407301035</td>\n",
       "      <td>2592</td>\n",
       "      <td>38.0</td>\n",
       "      <td>38.0</td>\n",
       "      <td>https://rtvuganda.surveycto.com/view/submissio...</td>\n",
       "      <td>2024-07-30</td>\n",
       "      <td>4</td>\n",
       "      <td>...</td>\n",
       "      <td>0</td>\n",
       "      <td>0</td>\n",
       "      <td>0</td>\n",
       "      <td>0</td>\n",
       "      <td>0</td>\n",
       "      <td>0</td>\n",
       "      <td>0</td>\n",
       "      <td>0</td>\n",
       "      <td>0</td>\n",
       "      <td>PEER</td>\n",
       "    </tr>\n",
       "    <tr>\n",
       "      <th>4</th>\n",
       "      <td>Jul 29, 2024 5:54:45 PM</td>\n",
       "      <td>Jul 29, 2024 3:13:19 PM</td>\n",
       "      <td>Jul 29, 2024 4:04:00 PM</td>\n",
       "      <td>2407301135</td>\n",
       "      <td>2912</td>\n",
       "      <td>27.0</td>\n",
       "      <td>27.0</td>\n",
       "      <td>https://rtvuganda.surveycto.com/view/submissio...</td>\n",
       "      <td>2024-07-30</td>\n",
       "      <td>4</td>\n",
       "      <td>...</td>\n",
       "      <td>0</td>\n",
       "      <td>0</td>\n",
       "      <td>0</td>\n",
       "      <td>0</td>\n",
       "      <td>0</td>\n",
       "      <td>0</td>\n",
       "      <td>0</td>\n",
       "      <td>0</td>\n",
       "      <td>0</td>\n",
       "      <td>PEER</td>\n",
       "    </tr>\n",
       "  </tbody>\n",
       "</table>\n",
       "<p>5 rows × 7221 columns</p>\n",
       "</div>"
      ],
      "text/plain": [
       "             SubmissionDate                 starttime  \\\n",
       "0  Jul 29, 2024 11:16:27 PM   Jul 29, 2024 5:25:05 PM   \n",
       "1   Jul 29, 2024 2:20:16 PM   Jul 29, 2024 1:20:26 PM   \n",
       "2  Jul 29, 2024 11:18:08 AM  Jul 29, 2024 10:23:17 AM   \n",
       "3   Jul 29, 2024 6:15:33 PM   Jul 29, 2024 1:44:04 PM   \n",
       "4   Jul 29, 2024 5:54:45 PM   Jul 29, 2024 3:13:19 PM   \n",
       "\n",
       "                    endtime     version  duration  survey_start  intro_start  \\\n",
       "0   Jul 29, 2024 6:06:27 PM  2407300828      2457           4.0          4.0   \n",
       "1   Jul 29, 2024 2:19:54 PM  2407301247      3291           9.0          9.0   \n",
       "2  Jul 29, 2024 11:17:39 AM  2407300924      3261           4.0          4.0   \n",
       "3   Jul 29, 2024 2:30:23 PM  2407301035      2592          38.0         38.0   \n",
       "4   Jul 29, 2024 4:04:00 PM  2407301135      2912          27.0         27.0   \n",
       "\n",
       "                                          text_audit date_collection  region  \\\n",
       "0  https://rtvuganda.surveycto.com/view/submissio...           45503       4   \n",
       "1  https://rtvuganda.surveycto.com/view/submissio...      2024-07-30       4   \n",
       "2  https://rtvuganda.surveycto.com/view/submissio...      2024-07-30       4   \n",
       "3  https://rtvuganda.surveycto.com/view/submissio...      2024-07-30       4   \n",
       "4  https://rtvuganda.surveycto.com/view/submissio...      2024-07-30       4   \n",
       "\n",
       "   ...  Beetroot  Black nightshade White eggplants  Green Eggplants  \\\n",
       "0  ...         0                 0               0                0   \n",
       "1  ...         0                 0               0                0   \n",
       "2  ...         0                 0               0                0   \n",
       "3  ...         0                 0               0                0   \n",
       "4  ...         0                 0               0                0   \n",
       "\n",
       "  Purple Eggplants Dodo (Amaranthus) Others.1 Vegs_Num Total VSLA Savings.  \\\n",
       "0                0                 0        0        0                   0   \n",
       "1                0                 0        0        0                   0   \n",
       "2                0                 0        0        0                   0   \n",
       "3                0                 0        0        0                   0   \n",
       "4                0                 0        0        0                   0   \n",
       "\n",
       "  STATUS  \n",
       "0   PEER  \n",
       "1   PEER  \n",
       "2   PEER  \n",
       "3   PEER  \n",
       "4   PEER  \n",
       "\n",
       "[5 rows x 7221 columns]"
      ]
     },
     "execution_count": 7,
     "metadata": {},
     "output_type": "execute_result"
    }
   ],
   "source": [
    "df.head()"
   ]
  },
  {
   "cell_type": "code",
   "execution_count": null,
   "id": "9467e76c-74a5-48a5-a258-7e9c38301829",
   "metadata": {},
   "outputs": [],
   "source": []
  },
  {
   "cell_type": "code",
   "execution_count": 8,
   "id": "51635917-069a-40fe-9dea-e0f20fe5d7e7",
   "metadata": {},
   "outputs": [],
   "source": [
    "df['pre_district'] = df['pre_district'].replace({\"kanungu\":\"Kanungu\"})"
   ]
  },
  {
   "cell_type": "code",
   "execution_count": 9,
   "id": "81a41bd4-d3b7-40f5-a215-b0daf9537164",
   "metadata": {},
   "outputs": [
    {
     "data": {
      "text/plain": [
       "pre_district\n",
       "Kanungu            2942\n",
       "Mitooma            2084\n",
       "Rubanda            1902\n",
       "Kaliro             1603\n",
       "Rukungiri          1566\n",
       "Rubirizi           1089\n",
       "Kyenjojo           1005\n",
       "Kagadi_GAC          601\n",
       "Kibaale             583\n",
       "Kagadi_Standard     470\n",
       "Kisoro              169\n",
       "Name: count, dtype: int64"
      ]
     },
     "execution_count": 9,
     "metadata": {},
     "output_type": "execute_result"
    }
   ],
   "source": [
    "df['pre_district'].value_counts()"
   ]
  },
  {
   "cell_type": "code",
   "execution_count": 10,
   "id": "7e4b0e79-34d0-4431-a86e-10cafe581608",
   "metadata": {},
   "outputs": [
    {
     "data": {
      "text/plain": [
       "pre_cohort\n",
       "2022    11344\n",
       "2019     2670\n",
       "Name: count, dtype: int64"
      ]
     },
     "execution_count": 10,
     "metadata": {},
     "output_type": "execute_result"
    }
   ],
   "source": [
    "df['pre_cohort'].value_counts()"
   ]
  },
  {
   "cell_type": "code",
   "execution_count": 11,
   "id": "80bd8b16-ff70-4b12-91f5-1d9fe922f8bb",
   "metadata": {},
   "outputs": [],
   "source": [
    "year_2 = df[df['pre_cohort'] == 2022]\n",
    "year_5 = df[df['pre_cohort'] == 2019]"
   ]
  },
  {
   "cell_type": "code",
   "execution_count": 36,
   "id": "ab912569-a880-4024-9364-f9bbdea831a0",
   "metadata": {},
   "outputs": [
    {
     "data": {
      "text/html": [
       "<div>\n",
       "<style scoped>\n",
       "    .dataframe tbody tr th:only-of-type {\n",
       "        vertical-align: middle;\n",
       "    }\n",
       "\n",
       "    .dataframe tbody tr th {\n",
       "        vertical-align: top;\n",
       "    }\n",
       "\n",
       "    .dataframe thead th {\n",
       "        text-align: right;\n",
       "    }\n",
       "</style>\n",
       "<table border=\"1\" class=\"dataframe\">\n",
       "  <thead>\n",
       "    <tr style=\"text-align: right;\">\n",
       "      <th>STATUS</th>\n",
       "      <th>PEER</th>\n",
       "      <th>RTV</th>\n",
       "    </tr>\n",
       "  </thead>\n",
       "  <tbody>\n",
       "    <tr>\n",
       "      <th>water_distance_collect_water_round_trip</th>\n",
       "      <td>1.588875</td>\n",
       "      <td>1.017655</td>\n",
       "    </tr>\n",
       "    <tr>\n",
       "      <th>hh_water_collection_Minutes</th>\n",
       "      <td>41.481211</td>\n",
       "      <td>29.529904</td>\n",
       "    </tr>\n",
       "  </tbody>\n",
       "</table>\n",
       "</div>"
      ],
      "text/plain": [
       "STATUS                                        PEER        RTV\n",
       "water_distance_collect_water_round_trip   1.588875   1.017655\n",
       "hh_water_collection_Minutes              41.481211  29.529904"
      ]
     },
     "execution_count": 36,
     "metadata": {},
     "output_type": "execute_result"
    }
   ],
   "source": [
    "year_2.groupby('STATUS')[\n",
    "    ['water_distance_collect_water_round_trip','hh_water_collection_Minutes']\n",
    "].mean().transpose()"
   ]
  },
  {
   "cell_type": "code",
   "execution_count": 44,
   "id": "6a579997-c7ee-46ac-b7a3-f87602e63572",
   "metadata": {},
   "outputs": [],
   "source": [
    "water_source_categories = {\n",
    "    1: \"Protected Spring\",\n",
    "    2: \"Borehole\",\n",
    "    3: \"Gravity Flow\",\n",
    "    4: \"Tap\",\n",
    "    5: \"Shallow well/Deep well\",\n",
    "    6: \"Water Tank/Rain Water\",\n",
    "    7: \"Pond/Swamp\",\n",
    "    8: \"Puddles\",\n",
    "    9: \"Unprotected Spring/well\",\n",
    "    10: \"River/Lake/Stream\",\n",
    "    97: \"Other\"\n",
    "}\n",
    "\n",
    "# Perform the analysis\n",
    "result = (year_2.groupby('STATUS')[\n",
    "    'Main_source_of_water_for_consumption'\n",
    "].value_counts(normalize=True)).unstack().transpose()\n",
    "\n",
    "# Rename the index using the category names\n",
    "result.index = result.index.map(water_source_categories)"
   ]
  },
  {
   "cell_type": "code",
   "execution_count": 45,
   "id": "cd3deb3d-31df-4469-b16a-0ccc9790f473",
   "metadata": {},
   "outputs": [
    {
     "data": {
      "text/html": [
       "<div>\n",
       "<style scoped>\n",
       "    .dataframe tbody tr th:only-of-type {\n",
       "        vertical-align: middle;\n",
       "    }\n",
       "\n",
       "    .dataframe tbody tr th {\n",
       "        vertical-align: top;\n",
       "    }\n",
       "\n",
       "    .dataframe thead th {\n",
       "        text-align: right;\n",
       "    }\n",
       "</style>\n",
       "<table border=\"1\" class=\"dataframe\">\n",
       "  <thead>\n",
       "    <tr style=\"text-align: right;\">\n",
       "      <th>STATUS</th>\n",
       "      <th>PEER</th>\n",
       "      <th>RTV</th>\n",
       "    </tr>\n",
       "    <tr>\n",
       "      <th>Main_source_of_water_for_consumption</th>\n",
       "      <th></th>\n",
       "      <th></th>\n",
       "    </tr>\n",
       "  </thead>\n",
       "  <tbody>\n",
       "    <tr>\n",
       "      <th>Protected Spring</th>\n",
       "      <td>0.207233</td>\n",
       "      <td>0.262984</td>\n",
       "    </tr>\n",
       "    <tr>\n",
       "      <th>Borehole</th>\n",
       "      <td>0.382075</td>\n",
       "      <td>0.182264</td>\n",
       "    </tr>\n",
       "    <tr>\n",
       "      <th>Gravity Flow</th>\n",
       "      <td>0.013522</td>\n",
       "      <td>0.014086</td>\n",
       "    </tr>\n",
       "    <tr>\n",
       "      <th>Tap</th>\n",
       "      <td>0.051258</td>\n",
       "      <td>0.234444</td>\n",
       "    </tr>\n",
       "    <tr>\n",
       "      <th>Shallow well/Deep well</th>\n",
       "      <td>0.070755</td>\n",
       "      <td>0.141475</td>\n",
       "    </tr>\n",
       "    <tr>\n",
       "      <th>Pond/Swamp</th>\n",
       "      <td>0.055660</td>\n",
       "      <td>0.026335</td>\n",
       "    </tr>\n",
       "    <tr>\n",
       "      <th>Puddles</th>\n",
       "      <td>0.002201</td>\n",
       "      <td>0.000735</td>\n",
       "    </tr>\n",
       "    <tr>\n",
       "      <th>Unprotected Spring/well</th>\n",
       "      <td>0.137107</td>\n",
       "      <td>0.060265</td>\n",
       "    </tr>\n",
       "    <tr>\n",
       "      <th>River/Lake/Stream</th>\n",
       "      <td>0.072327</td>\n",
       "      <td>0.071656</td>\n",
       "    </tr>\n",
       "    <tr>\n",
       "      <th>Other</th>\n",
       "      <td>0.007862</td>\n",
       "      <td>0.005757</td>\n",
       "    </tr>\n",
       "  </tbody>\n",
       "</table>\n",
       "</div>"
      ],
      "text/plain": [
       "STATUS                                    PEER       RTV\n",
       "Main_source_of_water_for_consumption                    \n",
       "Protected Spring                      0.207233  0.262984\n",
       "Borehole                              0.382075  0.182264\n",
       "Gravity Flow                          0.013522  0.014086\n",
       "Tap                                   0.051258  0.234444\n",
       "Shallow well/Deep well                0.070755  0.141475\n",
       "Pond/Swamp                            0.055660  0.026335\n",
       "Puddles                               0.002201  0.000735\n",
       "Unprotected Spring/well               0.137107  0.060265\n",
       "River/Lake/Stream                     0.072327  0.071656\n",
       "Other                                 0.007862  0.005757"
      ]
     },
     "execution_count": 45,
     "metadata": {},
     "output_type": "execute_result"
    }
   ],
   "source": [
    "result"
   ]
  },
  {
   "cell_type": "code",
   "execution_count": null,
   "id": "c8de559c-4c4d-4684-9339-cc1ca3537e5f",
   "metadata": {},
   "outputs": [],
   "source": []
  },
  {
   "cell_type": "code",
   "execution_count": null,
   "id": "de72e728-e565-4d0a-8670-31921259025d",
   "metadata": {},
   "outputs": [],
   "source": []
  },
  {
   "cell_type": "markdown",
   "id": "2e5a7b5d-1ccd-4876-8ae0-63e57ae92838",
   "metadata": {},
   "source": [
    "## Baseline"
   ]
  },
  {
   "cell_type": "code",
   "execution_count": 24,
   "id": "4ddc620f-3171-44d9-b6e6-c57d3aabb9a4",
   "metadata": {},
   "outputs": [],
   "source": [
    "base_data = pd.read_excel(\"2022Cohort Baselines1.xlsx\", header=5)"
   ]
  },
  {
   "cell_type": "code",
   "execution_count": 26,
   "id": "cd1d4eed-2d88-47db-a547-18c183ac2f8d",
   "metadata": {},
   "outputs": [
    {
     "data": {
      "text/html": [
       "<div>\n",
       "<style scoped>\n",
       "    .dataframe tbody tr th:only-of-type {\n",
       "        vertical-align: middle;\n",
       "    }\n",
       "\n",
       "    .dataframe tbody tr th {\n",
       "        vertical-align: top;\n",
       "    }\n",
       "\n",
       "    .dataframe thead th {\n",
       "        text-align: right;\n",
       "    }\n",
       "</style>\n",
       "<table border=\"1\" class=\"dataframe\">\n",
       "  <thead>\n",
       "    <tr style=\"text-align: right;\">\n",
       "      <th></th>\n",
       "      <th>pre_district</th>\n",
       "      <th>pre_subcounty</th>\n",
       "      <th>pre_parish</th>\n",
       "      <th>pre_cluster</th>\n",
       "      <th>pre_village</th>\n",
       "      <th>Unnamed: 5</th>\n",
       "      <th>hhh_sex</th>\n",
       "      <th>hhh_age</th>\n",
       "      <th>hhh_educ_level</th>\n",
       "      <th>hhh_read_write</th>\n",
       "      <th>...</th>\n",
       "      <th>Livestock Income (Ugx)</th>\n",
       "      <th>Season 1 Agriculture Value (Ugx)</th>\n",
       "      <th>Season 2 Agriculture Value (Ugx)</th>\n",
       "      <th>Perennial Agriculture Value (Ugx)</th>\n",
       "      <th>Livestock Income / Consumed (Ugx)</th>\n",
       "      <th>Livestock Asset Value</th>\n",
       "      <th>HH Income</th>\n",
       "      <th>HH consumption</th>\n",
       "      <th>HH Income + Consumption + Residues</th>\n",
       "      <th>HH Income + Consumption+ Assets + Residues</th>\n",
       "    </tr>\n",
       "  </thead>\n",
       "  <tbody>\n",
       "    <tr>\n",
       "      <th>0</th>\n",
       "      <td>Rubirizi</td>\n",
       "      <td>Kyabakara</td>\n",
       "      <td>Nyabubare</td>\n",
       "      <td>Nyabubare</td>\n",
       "      <td>Nyabubare_Ii</td>\n",
       "      <td>NaN</td>\n",
       "      <td>2</td>\n",
       "      <td>78</td>\n",
       "      <td>1</td>\n",
       "      <td>0</td>\n",
       "      <td>...</td>\n",
       "      <td>0</td>\n",
       "      <td>0</td>\n",
       "      <td>0</td>\n",
       "      <td>0.0</td>\n",
       "      <td>0</td>\n",
       "      <td>0</td>\n",
       "      <td>30000</td>\n",
       "      <td>0.0</td>\n",
       "      <td>30000.0</td>\n",
       "      <td>30000.0</td>\n",
       "    </tr>\n",
       "    <tr>\n",
       "      <th>1</th>\n",
       "      <td>Rubirizi</td>\n",
       "      <td>Kyabakara</td>\n",
       "      <td>Nyabubare</td>\n",
       "      <td>Nyabubare</td>\n",
       "      <td>Nyabubare_Ii</td>\n",
       "      <td>NaN</td>\n",
       "      <td>2</td>\n",
       "      <td>85</td>\n",
       "      <td>1</td>\n",
       "      <td>0</td>\n",
       "      <td>...</td>\n",
       "      <td>0</td>\n",
       "      <td>0</td>\n",
       "      <td>0</td>\n",
       "      <td>0.0</td>\n",
       "      <td>0</td>\n",
       "      <td>0</td>\n",
       "      <td>60000</td>\n",
       "      <td>0.0</td>\n",
       "      <td>60000.0</td>\n",
       "      <td>60000.0</td>\n",
       "    </tr>\n",
       "    <tr>\n",
       "      <th>2</th>\n",
       "      <td>Rubirizi</td>\n",
       "      <td>Kyabakara</td>\n",
       "      <td>Kyabakara</td>\n",
       "      <td>Kyabakara</td>\n",
       "      <td>Kagando_Kyabakara</td>\n",
       "      <td>NaN</td>\n",
       "      <td>2</td>\n",
       "      <td>60</td>\n",
       "      <td>1</td>\n",
       "      <td>0</td>\n",
       "      <td>...</td>\n",
       "      <td>0</td>\n",
       "      <td>0</td>\n",
       "      <td>30000</td>\n",
       "      <td>30000.0</td>\n",
       "      <td>0</td>\n",
       "      <td>0</td>\n",
       "      <td>15000</td>\n",
       "      <td>45000.0</td>\n",
       "      <td>60000.0</td>\n",
       "      <td>60000.0</td>\n",
       "    </tr>\n",
       "    <tr>\n",
       "      <th>3</th>\n",
       "      <td>Rubirizi</td>\n",
       "      <td>Kyabakara</td>\n",
       "      <td>Rugarama</td>\n",
       "      <td>Rugarama</td>\n",
       "      <td>Karembo</td>\n",
       "      <td>NaN</td>\n",
       "      <td>2</td>\n",
       "      <td>95</td>\n",
       "      <td>1</td>\n",
       "      <td>0</td>\n",
       "      <td>...</td>\n",
       "      <td>0</td>\n",
       "      <td>0</td>\n",
       "      <td>0</td>\n",
       "      <td>0.0</td>\n",
       "      <td>0</td>\n",
       "      <td>0</td>\n",
       "      <td>90000</td>\n",
       "      <td>0.0</td>\n",
       "      <td>90000.0</td>\n",
       "      <td>90000.0</td>\n",
       "    </tr>\n",
       "    <tr>\n",
       "      <th>4</th>\n",
       "      <td>Rubirizi</td>\n",
       "      <td>Kyabakara</td>\n",
       "      <td>Rugarama</td>\n",
       "      <td>Rugarama</td>\n",
       "      <td>Bwegiragye</td>\n",
       "      <td>NaN</td>\n",
       "      <td>1</td>\n",
       "      <td>23</td>\n",
       "      <td>5</td>\n",
       "      <td>1</td>\n",
       "      <td>...</td>\n",
       "      <td>0</td>\n",
       "      <td>42500</td>\n",
       "      <td>60000</td>\n",
       "      <td>0.0</td>\n",
       "      <td>0</td>\n",
       "      <td>0</td>\n",
       "      <td>15000</td>\n",
       "      <td>87500.0</td>\n",
       "      <td>102500.0</td>\n",
       "      <td>102500.0</td>\n",
       "    </tr>\n",
       "  </tbody>\n",
       "</table>\n",
       "<p>5 rows × 55 columns</p>\n",
       "</div>"
      ],
      "text/plain": [
       "  pre_district pre_subcounty pre_parish pre_cluster        pre_village  \\\n",
       "0     Rubirizi     Kyabakara  Nyabubare   Nyabubare       Nyabubare_Ii   \n",
       "1     Rubirizi     Kyabakara  Nyabubare   Nyabubare       Nyabubare_Ii   \n",
       "2     Rubirizi     Kyabakara  Kyabakara   Kyabakara  Kagando_Kyabakara   \n",
       "3     Rubirizi     Kyabakara   Rugarama    Rugarama            Karembo   \n",
       "4     Rubirizi     Kyabakara   Rugarama    Rugarama         Bwegiragye   \n",
       "\n",
       "  Unnamed: 5  hhh_sex  hhh_age  hhh_educ_level  hhh_read_write  ...  \\\n",
       "0        NaN        2       78               1               0  ...   \n",
       "1        NaN        2       85               1               0  ...   \n",
       "2        NaN        2       60               1               0  ...   \n",
       "3        NaN        2       95               1               0  ...   \n",
       "4        NaN        1       23               5               1  ...   \n",
       "\n",
       "   Livestock Income (Ugx)  Season 1 Agriculture Value (Ugx)  \\\n",
       "0                       0                                 0   \n",
       "1                       0                                 0   \n",
       "2                       0                                 0   \n",
       "3                       0                                 0   \n",
       "4                       0                             42500   \n",
       "\n",
       "   Season 2 Agriculture Value (Ugx)  Perennial Agriculture Value (Ugx)  \\\n",
       "0                                 0                                0.0   \n",
       "1                                 0                                0.0   \n",
       "2                             30000                            30000.0   \n",
       "3                                 0                                0.0   \n",
       "4                             60000                                0.0   \n",
       "\n",
       "   Livestock Income / Consumed (Ugx)  Livestock Asset Value  HH Income  \\\n",
       "0                                  0                      0      30000   \n",
       "1                                  0                      0      60000   \n",
       "2                                  0                      0      15000   \n",
       "3                                  0                      0      90000   \n",
       "4                                  0                      0      15000   \n",
       "\n",
       "   HH consumption  HH Income + Consumption + Residues  \\\n",
       "0             0.0                             30000.0   \n",
       "1             0.0                             60000.0   \n",
       "2         45000.0                             60000.0   \n",
       "3             0.0                             90000.0   \n",
       "4         87500.0                            102500.0   \n",
       "\n",
       "   HH Income + Consumption+ Assets + Residues  \n",
       "0                                     30000.0  \n",
       "1                                     60000.0  \n",
       "2                                     60000.0  \n",
       "3                                     90000.0  \n",
       "4                                    102500.0  \n",
       "\n",
       "[5 rows x 55 columns]"
      ]
     },
     "execution_count": 26,
     "metadata": {},
     "output_type": "execute_result"
    }
   ],
   "source": [
    "base_data.head()"
   ]
  },
  {
   "cell_type": "code",
   "execution_count": 29,
   "id": "6372bfd9-7c5a-4453-827c-4975f0b7e564",
   "metadata": {},
   "outputs": [],
   "source": [
    "base_rtv = base_data.copy()"
   ]
  },
  {
   "cell_type": "code",
   "execution_count": 33,
   "id": "d102475c-4070-44ec-a436-34576294285f",
   "metadata": {},
   "outputs": [
    {
     "data": {
      "text/plain": [
       "Distance_Travelled_to_Collect_Water_Round_Trip      1.133317\n",
       "Time_to_collect_Water_for_Household_use_Minutes    48.602275\n",
       "Number_of_Daily_Trips_to_collect_Water              2.338642\n",
       "dtype: float64"
      ]
     },
     "execution_count": 33,
     "metadata": {},
     "output_type": "execute_result"
    }
   ],
   "source": [
    "base_rtv[['Distance_Travelled_to_Collect_Water_Round_Trip',\n",
    "          'Time_to_collect_Water_for_Household_use_Minutes',\n",
    "          'Number_of_Daily_Trips_to_collect_Water']].mean()"
   ]
  },
  {
   "cell_type": "code",
   "execution_count": 48,
   "id": "c7d5e607-e677-4ce0-9969-d78abeab28cb",
   "metadata": {},
   "outputs": [
    {
     "data": {
      "text/plain": [
       "Main_source_of_water_for_consumption\n",
       "1     0.218532\n",
       "6     0.205746\n",
       "2     0.197277\n",
       "7     0.162405\n",
       "3     0.143972\n",
       "97    0.030223\n",
       "5     0.021920\n",
       "8     0.016108\n",
       "4     0.002657\n",
       "9     0.001162\n",
       "Name: proportion, dtype: float64"
      ]
     },
     "execution_count": 48,
     "metadata": {},
     "output_type": "execute_result"
    }
   ],
   "source": [
    "base_rtv[\n",
    "   'Main_source_of_water_for_consumption' \n",
    "].value_counts(normalize=True)"
   ]
  },
  {
   "cell_type": "code",
   "execution_count": 49,
   "id": "cfdaa227-baae-4432-b831-d26eb73bcffd",
   "metadata": {},
   "outputs": [
    {
     "data": {
      "text/plain": [
       "Main_source_of_water_for_consumption\n",
       "Protected Spring           0.218532\n",
       "Water Tank/Rain Water      0.205746\n",
       "Borehole                   0.197277\n",
       "Pond/Swamp                 0.162405\n",
       "Gravity Flow               0.143972\n",
       "Other                      0.030223\n",
       "Shallow well/Deep well     0.021920\n",
       "Puddles                    0.016108\n",
       "Tap                        0.002657\n",
       "Unprotected Spring/well    0.001162\n",
       "Name: proportion, dtype: float64"
      ]
     },
     "execution_count": 49,
     "metadata": {},
     "output_type": "execute_result"
    }
   ],
   "source": [
    "# Perform the value counts\n",
    "result_rtv_base = base_rtv['Main_source_of_water_for_consumption'].value_counts(normalize=True)\n",
    "\n",
    "# Rename the index using the category names\n",
    "result_rtv_base.index = result_rtv_base.index.map(water_source_categories)\n",
    "result_rtv_base"
   ]
  },
  {
   "cell_type": "markdown",
   "id": "cd19cd5d-e726-4e05-8214-4af4849e3ec8",
   "metadata": {},
   "source": [
    "## Base Peer"
   ]
  },
  {
   "cell_type": "code",
   "execution_count": 50,
   "id": "ad2db737-2c88-49b6-8a1c-16139e3dfb18",
   "metadata": {},
   "outputs": [],
   "source": [
    "peer_base_2022 = pd.read_excel(\"peer_base_2022.xlsx\")"
   ]
  },
  {
   "cell_type": "code",
   "execution_count": 52,
   "id": "00d99657-5b3b-4414-9c38-45b0c51660b0",
   "metadata": {},
   "outputs": [
    {
     "data": {
      "text/plain": [
       "Distance_Travelled_to_Collect_Water_Round_Trip      1.868820\n",
       "Time_to_collect_Water_for_Household_use_Minutes    53.619184\n",
       "Number_of_Daily_Trips_to_collect_Water              2.599701\n",
       "dtype: float64"
      ]
     },
     "execution_count": 52,
     "metadata": {},
     "output_type": "execute_result"
    }
   ],
   "source": [
    "peer_base_2022[['Distance_Travelled_to_Collect_Water_Round_Trip',\n",
    "          'Time_to_collect_Water_for_Household_use_Minutes',\n",
    "          'Number_of_Daily_Trips_to_collect_Water']].mean()"
   ]
  },
  {
   "cell_type": "code",
   "execution_count": 53,
   "id": "94076767-7197-406b-926a-40c586088b90",
   "metadata": {},
   "outputs": [
    {
     "data": {
      "text/plain": [
       "Main_source_of_water_for_consumption\n",
       "7     0.244910\n",
       "1     0.173054\n",
       "5     0.152096\n",
       "8     0.114072\n",
       "2     0.100299\n",
       "9     0.076946\n",
       "4     0.050299\n",
       "3     0.043713\n",
       "6     0.037126\n",
       "97    0.007485\n",
       "Name: proportion, dtype: float64"
      ]
     },
     "execution_count": 53,
     "metadata": {},
     "output_type": "execute_result"
    }
   ],
   "source": [
    "peer_base_2022[\n",
    "   'Main_source_of_water_for_consumption' \n",
    "].value_counts(normalize=True)"
   ]
  },
  {
   "cell_type": "code",
   "execution_count": 54,
   "id": "24c59e39-6815-4d3a-9b09-b09eb2865386",
   "metadata": {},
   "outputs": [
    {
     "data": {
      "text/plain": [
       "Main_source_of_water_for_consumption\n",
       "Pond/Swamp                 0.244910\n",
       "Protected Spring           0.173054\n",
       "Shallow well/Deep well     0.152096\n",
       "Puddles                    0.114072\n",
       "Borehole                   0.100299\n",
       "Unprotected Spring/well    0.076946\n",
       "Tap                        0.050299\n",
       "Gravity Flow               0.043713\n",
       "Water Tank/Rain Water      0.037126\n",
       "Other                      0.007485\n",
       "Name: proportion, dtype: float64"
      ]
     },
     "execution_count": 54,
     "metadata": {},
     "output_type": "execute_result"
    }
   ],
   "source": [
    "# Perform the value counts\n",
    "result_peer_base = peer_base_2022['Main_source_of_water_for_consumption'].value_counts(normalize=True)\n",
    "\n",
    "# Rename the index using the category names\n",
    "result_peer_base.index = result_peer_base.index.map(water_source_categories)\n",
    "result_peer_base"
   ]
  },
  {
   "cell_type": "code",
   "execution_count": null,
   "id": "3b9fe878-a08b-49f4-9960-8324b365d858",
   "metadata": {},
   "outputs": [],
   "source": []
  },
  {
   "cell_type": "code",
   "execution_count": null,
   "id": "686df223-4317-4a93-b84a-d1bb4918cce3",
   "metadata": {},
   "outputs": [],
   "source": []
  }
 ],
 "metadata": {
  "kernelspec": {
   "display_name": "Python 3 (ipykernel)",
   "language": "python",
   "name": "python3"
  },
  "language_info": {
   "codemirror_mode": {
    "name": "ipython",
    "version": 3
   },
   "file_extension": ".py",
   "mimetype": "text/x-python",
   "name": "python",
   "nbconvert_exporter": "python",
   "pygments_lexer": "ipython3",
   "version": "3.10.9"
  }
 },
 "nbformat": 4,
 "nbformat_minor": 5
}
