{
 "cells": [
  {
   "cell_type": "code",
   "execution_count": 1,
   "id": "f577d597-abad-4517-a566-6b664e342b61",
   "metadata": {},
   "outputs": [],
   "source": [
    "import pandas as pd\n",
    "import numpy as np"
   ]
  },
  {
   "cell_type": "code",
   "execution_count": 2,
   "id": "080dd2ea-0435-4e58-bf3b-c06a4e25deaa",
   "metadata": {},
   "outputs": [],
   "source": [
    "pd.set_option('display.precision', 6)"
   ]
  },
  {
   "cell_type": "code",
   "execution_count": 3,
   "id": "70e0ed52-5ef1-438e-90ff-86c8f5e2c619",
   "metadata": {},
   "outputs": [],
   "source": [
    "data = pd.read_excel(\"2024_cohorts_merged_edited_copy.xlsx\", sheet_name=\"2019_2022_merged\", header=5)"
   ]
  },
  {
   "cell_type": "code",
   "execution_count": 121,
   "id": "4040c361-e325-433c-8fa7-d4fd3e3f1a7e",
   "metadata": {},
   "outputs": [],
   "source": [
    "# data = pd.read_excel(\"2024_cohorts_merged_edited_copy.xlsx\", sheet_name=\"2019_2022_merged\", header=5, usecols=['JEW:JFG', 'JQS'])"
   ]
  },
  {
   "cell_type": "code",
   "execution_count": 122,
   "id": "55c12ed6-795b-4e7a-b5c7-84b882b14522",
   "metadata": {},
   "outputs": [],
   "source": [
    "# data = pl.read_excel(\"2024_cohorts_merged_edited.xlsx\", sheet_name=\"2019_2022_merged\")"
   ]
  },
  {
   "cell_type": "code",
   "execution_count": null,
   "id": "5db8a0f4-a850-4060-83e3-82fddde0be13",
   "metadata": {},
   "outputs": [],
   "source": []
  },
  {
   "cell_type": "code",
   "execution_count": 4,
   "id": "cec3ff96-bd60-439b-a36c-1829378ef2f5",
   "metadata": {},
   "outputs": [],
   "source": [
    "df = data.copy()"
   ]
  },
  {
   "cell_type": "code",
   "execution_count": 5,
   "id": "893e18cf-832d-408e-b245-cb59424a2ced",
   "metadata": {},
   "outputs": [],
   "source": [
    "# df.to_csv(\"Combined_2024_merged.csv\", index=False)"
   ]
  },
  {
   "cell_type": "code",
   "execution_count": 6,
   "id": "9f810431-20de-4265-a50b-c9b760912253",
   "metadata": {},
   "outputs": [],
   "source": [
    "df['pre_district'] = df['pre_district'].replace({\"kanungu\":\"Kanungu\"})"
   ]
  },
  {
   "cell_type": "code",
   "execution_count": 7,
   "id": "fc8ea308-39d0-4884-ac80-9f22d1f2f0b8",
   "metadata": {},
   "outputs": [
    {
     "data": {
      "text/plain": [
       "pre_district\n",
       "Kanungu            2942\n",
       "Mitooma            2084\n",
       "Rubanda            1902\n",
       "Kaliro             1603\n",
       "Rukungiri          1566\n",
       "Rubirizi           1089\n",
       "Kyenjojo           1005\n",
       "Kagadi_GAC          601\n",
       "Kibaale             583\n",
       "Kagadi_Standard     470\n",
       "Kisoro              169\n",
       "Name: count, dtype: int64"
      ]
     },
     "execution_count": 7,
     "metadata": {},
     "output_type": "execute_result"
    }
   ],
   "source": [
    "df['pre_district'].value_counts()"
   ]
  },
  {
   "cell_type": "code",
   "execution_count": 8,
   "id": "e915bfee-198d-48bf-8b21-905585110782",
   "metadata": {},
   "outputs": [
    {
     "data": {
      "text/plain": [
       "pre_cohort\n",
       "2022    11344\n",
       "2019     2670\n",
       "Name: count, dtype: int64"
      ]
     },
     "execution_count": 8,
     "metadata": {},
     "output_type": "execute_result"
    }
   ],
   "source": [
    "df['pre_cohort'].value_counts()"
   ]
  },
  {
   "cell_type": "code",
   "execution_count": 9,
   "id": "169e2e26-32b2-4574-9857-f75ec4c0088b",
   "metadata": {},
   "outputs": [
    {
     "data": {
      "text/plain": [
       "(14014, 7221)"
      ]
     },
     "execution_count": 9,
     "metadata": {},
     "output_type": "execute_result"
    }
   ],
   "source": [
    "df.shape"
   ]
  },
  {
   "cell_type": "code",
   "execution_count": 10,
   "id": "24e30747-f6fd-46a5-8f18-47036dcea4e5",
   "metadata": {},
   "outputs": [],
   "source": [
    "df[\"Total Food Consumption\"] = df[\n",
    "                                    [\"consumption_own_production.3\",\"consumption_exp_weekly(ugx).2\"]\n",
    "                                ].sum(axis=1)"
   ]
  },
  {
   "cell_type": "code",
   "execution_count": 11,
   "id": "4a04cc43-7482-4d4b-aaa1-331efd83f416",
   "metadata": {},
   "outputs": [],
   "source": [
    "year_2 = df[df['pre_cohort'] == 2022]\n",
    "year_5 = df[df['pre_cohort'] == 2019]"
   ]
  },
  {
   "cell_type": "markdown",
   "id": "06811f54-dbfe-44a6-9766-5be7b3083e58",
   "metadata": {},
   "source": [
    "## Year 2 2022 cohort"
   ]
  },
  {
   "cell_type": "code",
   "execution_count": 12,
   "id": "ed8a0ec9-6f2e-4e1c-8279-4908b7ef201b",
   "metadata": {},
   "outputs": [
    {
     "data": {
      "text/plain": [
       "(11344, 7222)"
      ]
     },
     "execution_count": 12,
     "metadata": {},
     "output_type": "execute_result"
    }
   ],
   "source": [
    "year_2.shape"
   ]
  },
  {
   "cell_type": "code",
   "execution_count": 13,
   "id": "918a231c-de6f-4bde-a0cf-31aa0400d1f5",
   "metadata": {},
   "outputs": [
    {
     "data": {
      "text/plain": [
       "STATUS\n",
       "RTV     8164\n",
       "PEER    3180\n",
       "Name: count, dtype: int64"
      ]
     },
     "execution_count": 13,
     "metadata": {},
     "output_type": "execute_result"
    }
   ],
   "source": [
    "year_2['STATUS'].value_counts()"
   ]
  },
  {
   "cell_type": "code",
   "execution_count": 14,
   "id": "b6af175a-c81a-431b-ab07-e7543857b353",
   "metadata": {},
   "outputs": [
    {
     "data": {
      "text/plain": [
       "STATUS\n",
       "PEER    21890.566038\n",
       "RTV     34542.950514\n",
       "Name: Farm Expenses, dtype: float64"
      ]
     },
     "execution_count": 14,
     "metadata": {},
     "output_type": "execute_result"
    }
   ],
   "source": [
    "year_2.groupby('STATUS')['Farm Expenses'].mean()"
   ]
  },
  {
   "cell_type": "markdown",
   "id": "33a8f195-e8a9-4ff1-875c-6d35839440db",
   "metadata": {},
   "source": [
    "## Spending And Expenditure"
   ]
  },
  {
   "cell_type": "markdown",
   "id": "b3c843d4-0eeb-4d29-bd3f-468748c6c7d4",
   "metadata": {},
   "source": [
    "\"consumption_exp_weekly(ugx)\"\t\"consumption_exp_monthly\"\t\"consumption_exp _annual\""
   ]
  },
  {
   "cell_type": "code",
   "execution_count": 15,
   "id": "ad83f840-9c3b-41ef-8a24-cf776495f6ee",
   "metadata": {},
   "outputs": [],
   "source": [
    "inflation_adjustment = 78.08 \n",
    "const_rate_adjustment = 3600"
   ]
  },
  {
   "cell_type": "code",
   "execution_count": 16,
   "id": "9d99e224-cbf0-45e1-aae6-0f8826e158bc",
   "metadata": {},
   "outputs": [
    {
     "data": {
      "text/plain": [
       "['Total Expenses.3',\n",
       " 'Education Expenses.3',\n",
       " 'Farm Expenses.3',\n",
       " 'consumption_own_production.3',\n",
       " 'Total Food Consumption',\n",
       " 'Total crop_consumption.3',\n",
       " 'consumption_exp_weekly(ugx).2',\n",
       " 'consumption_exp_monthly.2',\n",
       " 'consumption_exp _annual.2']"
      ]
     },
     "execution_count": 16,
     "metadata": {},
     "output_type": "execute_result"
    }
   ],
   "source": [
    "    [\n",
    "        \"Total Expenses.3\", \"Education Expenses.3\", \"Farm Expenses.3\",\n",
    "        \"consumption_own_production.3\",\"Total Food Consumption\",\"Total crop_consumption.3\",\n",
    "        \"consumption_exp_weekly(ugx).2\", \"consumption_exp_monthly.2\", \"consumption_exp _annual.2\"\n",
    "    ]"
   ]
  },
  {
   "cell_type": "code",
   "execution_count": 17,
   "id": "05f14451-f8d1-4310-9f9f-c79b0a692f86",
   "metadata": {},
   "outputs": [
    {
     "data": {
      "text/html": [
       "<div>\n",
       "<style scoped>\n",
       "    .dataframe tbody tr th:only-of-type {\n",
       "        vertical-align: middle;\n",
       "    }\n",
       "\n",
       "    .dataframe tbody tr th {\n",
       "        vertical-align: top;\n",
       "    }\n",
       "\n",
       "    .dataframe thead th {\n",
       "        text-align: right;\n",
       "    }\n",
       "</style>\n",
       "<table border=\"1\" class=\"dataframe\">\n",
       "  <thead>\n",
       "    <tr style=\"text-align: right;\">\n",
       "      <th>STATUS</th>\n",
       "      <th>PEER</th>\n",
       "      <th>RTV</th>\n",
       "    </tr>\n",
       "  </thead>\n",
       "  <tbody>\n",
       "    <tr>\n",
       "      <th>Total Expenses.3</th>\n",
       "      <td>554.956876</td>\n",
       "      <td>731.037593</td>\n",
       "    </tr>\n",
       "    <tr>\n",
       "      <th>Education Expenses.3</th>\n",
       "      <td>111.075484</td>\n",
       "      <td>122.606513</td>\n",
       "    </tr>\n",
       "    <tr>\n",
       "      <th>Farm Expenses.3</th>\n",
       "      <td>4.747821</td>\n",
       "      <td>7.491982</td>\n",
       "    </tr>\n",
       "    <tr>\n",
       "      <th>consumption_own_production.3</th>\n",
       "      <td>134.387468</td>\n",
       "      <td>241.440200</td>\n",
       "    </tr>\n",
       "    <tr>\n",
       "      <th>Total Food Consumption</th>\n",
       "      <td>357.771565</td>\n",
       "      <td>508.015081</td>\n",
       "    </tr>\n",
       "    <tr>\n",
       "      <th>Total crop_consumption.3</th>\n",
       "      <td>439.133572</td>\n",
       "      <td>600.939098</td>\n",
       "    </tr>\n",
       "  </tbody>\n",
       "</table>\n",
       "</div>"
      ],
      "text/plain": [
       "STATUS                              PEER         RTV\n",
       "Total Expenses.3              554.956876  731.037593\n",
       "Education Expenses.3          111.075484  122.606513\n",
       "Farm Expenses.3                 4.747821    7.491982\n",
       "consumption_own_production.3  134.387468  241.440200\n",
       "Total Food Consumption        357.771565  508.015081\n",
       "Total crop_consumption.3      439.133572  600.939098"
      ]
     },
     "execution_count": 17,
     "metadata": {},
     "output_type": "execute_result"
    }
   ],
   "source": [
    "year_2.groupby('STATUS')[\n",
    "    [\n",
    "        \"Total Expenses.3\", \"Education Expenses.3\", \"Farm Expenses.3\",\n",
    "        \"consumption_own_production.3\",\"Total Food Consumption\",\"Total crop_consumption.3\"\n",
    "    ]\n",
    "].mean().transpose()"
   ]
  },
  {
   "cell_type": "code",
   "execution_count": 18,
   "id": "928cedbe-793c-41d4-966d-c8c2a855468f",
   "metadata": {},
   "outputs": [
    {
     "data": {
      "text/html": [
       "<div>\n",
       "<style scoped>\n",
       "    .dataframe tbody tr th:only-of-type {\n",
       "        vertical-align: middle;\n",
       "    }\n",
       "\n",
       "    .dataframe tbody tr th {\n",
       "        vertical-align: top;\n",
       "    }\n",
       "\n",
       "    .dataframe thead th {\n",
       "        text-align: right;\n",
       "    }\n",
       "</style>\n",
       "<table border=\"1\" class=\"dataframe\">\n",
       "  <thead>\n",
       "    <tr style=\"text-align: right;\">\n",
       "      <th>STATUS</th>\n",
       "      <th>PEER</th>\n",
       "      <th>RTV</th>\n",
       "    </tr>\n",
       "  </thead>\n",
       "  <tbody>\n",
       "    <tr>\n",
       "      <th>consumption_exp_weekly(ugx).2</th>\n",
       "      <td>223.384097</td>\n",
       "      <td>266.574882</td>\n",
       "    </tr>\n",
       "    <tr>\n",
       "      <th>consumption_exp_monthly.2</th>\n",
       "      <td>53.242791</td>\n",
       "      <td>60.769885</td>\n",
       "    </tr>\n",
       "    <tr>\n",
       "      <th>consumption_exp _annual.2</th>\n",
       "      <td>28.119215</td>\n",
       "      <td>32.154132</td>\n",
       "    </tr>\n",
       "  </tbody>\n",
       "</table>\n",
       "</div>"
      ],
      "text/plain": [
       "STATUS                               PEER         RTV\n",
       "consumption_exp_weekly(ugx).2  223.384097  266.574882\n",
       "consumption_exp_monthly.2       53.242791   60.769885\n",
       "consumption_exp _annual.2       28.119215   32.154132"
      ]
     },
     "execution_count": 18,
     "metadata": {},
     "output_type": "execute_result"
    }
   ],
   "source": [
    "year_2.groupby('STATUS')[[\"consumption_exp_weekly(ugx).2\",\n",
    "                          \"consumption_exp_monthly.2\",\n",
    "                          \"consumption_exp _annual.2\"]].mean().transpose()"
   ]
  },
  {
   "cell_type": "code",
   "execution_count": 19,
   "id": "d6f919fb-c5d6-44e9-a04a-09bab26f72d2",
   "metadata": {},
   "outputs": [
    {
     "data": {
      "text/plain": [
       "(120.42737757480614, 6.799329838161839)"
      ]
     },
     "execution_count": 19,
     "metadata": {},
     "output_type": "execute_result"
    }
   ],
   "source": [
    "df[\"Education Expenses.3\"].mean(), df[\"Farm Expenses.3\"].mean()"
   ]
  },
  {
   "cell_type": "code",
   "execution_count": 20,
   "id": "8a946cbb-2f5f-4c80-9f97-059809e5c766",
   "metadata": {},
   "outputs": [
    {
     "data": {
      "text/html": [
       "<div>\n",
       "<style scoped>\n",
       "    .dataframe tbody tr th:only-of-type {\n",
       "        vertical-align: middle;\n",
       "    }\n",
       "\n",
       "    .dataframe tbody tr th {\n",
       "        vertical-align: top;\n",
       "    }\n",
       "\n",
       "    .dataframe thead th {\n",
       "        text-align: right;\n",
       "    }\n",
       "</style>\n",
       "<table border=\"1\" class=\"dataframe\">\n",
       "  <thead>\n",
       "    <tr style=\"text-align: right;\">\n",
       "      <th></th>\n",
       "      <th>Education Expenses.3</th>\n",
       "      <th>Farm Expenses.3</th>\n",
       "    </tr>\n",
       "    <tr>\n",
       "      <th>STATUS</th>\n",
       "      <th></th>\n",
       "      <th></th>\n",
       "    </tr>\n",
       "  </thead>\n",
       "  <tbody>\n",
       "    <tr>\n",
       "      <th>PEER</th>\n",
       "      <td>111.075484</td>\n",
       "      <td>4.747821</td>\n",
       "    </tr>\n",
       "    <tr>\n",
       "      <th>RTV</th>\n",
       "      <td>122.606513</td>\n",
       "      <td>7.491982</td>\n",
       "    </tr>\n",
       "  </tbody>\n",
       "</table>\n",
       "</div>"
      ],
      "text/plain": [
       "        Education Expenses.3  Farm Expenses.3\n",
       "STATUS                                       \n",
       "PEER              111.075484         4.747821\n",
       "RTV               122.606513         7.491982"
      ]
     },
     "execution_count": 20,
     "metadata": {},
     "output_type": "execute_result"
    }
   ],
   "source": [
    "year_2.groupby('STATUS')[\n",
    "    ['Education Expenses.3', 'Farm Expenses.3']\n",
    "].mean()"
   ]
  },
  {
   "cell_type": "markdown",
   "id": "40187396-dfae-42c7-b731-14748d54cdc8",
   "metadata": {},
   "source": [
    "## Expenditure Items"
   ]
  },
  {
   "cell_type": "code",
   "execution_count": 43,
   "id": "1181a1ae-5724-4cd9-af18-88754e988b82",
   "metadata": {
    "scrolled": true
   },
   "outputs": [
    {
     "data": {
      "text/html": [
       "<div>\n",
       "<style scoped>\n",
       "    .dataframe tbody tr th:only-of-type {\n",
       "        vertical-align: middle;\n",
       "    }\n",
       "\n",
       "    .dataframe tbody tr th {\n",
       "        vertical-align: top;\n",
       "    }\n",
       "\n",
       "    .dataframe thead th {\n",
       "        text-align: right;\n",
       "    }\n",
       "</style>\n",
       "<table border=\"1\" class=\"dataframe\">\n",
       "  <thead>\n",
       "    <tr style=\"text-align: right;\">\n",
       "      <th>STATUS</th>\n",
       "      <th>PEER</th>\n",
       "      <th>RTV</th>\n",
       "    </tr>\n",
       "  </thead>\n",
       "  <tbody>\n",
       "    <tr>\n",
       "      <th>cereals_week</th>\n",
       "      <td>0.733507</td>\n",
       "      <td>0.747903</td>\n",
       "    </tr>\n",
       "    <tr>\n",
       "      <th>tubers_week</th>\n",
       "      <td>0.335107</td>\n",
       "      <td>0.249560</td>\n",
       "    </tr>\n",
       "    <tr>\n",
       "      <th>pulses_week</th>\n",
       "      <td>0.442160</td>\n",
       "      <td>0.394101</td>\n",
       "    </tr>\n",
       "    <tr>\n",
       "      <th>milk_week</th>\n",
       "      <td>0.091407</td>\n",
       "      <td>0.232547</td>\n",
       "    </tr>\n",
       "    <tr>\n",
       "      <th>vegetables_week</th>\n",
       "      <td>0.272496</td>\n",
       "      <td>0.119007</td>\n",
       "    </tr>\n",
       "    <tr>\n",
       "      <th>fruits_week</th>\n",
       "      <td>0.066506</td>\n",
       "      <td>0.071352</td>\n",
       "    </tr>\n",
       "    <tr>\n",
       "      <th>meat_poultry_offals</th>\n",
       "      <td>0.587714</td>\n",
       "      <td>1.059896</td>\n",
       "    </tr>\n",
       "    <tr>\n",
       "      <th>eggs</th>\n",
       "      <td>0.075754</td>\n",
       "      <td>0.142625</td>\n",
       "    </tr>\n",
       "    <tr>\n",
       "      <th>fish_week</th>\n",
       "      <td>0.454682</td>\n",
       "      <td>0.682467</td>\n",
       "    </tr>\n",
       "    <tr>\n",
       "      <th>sugar_week</th>\n",
       "      <td>0.298147</td>\n",
       "      <td>0.490093</td>\n",
       "    </tr>\n",
       "    <tr>\n",
       "      <th>fat_oils_week</th>\n",
       "      <td>0.257620</td>\n",
       "      <td>0.286177</td>\n",
       "    </tr>\n",
       "    <tr>\n",
       "      <th>misc_week</th>\n",
       "      <td>0.685164</td>\n",
       "      <td>0.706289</td>\n",
       "    </tr>\n",
       "    <tr>\n",
       "      <th>snacks_week</th>\n",
       "      <td>0.073463</td>\n",
       "      <td>0.092401</td>\n",
       "    </tr>\n",
       "    <tr>\n",
       "      <th>alcohol_week</th>\n",
       "      <td>0.173320</td>\n",
       "      <td>0.158985</td>\n",
       "    </tr>\n",
       "  </tbody>\n",
       "</table>\n",
       "</div>"
      ],
      "text/plain": [
       "STATUS                   PEER       RTV\n",
       "cereals_week         0.733507  0.747903\n",
       "tubers_week          0.335107  0.249560\n",
       "pulses_week          0.442160  0.394101\n",
       "milk_week            0.091407  0.232547\n",
       "vegetables_week      0.272496  0.119007\n",
       "fruits_week          0.066506  0.071352\n",
       "meat_poultry_offals  0.587714  1.059896\n",
       "eggs                 0.075754  0.142625\n",
       "fish_week            0.454682  0.682467\n",
       "sugar_week           0.298147  0.490093\n",
       "fat_oils_week        0.257620  0.286177\n",
       "misc_week            0.685164  0.706289\n",
       "snacks_week          0.073463  0.092401\n",
       "alcohol_week         0.173320  0.158985"
      ]
     },
     "execution_count": 43,
     "metadata": {},
     "output_type": "execute_result"
    }
   ],
   "source": [
    "expenditure_items_columns = [\n",
    "    'cereals_week',\n",
    "    'tubers_week',\n",
    "    'pulses_week',\n",
    "    'milk_week',\n",
    "    'vegetables_week',\n",
    "    'fruits_week',\n",
    "    'meat_poultry_offals',\n",
    "    'eggs',\n",
    "    'fish_week',\n",
    "    'sugar_week',\n",
    "    'fat_oils_week',\n",
    "    'misc_week',\n",
    "    'snacks_week',\n",
    "    'alcohol_week'\n",
    "]\n",
    "\n",
    "result = (year_2.groupby('STATUS')[expenditure_items_columns]\n",
    "          .mean() * (inflation_adjustment / 100) / const_rate_adjustment).transpose()\n",
    "result"
   ]
  },
  {
   "cell_type": "markdown",
   "id": "92f4d0f8-b549-47ef-b18e-8a5892f66ba6",
   "metadata": {
    "jp-MarkdownHeadingCollapsed": true
   },
   "source": [
    "# consumed_not_spent"
   ]
  },
  {
   "cell_type": "code",
   "execution_count": null,
   "id": "bf0bbbe2-5e1f-4eaa-98d2-301caced0690",
   "metadata": {},
   "outputs": [],
   "source": [
    "consumed_not_spent = year_2[(year_2['cereals_week'] == 0) & (year_2['cereals_days'] > 0)]\n",
    "\n",
    "grouped_result = consumed_not_spent.groupby(['STATUS', 'cereals_days']).size()\n",
    "\n",
    "grouped_result"
   ]
  },
  {
   "cell_type": "code",
   "execution_count": 164,
   "id": "6f52e810-17bd-420b-8647-c046e01037a4",
   "metadata": {},
   "outputs": [],
   "source": [
    "def analyze_consumption_without_spending(df, item):\n",
    "    consumed_not_spent = df[(df[f'{item}_week'] == 0) & (df[f'{item}_days'] > 0)]\n",
    "    return consumed_not_spent.groupby(['STATUS', f'{item}_days']).size()"
   ]
  },
  {
   "cell_type": "code",
   "execution_count": 167,
   "id": "89d46fc8-6ae7-49f0-8220-977821b2803f",
   "metadata": {},
   "outputs": [
    {
     "data": {
      "text/plain": [
       "{'cereals': STATUS  cereals_days\n",
       " PEER    1                36\n",
       "         2               144\n",
       "         3               231\n",
       "         4               144\n",
       "         5                95\n",
       "         6                96\n",
       "         7               105\n",
       " RTV     1                84\n",
       "         2               479\n",
       "         3               845\n",
       "         4               391\n",
       "         5               415\n",
       "         6               339\n",
       "         7               445\n",
       " dtype: int64,\n",
       " 'vegetables': STATUS  vegetables_days\n",
       " PEER    1                    48\n",
       "         2                   200\n",
       "         3                   257\n",
       "         4                   122\n",
       "         5                   162\n",
       "         6                    98\n",
       "         7                    94\n",
       " RTV     1                   123\n",
       "         2                   803\n",
       "         3                  1468\n",
       "         4                   715\n",
       "         5                   841\n",
       "         6                   540\n",
       "         7                   649\n",
       " dtype: int64,\n",
       " 'fruits': STATUS  fruits_days\n",
       " PEER    1                84\n",
       "         2               307\n",
       "         3               294\n",
       "         4               143\n",
       "         5               205\n",
       "         6                60\n",
       "         7                70\n",
       " RTV     1               245\n",
       "         2              1034\n",
       "         3              1161\n",
       "         4               524\n",
       "         5               681\n",
       "         6               270\n",
       "         7               340\n",
       " dtype: int64}"
      ]
     },
     "execution_count": 167,
     "metadata": {},
     "output_type": "execute_result"
    }
   ],
   "source": [
    "items = ['cereals', 'vegetables', 'fruits']\n",
    "results = {item: analyze_consumption_without_spending(year_2, item) for item in items}\n",
    "results"
   ]
  },
  {
   "cell_type": "markdown",
   "id": "76310f4a-1da4-45d8-8423-ec29fa2e00df",
   "metadata": {},
   "source": [
    "# continuation"
   ]
  },
  {
   "cell_type": "code",
   "execution_count": 22,
   "id": "2c9c9c08-f53f-40cd-ac29-00b9a2ea98ee",
   "metadata": {},
   "outputs": [],
   "source": [
    "# Create a copy of the data including the STATUS column\n",
    "year_2_filtered = year_2[['STATUS'] + expenditure_items_columns].copy()\n",
    "\n",
    "# Replace zeros with NaN only for the expenditure columns, not STATUS\n",
    "year_2_filtered[expenditure_items_columns] = year_2_filtered[expenditure_items_columns].replace(0, np.nan)"
   ]
  },
  {
   "cell_type": "code",
   "execution_count": 23,
   "id": "cf83e21d-973a-4944-ba25-0c8df27030a7",
   "metadata": {},
   "outputs": [],
   "source": [
    "# Filtering out the zeros"
   ]
  },
  {
   "cell_type": "code",
   "execution_count": 24,
   "id": "4d1a57ae-0077-41ae-bc83-979ac24272d4",
   "metadata": {},
   "outputs": [
    {
     "data": {
      "text/html": [
       "<div>\n",
       "<style scoped>\n",
       "    .dataframe tbody tr th:only-of-type {\n",
       "        vertical-align: middle;\n",
       "    }\n",
       "\n",
       "    .dataframe tbody tr th {\n",
       "        vertical-align: top;\n",
       "    }\n",
       "\n",
       "    .dataframe thead th {\n",
       "        text-align: right;\n",
       "    }\n",
       "</style>\n",
       "<table border=\"1\" class=\"dataframe\">\n",
       "  <thead>\n",
       "    <tr style=\"text-align: right;\">\n",
       "      <th>STATUS</th>\n",
       "      <th>PEER</th>\n",
       "      <th>RTV</th>\n",
       "    </tr>\n",
       "  </thead>\n",
       "  <tbody>\n",
       "    <tr>\n",
       "      <th>cereals_week</th>\n",
       "      <td>1.364864</td>\n",
       "      <td>1.442788</td>\n",
       "    </tr>\n",
       "    <tr>\n",
       "      <th>tubers_week</th>\n",
       "      <td>1.578726</td>\n",
       "      <td>1.500303</td>\n",
       "    </tr>\n",
       "    <tr>\n",
       "      <th>pulses_week</th>\n",
       "      <td>1.495818</td>\n",
       "      <td>1.572550</td>\n",
       "    </tr>\n",
       "    <tr>\n",
       "      <th>milk_week</th>\n",
       "      <td>0.768980</td>\n",
       "      <td>0.950684</td>\n",
       "    </tr>\n",
       "    <tr>\n",
       "      <th>vegetables_week</th>\n",
       "      <td>0.678041</td>\n",
       "      <td>0.537673</td>\n",
       "    </tr>\n",
       "    <tr>\n",
       "      <th>fruits_week</th>\n",
       "      <td>0.556548</td>\n",
       "      <td>0.630433</td>\n",
       "    </tr>\n",
       "    <tr>\n",
       "      <th>meat_poultry_offals</th>\n",
       "      <td>2.163115</td>\n",
       "      <td>2.267555</td>\n",
       "    </tr>\n",
       "    <tr>\n",
       "      <th>eggs</th>\n",
       "      <td>0.651077</td>\n",
       "      <td>0.678154</td>\n",
       "    </tr>\n",
       "    <tr>\n",
       "      <th>fish_week</th>\n",
       "      <td>1.980671</td>\n",
       "      <td>2.065107</td>\n",
       "    </tr>\n",
       "    <tr>\n",
       "      <th>sugar_week</th>\n",
       "      <td>0.677220</td>\n",
       "      <td>0.723923</td>\n",
       "    </tr>\n",
       "    <tr>\n",
       "      <th>fat_oils_week</th>\n",
       "      <td>0.595806</td>\n",
       "      <td>0.608583</td>\n",
       "    </tr>\n",
       "    <tr>\n",
       "      <th>misc_week</th>\n",
       "      <td>0.706034</td>\n",
       "      <td>0.718881</td>\n",
       "    </tr>\n",
       "    <tr>\n",
       "      <th>snacks_week</th>\n",
       "      <td>0.436656</td>\n",
       "      <td>0.446104</td>\n",
       "    </tr>\n",
       "  </tbody>\n",
       "</table>\n",
       "</div>"
      ],
      "text/plain": [
       "STATUS                   PEER       RTV\n",
       "cereals_week         1.364864  1.442788\n",
       "tubers_week          1.578726  1.500303\n",
       "pulses_week          1.495818  1.572550\n",
       "milk_week            0.768980  0.950684\n",
       "vegetables_week      0.678041  0.537673\n",
       "fruits_week          0.556548  0.630433\n",
       "meat_poultry_offals  2.163115  2.267555\n",
       "eggs                 0.651077  0.678154\n",
       "fish_week            1.980671  2.065107\n",
       "sugar_week           0.677220  0.723923\n",
       "fat_oils_week        0.595806  0.608583\n",
       "misc_week            0.706034  0.718881\n",
       "snacks_week          0.436656  0.446104"
      ]
     },
     "execution_count": 24,
     "metadata": {},
     "output_type": "execute_result"
    }
   ],
   "source": [
    "(year_2_filtered.groupby('STATUS')[expenditure_items_columns]\n",
    "          .mean() * (inflation_adjustment / 100) / const_rate_adjustment).transpose()"
   ]
  },
  {
   "cell_type": "code",
   "execution_count": 25,
   "id": "625910f0-6b4c-4ab3-bc5c-28b70b0d8c52",
   "metadata": {},
   "outputs": [
    {
     "data": {
      "text/html": [
       "<div>\n",
       "<style scoped>\n",
       "    .dataframe tbody tr th:only-of-type {\n",
       "        vertical-align: middle;\n",
       "    }\n",
       "\n",
       "    .dataframe tbody tr th {\n",
       "        vertical-align: top;\n",
       "    }\n",
       "\n",
       "    .dataframe thead th {\n",
       "        text-align: right;\n",
       "    }\n",
       "</style>\n",
       "<table border=\"1\" class=\"dataframe\">\n",
       "  <thead>\n",
       "    <tr style=\"text-align: right;\">\n",
       "      <th>STATUS</th>\n",
       "      <th>PEER</th>\n",
       "      <th>RTV</th>\n",
       "    </tr>\n",
       "  </thead>\n",
       "  <tbody>\n",
       "    <tr>\n",
       "      <th>alcohol_week</th>\n",
       "      <td>0.173320</td>\n",
       "      <td>0.158985</td>\n",
       "    </tr>\n",
       "    <tr>\n",
       "      <th>tobacco_week</th>\n",
       "      <td>0.004501</td>\n",
       "      <td>0.003932</td>\n",
       "    </tr>\n",
       "    <tr>\n",
       "      <th>consump_food_gift_week</th>\n",
       "      <td>0.054406</td>\n",
       "      <td>0.069942</td>\n",
       "    </tr>\n",
       "    <tr>\n",
       "      <th>consump_inkind_week</th>\n",
       "      <td>0.047879</td>\n",
       "      <td>0.046367</td>\n",
       "    </tr>\n",
       "  </tbody>\n",
       "</table>\n",
       "</div>"
      ],
      "text/plain": [
       "STATUS                      PEER       RTV\n",
       "alcohol_week            0.173320  0.158985\n",
       "tobacco_week            0.004501  0.003932\n",
       "consump_food_gift_week  0.054406  0.069942\n",
       "consump_inkind_week     0.047879  0.046367"
      ]
     },
     "execution_count": 25,
     "metadata": {},
     "output_type": "execute_result"
    }
   ],
   "source": [
    "(year_2.groupby('STATUS')[['alcohol_week',\n",
    "                        'tobacco_week', \n",
    "                        'consump_food_gift_week', \n",
    "                        'consump_inkind_week'\n",
    "                          ]].mean() * (inflation_adjustment/100) /const_rate_adjustment).transpose()"
   ]
  },
  {
   "cell_type": "code",
   "execution_count": 26,
   "id": "4ee6d5a0-126d-4b30-9eb4-9f8b630dfc83",
   "metadata": {},
   "outputs": [],
   "source": [
    "!pip install -Uq scipy"
   ]
  },
  {
   "cell_type": "code",
   "execution_count": 27,
   "id": "7b7c58da-401a-42b4-ba59-59eaf91f32b3",
   "metadata": {},
   "outputs": [
    {
     "name": "stdout",
     "output_type": "stream",
     "text": [
      "Outcome: Total Expenses.3\n",
      "T-statistic: 30.4082018601314, P-value: 2.5924008350910845e-195\n",
      "The treatment effect on Total Expenses.3 is statistically significant.\n",
      "\n",
      "Outcome: Education Expenses.3\n",
      "T-statistic: 4.168872487600474, P-value: 3.083842668001174e-05\n",
      "The treatment effect on Education Expenses.3 is statistically significant.\n",
      "\n",
      "Outcome: Farm Expenses.3\n",
      "T-statistic: 14.036739760275871, P-value: 2.1830564472680165e-44\n",
      "The treatment effect on Farm Expenses.3 is statistically significant.\n",
      "\n",
      "Outcome: consumption_own_production.3\n",
      "T-statistic: 37.00567583330302, P-value: 4.154241911384237e-283\n",
      "The treatment effect on consumption_own_production.3 is statistically significant.\n",
      "\n",
      "Outcome: Total Food Consumption\n",
      "T-statistic: 34.56390630232134, P-value: 5.491446104803251e-249\n",
      "The treatment effect on Total Food Consumption is statistically significant.\n",
      "\n",
      "Outcome: Total crop_consumption.3\n",
      "T-statistic: 34.481633154823434, P-value: 7.19205036301067e-248\n",
      "The treatment effect on Total crop_consumption.3 is statistically significant.\n",
      "\n",
      "Outcome: consumption_exp_weekly(ugx).2\n",
      "T-statistic: 12.927038422548563, P-value: 5.870272177905374e-38\n",
      "The treatment effect on consumption_exp_weekly(ugx).2 is statistically significant.\n",
      "\n",
      "Outcome: consumption_exp_monthly.2\n",
      "T-statistic: 9.267303310797779, P-value: 2.252755807675733e-20\n",
      "The treatment effect on consumption_exp_monthly.2 is statistically significant.\n",
      "\n",
      "Outcome: consumption_exp _annual.2\n",
      "T-statistic: 12.804835164274731, P-value: 2.790465866404523e-37\n",
      "The treatment effect on consumption_exp _annual.2 is statistically significant.\n",
      "\n"
     ]
    }
   ],
   "source": [
    "import pandas as pd\n",
    "import scipy.stats as stats\n",
    "\n",
    "\n",
    "outcome_vars =  [\n",
    "        \"Total Expenses.3\", \"Education Expenses.3\", \"Farm Expenses.3\",\n",
    "        \"consumption_own_production.3\",\"Total Food Consumption\",\"Total crop_consumption.3\",\n",
    "        \"consumption_exp_weekly(ugx).2\", \"consumption_exp_monthly.2\", \"consumption_exp _annual.2\"\n",
    "    ]\n",
    "\n",
    "# Loop through each outcome variable\n",
    "for outcome in outcome_vars:\n",
    "    treated = year_2[year_2['STATUS'] == 'RTV'][outcome]\n",
    "    control = year_2[year_2['STATUS'] == 'PEER'][outcome]\n",
    "    \n",
    "    # Perform the t-test\n",
    "    t_stat, p_value = stats.ttest_ind(treated, control)\n",
    "    \n",
    "    print(f\"Outcome: {outcome}\")\n",
    "    print(f\"T-statistic: {t_stat}, P-value: {p_value}\")\n",
    "    \n",
    "    if p_value < 0.05:\n",
    "        print(f\"The treatment effect on {outcome} is statistically significant.\\n\")\n",
    "    else:\n",
    "        print(f\"The treatment effect on {outcome} is not statistically significant.\\n\")\n"
   ]
  },
  {
   "cell_type": "code",
   "execution_count": 41,
   "id": "7e52cbd1-4862-4c26-9cab-ab90d4d9a198",
   "metadata": {},
   "outputs": [
    {
     "data": {
      "text/plain": [
       "(0.010000000000000009, 0.050000000000000044, 0.09999999999999998)"
      ]
     },
     "execution_count": 41,
     "metadata": {},
     "output_type": "execute_result"
    }
   ],
   "source": [
    "1-(99/100), 1-(95/100), 1-(90/100)"
   ]
  },
  {
   "cell_type": "markdown",
   "id": "9ffbfd66-5d91-4bc5-8414-04f034096ec1",
   "metadata": {},
   "source": [
    "***   --- significant 99%\n",
    "**    --- Significant 95%\n",
    "*     --- Significant 90%"
   ]
  },
  {
   "cell_type": "code",
   "execution_count": 44,
   "id": "3bd9bacd-e6a9-434e-ad9e-2def5ea6d596",
   "metadata": {},
   "outputs": [
    {
     "name": "stdout",
     "output_type": "stream",
     "text": [
      "Outcome: cereals_week\n",
      "T-statistic: 0.7233971272480489, P-value: 0.46945085371674844\n",
      "The treatment effect on cereals_week is not statistically significant.\n",
      "\n",
      "Outcome: tubers_week\n",
      "T-statistic: -5.543589961199426, P-value: 3.0295864302494165e-08\n",
      "The treatment effect on tubers_week is statistically significant.\n",
      "\n",
      "Outcome: pulses_week\n",
      "T-statistic: -2.7983843572444425, P-value: 0.005144561505441294\n",
      "The treatment effect on pulses_week is statistically significant.\n",
      "\n",
      "Outcome: milk_week\n",
      "T-statistic: 14.333549577492267, P-value: 3.4166115424349153e-46\n",
      "The treatment effect on milk_week is statistically significant.\n",
      "\n",
      "Outcome: vegetables_week\n",
      "T-statistic: -24.40695032677409, P-value: 2.8370379149429643e-128\n",
      "The treatment effect on vegetables_week is statistically significant.\n",
      "\n",
      "Outcome: fruits_week\n",
      "T-statistic: 0.971136215087396, P-value: 0.33150116106433125\n",
      "The treatment effect on fruits_week is not statistically significant.\n",
      "\n",
      "Outcome: meat_poultry_offals\n",
      "T-statistic: 18.190498419357592, P-value: 6.644059815350702e-73\n",
      "The treatment effect on meat_poultry_offals is statistically significant.\n",
      "\n",
      "Outcome: eggs\n",
      "T-statistic: 10.183235706913807, P-value: 2.9953529870658493e-24\n",
      "The treatment effect on eggs is statistically significant.\n",
      "\n",
      "Outcome: fish_week\n",
      "T-statistic: 10.712142352333025, P-value: 1.1970049215182497e-26\n",
      "The treatment effect on fish_week is statistically significant.\n",
      "\n",
      "Outcome: sugar_week\n",
      "T-statistic: 23.336888787967016, P-value: 1.0818548487352288e-117\n",
      "The treatment effect on sugar_week is statistically significant.\n",
      "\n",
      "Outcome: fat_oils_week\n",
      "T-statistic: 4.013998083146774, P-value: 6.0082847671604396e-05\n",
      "The treatment effect on fat_oils_week is statistically significant.\n",
      "\n",
      "Outcome: misc_week\n",
      "T-statistic: 2.8084820550001663, P-value: 0.004986074266153723\n",
      "The treatment effect on misc_week is statistically significant.\n",
      "\n",
      "Outcome: snacks_week\n",
      "T-statistic: 4.532202317496279, P-value: 5.8969035033007246e-06\n",
      "The treatment effect on snacks_week is statistically significant.\n",
      "\n",
      "Outcome: alcohol_week\n",
      "T-statistic: -2.0851563547105183, P-value: 0.0370774154879306\n",
      "The treatment effect on alcohol_week is statistically significant.\n",
      "\n"
     ]
    }
   ],
   "source": [
    "# Loop through each outcome variable\n",
    "for outcome in expenditure_items_columns:\n",
    "    treated = year_2[year_2['STATUS'] == 'RTV'][outcome]\n",
    "    control = year_2[year_2['STATUS'] == 'PEER'][outcome]\n",
    "    \n",
    "    # Perform the t-test\n",
    "    t_stat, p_value = stats.ttest_ind(treated, control)\n",
    "    \n",
    "    print(f\"Outcome: {outcome}\")\n",
    "    print(f\"T-statistic: {t_stat}, P-value: {p_value}\")\n",
    "    \n",
    "    if p_value < 0.05:\n",
    "        print(f\"The treatment effect on {outcome} is statistically significant.\\n\")\n",
    "    else:\n",
    "        print(f\"The treatment effect on {outcome} is not statistically significant.\\n\")\n"
   ]
  },
  {
   "cell_type": "code",
   "execution_count": null,
   "id": "a97b5d34-e425-4f7f-bc2e-032b7028030e",
   "metadata": {},
   "outputs": [],
   "source": []
  },
  {
   "cell_type": "markdown",
   "id": "fae5804d-ae24-4f85-b5f3-93e2e0070f7c",
   "metadata": {
    "jp-MarkdownHeadingCollapsed": true
   },
   "source": [
    "## Farm Expenses"
   ]
  },
  {
   "cell_type": "markdown",
   "id": "9ba95c79-41d4-4076-9aac-d7e5be75693e",
   "metadata": {},
   "source": [
    "1\tPloughs\n",
    "2\tMachetes/Panga\n",
    "3\tHoes\n",
    "4\tRent of tractors\n",
    "5\tOx Ploughs\n",
    "6\tWatering Can\n",
    "7\tSeeds\n",
    "8\tIrrigation\n",
    "97\tOther (please specify)"
   ]
  },
  {
   "cell_type": "markdown",
   "id": "99307729-8a18-40e9-9586-eca14cc707d1",
   "metadata": {},
   "source": [
    "1\tOrganic Pesticides\n",
    "2\tOrganic Fungicides\n",
    "3\tOrganic Herbicides\n",
    "4\tSynthetic Pesticides\n",
    "5\tSynthetic Fungicides\n",
    "6\tSynthetic Herbicides\n",
    "99\tNone"
   ]
  },
  {
   "cell_type": "code",
   "execution_count": 210,
   "id": "64aa7d8b-23e7-49c7-b758-4287bd657fb6",
   "metadata": {},
   "outputs": [],
   "source": [
    "farm_variables = [\n",
    "    'farming_inputs1_expenses', 'farming_inputs2_expenses', 'farming_inputs3_expenses',\n",
    "    'farming_inputs4_expenses', 'farming_inputs5_expenses', 'farming_inputs6_expenses',\n",
    "    'farming_inputs7_expenses', 'farming_inputs8_expenses', 'farming_inputsother_expenses',\n",
    "    'organic_inputs_1', 'organic_inputs_2', 'organic_inputs_3',\n",
    "    'organic_inputs_4', 'organic_inputs_5', 'organic_inputs_6', 'organic_inputs_99',\n",
    "    'organic1_expenses', 'organic2_expenses', 'organic3_expenses', 'organic4_expenses',\n",
    "    'organic5_expenses', 'organic6_expenses', 'bags_storage_expenses',\n",
    "    'formal_agriculturalinsurance_expenses', 'formal_transport_farm_expenses'\n",
    "]\n"
   ]
  },
  {
   "cell_type": "code",
   "execution_count": 211,
   "id": "73426d99-9de8-4adb-9621-85a95e3818f7",
   "metadata": {},
   "outputs": [
    {
     "data": {
      "text/html": [
       "<div>\n",
       "<style scoped>\n",
       "    .dataframe tbody tr th:only-of-type {\n",
       "        vertical-align: middle;\n",
       "    }\n",
       "\n",
       "    .dataframe tbody tr th {\n",
       "        vertical-align: top;\n",
       "    }\n",
       "\n",
       "    .dataframe thead th {\n",
       "        text-align: right;\n",
       "    }\n",
       "</style>\n",
       "<table border=\"1\" class=\"dataframe\">\n",
       "  <thead>\n",
       "    <tr style=\"text-align: right;\">\n",
       "      <th>STATUS</th>\n",
       "      <th>PEER</th>\n",
       "      <th>RTV</th>\n",
       "    </tr>\n",
       "  </thead>\n",
       "  <tbody>\n",
       "    <tr>\n",
       "      <th>farming_inputs1_expenses</th>\n",
       "      <td>7.547733</td>\n",
       "      <td>7.757276</td>\n",
       "    </tr>\n",
       "    <tr>\n",
       "      <th>farming_inputs2_expenses</th>\n",
       "      <td>2.495688</td>\n",
       "      <td>2.801240</td>\n",
       "    </tr>\n",
       "    <tr>\n",
       "      <th>farming_inputs3_expenses</th>\n",
       "      <td>3.407583</td>\n",
       "      <td>3.643724</td>\n",
       "    </tr>\n",
       "    <tr>\n",
       "      <th>farming_inputs4_expenses</th>\n",
       "      <td>7.536889</td>\n",
       "      <td>11.526095</td>\n",
       "    </tr>\n",
       "    <tr>\n",
       "      <th>farming_inputs5_expenses</th>\n",
       "      <td>7.343073</td>\n",
       "      <td>6.365448</td>\n",
       "    </tr>\n",
       "    <tr>\n",
       "      <th>farming_inputs6_expenses</th>\n",
       "      <td>2.618159</td>\n",
       "      <td>2.293519</td>\n",
       "    </tr>\n",
       "    <tr>\n",
       "      <th>farming_inputs7_expenses</th>\n",
       "      <td>4.726370</td>\n",
       "      <td>5.154837</td>\n",
       "    </tr>\n",
       "    <tr>\n",
       "      <th>farming_inputs8_expenses</th>\n",
       "      <td>1.616808</td>\n",
       "      <td>2.472786</td>\n",
       "    </tr>\n",
       "    <tr>\n",
       "      <th>farming_inputsother_expenses</th>\n",
       "      <td>1.756800</td>\n",
       "      <td>1.554370</td>\n",
       "    </tr>\n",
       "    <tr>\n",
       "      <th>organic_inputs_1</th>\n",
       "      <td>0.241974</td>\n",
       "      <td>0.476991</td>\n",
       "    </tr>\n",
       "    <tr>\n",
       "      <th>organic_inputs_2</th>\n",
       "      <td>0.063163</td>\n",
       "      <td>0.146296</td>\n",
       "    </tr>\n",
       "    <tr>\n",
       "      <th>organic_inputs_3</th>\n",
       "      <td>0.045024</td>\n",
       "      <td>0.142186</td>\n",
       "    </tr>\n",
       "    <tr>\n",
       "      <th>organic_inputs_4</th>\n",
       "      <td>0.484591</td>\n",
       "      <td>0.473024</td>\n",
       "    </tr>\n",
       "    <tr>\n",
       "      <th>organic_inputs_5</th>\n",
       "      <td>0.082073</td>\n",
       "      <td>0.082352</td>\n",
       "    </tr>\n",
       "    <tr>\n",
       "      <th>organic_inputs_6</th>\n",
       "      <td>0.303336</td>\n",
       "      <td>0.123349</td>\n",
       "    </tr>\n",
       "    <tr>\n",
       "      <th>organic_inputs_99</th>\n",
       "      <td>0.000131</td>\n",
       "      <td>0.000117</td>\n",
       "    </tr>\n",
       "    <tr>\n",
       "      <th>organic1_expenses</th>\n",
       "      <td>8.504513</td>\n",
       "      <td>4.363336</td>\n",
       "    </tr>\n",
       "    <tr>\n",
       "      <th>organic2_expenses</th>\n",
       "      <td>3.551556</td>\n",
       "      <td>3.188575</td>\n",
       "    </tr>\n",
       "    <tr>\n",
       "      <th>organic3_expenses</th>\n",
       "      <td>4.193185</td>\n",
       "      <td>6.382117</td>\n",
       "    </tr>\n",
       "    <tr>\n",
       "      <th>organic4_expenses</th>\n",
       "      <td>6.298220</td>\n",
       "      <td>8.494418</td>\n",
       "    </tr>\n",
       "    <tr>\n",
       "      <th>organic5_expenses</th>\n",
       "      <td>5.267302</td>\n",
       "      <td>8.250815</td>\n",
       "    </tr>\n",
       "    <tr>\n",
       "      <th>organic6_expenses</th>\n",
       "      <td>9.522299</td>\n",
       "      <td>5.847266</td>\n",
       "    </tr>\n",
       "    <tr>\n",
       "      <th>bags_storage_expenses</th>\n",
       "      <td>1.020988</td>\n",
       "      <td>1.374658</td>\n",
       "    </tr>\n",
       "    <tr>\n",
       "      <th>formal_agriculturalinsurance_expenses</th>\n",
       "      <td>0.044745</td>\n",
       "      <td>0.112302</td>\n",
       "    </tr>\n",
       "    <tr>\n",
       "      <th>formal_transport_farm_expenses</th>\n",
       "      <td>1.218681</td>\n",
       "      <td>2.413596</td>\n",
       "    </tr>\n",
       "  </tbody>\n",
       "</table>\n",
       "</div>"
      ],
      "text/plain": [
       "STATUS                                     PEER        RTV\n",
       "farming_inputs1_expenses               7.547733   7.757276\n",
       "farming_inputs2_expenses               2.495688   2.801240\n",
       "farming_inputs3_expenses               3.407583   3.643724\n",
       "farming_inputs4_expenses               7.536889  11.526095\n",
       "farming_inputs5_expenses               7.343073   6.365448\n",
       "farming_inputs6_expenses               2.618159   2.293519\n",
       "farming_inputs7_expenses               4.726370   5.154837\n",
       "farming_inputs8_expenses               1.616808   2.472786\n",
       "farming_inputsother_expenses           1.756800   1.554370\n",
       "organic_inputs_1                       0.241974   0.476991\n",
       "organic_inputs_2                       0.063163   0.146296\n",
       "organic_inputs_3                       0.045024   0.142186\n",
       "organic_inputs_4                       0.484591   0.473024\n",
       "organic_inputs_5                       0.082073   0.082352\n",
       "organic_inputs_6                       0.303336   0.123349\n",
       "organic_inputs_99                      0.000131   0.000117\n",
       "organic1_expenses                      8.504513   4.363336\n",
       "organic2_expenses                      3.551556   3.188575\n",
       "organic3_expenses                      4.193185   6.382117\n",
       "organic4_expenses                      6.298220   8.494418\n",
       "organic5_expenses                      5.267302   8.250815\n",
       "organic6_expenses                      9.522299   5.847266\n",
       "bags_storage_expenses                  1.020988   1.374658\n",
       "formal_agriculturalinsurance_expenses  0.044745   0.112302\n",
       "formal_transport_farm_expenses         1.218681   2.413596"
      ]
     },
     "execution_count": 211,
     "metadata": {},
     "output_type": "execute_result"
    }
   ],
   "source": [
    "(year_2.groupby('STATUS')[farm_variables]\n",
    "          .mean() * (inflation_adjustment / 100) / const_rate_adjustment).transpose()"
   ]
  },
  {
   "cell_type": "code",
   "execution_count": null,
   "id": "a47ac845-0592-4881-afb6-5326f42b18d2",
   "metadata": {},
   "outputs": [],
   "source": []
  },
  {
   "cell_type": "markdown",
   "id": "a2ba17f4-d55e-490d-91fe-7a4c2a775819",
   "metadata": {},
   "source": [
    "## Year 5"
   ]
  },
  {
   "cell_type": "code",
   "execution_count": 28,
   "id": "a86e576a-1a8c-44b5-a7cf-a77ef01735b1",
   "metadata": {},
   "outputs": [
    {
     "data": {
      "text/html": [
       "<div>\n",
       "<style scoped>\n",
       "    .dataframe tbody tr th:only-of-type {\n",
       "        vertical-align: middle;\n",
       "    }\n",
       "\n",
       "    .dataframe tbody tr th {\n",
       "        vertical-align: top;\n",
       "    }\n",
       "\n",
       "    .dataframe thead th {\n",
       "        text-align: right;\n",
       "    }\n",
       "</style>\n",
       "<table border=\"1\" class=\"dataframe\">\n",
       "  <thead>\n",
       "    <tr style=\"text-align: right;\">\n",
       "      <th></th>\n",
       "      <th>Education Expenses.3</th>\n",
       "      <th>Farm Expenses.3</th>\n",
       "    </tr>\n",
       "    <tr>\n",
       "      <th>STATUS</th>\n",
       "      <th></th>\n",
       "      <th></th>\n",
       "    </tr>\n",
       "  </thead>\n",
       "  <tbody>\n",
       "    <tr>\n",
       "      <th>RTV</th>\n",
       "      <td>124.902493</td>\n",
       "      <td>7.124793</td>\n",
       "    </tr>\n",
       "  </tbody>\n",
       "</table>\n",
       "</div>"
      ],
      "text/plain": [
       "        Education Expenses.3  Farm Expenses.3\n",
       "STATUS                                       \n",
       "RTV               124.902493         7.124793"
      ]
     },
     "execution_count": 28,
     "metadata": {},
     "output_type": "execute_result"
    }
   ],
   "source": [
    "year_5.groupby('STATUS')[\n",
    "    [\"Education Expenses.3\",\"Farm Expenses.3\"]\n",
    "].mean()"
   ]
  },
  {
   "cell_type": "code",
   "execution_count": 29,
   "id": "286e7d2b-5fc2-470d-aec7-1e115be5241e",
   "metadata": {},
   "outputs": [
    {
     "data": {
      "text/plain": [
       "(376, 7222)"
      ]
     },
     "execution_count": 29,
     "metadata": {},
     "output_type": "execute_result"
    }
   ],
   "source": [
    "year_five_control = year_2[(year_2[\"pre_district\"] == \"Kanungu\") & (year_2[\"STATUS\"] == \"PEER\")]\n",
    "year_five_control.shape"
   ]
  },
  {
   "cell_type": "code",
   "execution_count": 30,
   "id": "0122b8fd-2d5b-434e-b4c4-1ddea1c3e94f",
   "metadata": {},
   "outputs": [
    {
     "data": {
      "text/plain": [
       "3046"
      ]
     },
     "execution_count": 30,
     "metadata": {},
     "output_type": "execute_result"
    }
   ],
   "source": [
    "year_5.shape[0] + year_five_control.shape[0]"
   ]
  },
  {
   "cell_type": "code",
   "execution_count": 31,
   "id": "d41c5536-cf25-48d5-af1d-764000529397",
   "metadata": {},
   "outputs": [],
   "source": [
    "year_5 = pd.concat([year_5, year_five_control])"
   ]
  },
  {
   "cell_type": "code",
   "execution_count": 32,
   "id": "a291fa03-6770-4aac-af5d-47a120ace016",
   "metadata": {},
   "outputs": [
    {
     "data": {
      "text/plain": [
       "STATUS\n",
       "RTV     2670\n",
       "PEER     376\n",
       "Name: count, dtype: int64"
      ]
     },
     "execution_count": 32,
     "metadata": {},
     "output_type": "execute_result"
    }
   ],
   "source": [
    "year_5['STATUS'].value_counts()"
   ]
  },
  {
   "cell_type": "code",
   "execution_count": null,
   "id": "a841cc0c-a530-4850-a29c-4573f652c0ba",
   "metadata": {},
   "outputs": [],
   "source": []
  },
  {
   "cell_type": "code",
   "execution_count": 33,
   "id": "5378b291-cc16-408d-8909-e3f4a0a62db5",
   "metadata": {},
   "outputs": [
    {
     "data": {
      "text/html": [
       "<div>\n",
       "<style scoped>\n",
       "    .dataframe tbody tr th:only-of-type {\n",
       "        vertical-align: middle;\n",
       "    }\n",
       "\n",
       "    .dataframe tbody tr th {\n",
       "        vertical-align: top;\n",
       "    }\n",
       "\n",
       "    .dataframe thead th {\n",
       "        text-align: right;\n",
       "    }\n",
       "</style>\n",
       "<table border=\"1\" class=\"dataframe\">\n",
       "  <thead>\n",
       "    <tr style=\"text-align: right;\">\n",
       "      <th>STATUS</th>\n",
       "      <th>PEER</th>\n",
       "      <th>RTV</th>\n",
       "    </tr>\n",
       "  </thead>\n",
       "  <tbody>\n",
       "    <tr>\n",
       "      <th>Total Expenses.3</th>\n",
       "      <td>569.902126</td>\n",
       "      <td>727.146428</td>\n",
       "    </tr>\n",
       "    <tr>\n",
       "      <th>Education Expenses.3</th>\n",
       "      <td>92.890165</td>\n",
       "      <td>124.902493</td>\n",
       "    </tr>\n",
       "    <tr>\n",
       "      <th>Farm Expenses.3</th>\n",
       "      <td>5.173723</td>\n",
       "      <td>7.124793</td>\n",
       "    </tr>\n",
       "    <tr>\n",
       "      <th>consumption_own_production.3</th>\n",
       "      <td>176.943755</td>\n",
       "      <td>270.266323</td>\n",
       "    </tr>\n",
       "    <tr>\n",
       "      <th>Total Food Consumption</th>\n",
       "      <td>394.978002</td>\n",
       "      <td>501.592814</td>\n",
       "    </tr>\n",
       "    <tr>\n",
       "      <th>Total crop_consumption.3</th>\n",
       "      <td>471.838237</td>\n",
       "      <td>595.090326</td>\n",
       "    </tr>\n",
       "  </tbody>\n",
       "</table>\n",
       "</div>"
      ],
      "text/plain": [
       "STATUS                              PEER         RTV\n",
       "Total Expenses.3              569.902126  727.146428\n",
       "Education Expenses.3           92.890165  124.902493\n",
       "Farm Expenses.3                 5.173723    7.124793\n",
       "consumption_own_production.3  176.943755  270.266323\n",
       "Total Food Consumption        394.978002  501.592814\n",
       "Total crop_consumption.3      471.838237  595.090326"
      ]
     },
     "execution_count": 33,
     "metadata": {},
     "output_type": "execute_result"
    }
   ],
   "source": [
    "year_5.groupby('STATUS')[\n",
    "    [\n",
    "        \"Total Expenses.3\", \"Education Expenses.3\", \"Farm Expenses.3\",\n",
    "        \"consumption_own_production.3\",\"Total Food Consumption\",\"Total crop_consumption.3\"\n",
    "    ]\n",
    "].mean().transpose()"
   ]
  },
  {
   "cell_type": "code",
   "execution_count": 34,
   "id": "1b2c1064-66e3-4d05-967a-c54151af38fc",
   "metadata": {},
   "outputs": [
    {
     "data": {
      "text/html": [
       "<div>\n",
       "<style scoped>\n",
       "    .dataframe tbody tr th:only-of-type {\n",
       "        vertical-align: middle;\n",
       "    }\n",
       "\n",
       "    .dataframe tbody tr th {\n",
       "        vertical-align: top;\n",
       "    }\n",
       "\n",
       "    .dataframe thead th {\n",
       "        text-align: right;\n",
       "    }\n",
       "</style>\n",
       "<table border=\"1\" class=\"dataframe\">\n",
       "  <thead>\n",
       "    <tr style=\"text-align: right;\">\n",
       "      <th>STATUS</th>\n",
       "      <th>PEER</th>\n",
       "      <th>RTV</th>\n",
       "    </tr>\n",
       "  </thead>\n",
       "  <tbody>\n",
       "    <tr>\n",
       "      <th>consumption_exp_weekly(ugx).2</th>\n",
       "      <td>218.034247</td>\n",
       "      <td>231.528938</td>\n",
       "    </tr>\n",
       "    <tr>\n",
       "      <th>consumption_exp_monthly.2</th>\n",
       "      <td>48.548732</td>\n",
       "      <td>62.482813</td>\n",
       "    </tr>\n",
       "    <tr>\n",
       "      <th>consumption_exp _annual.2</th>\n",
       "      <td>28.311503</td>\n",
       "      <td>30.930501</td>\n",
       "    </tr>\n",
       "  </tbody>\n",
       "</table>\n",
       "</div>"
      ],
      "text/plain": [
       "STATUS                               PEER         RTV\n",
       "consumption_exp_weekly(ugx).2  218.034247  231.528938\n",
       "consumption_exp_monthly.2       48.548732   62.482813\n",
       "consumption_exp _annual.2       28.311503   30.930501"
      ]
     },
     "execution_count": 34,
     "metadata": {},
     "output_type": "execute_result"
    }
   ],
   "source": [
    "year_5.groupby('STATUS')[[\"consumption_exp_weekly(ugx).2\",\n",
    "                          \"consumption_exp_monthly.2\",\n",
    "                          \"consumption_exp _annual.2\"]].mean().transpose()"
   ]
  },
  {
   "cell_type": "code",
   "execution_count": 45,
   "id": "4d17287f-5f3c-4338-9064-cb6bed6b0e96",
   "metadata": {},
   "outputs": [
    {
     "name": "stdout",
     "output_type": "stream",
     "text": [
      "Outcome: Total Expenses.3\n",
      "T-statistic: nan, P-value: nan\n",
      "The treatment effect on Total Expenses.3 is not statistically significant.\n",
      "\n",
      "Outcome: Education Expenses.3\n",
      "T-statistic: 4.664313066619557, P-value: 3.2299320271733097e-06\n",
      "The treatment effect on Education Expenses.3 is statistically significant.\n",
      "\n",
      "Outcome: Farm Expenses.3\n",
      "T-statistic: 4.050625688604819, P-value: 5.235637865535231e-05\n",
      "The treatment effect on Farm Expenses.3 is statistically significant.\n",
      "\n",
      "Outcome: consumption_own_production.3\n",
      "T-statistic: nan, P-value: nan\n",
      "The treatment effect on consumption_own_production.3 is not statistically significant.\n",
      "\n",
      "Outcome: Total Food Consumption\n",
      "T-statistic: 7.471092663054689, P-value: 1.0333333553732525e-13\n",
      "The treatment effect on Total Food Consumption is statistically significant.\n",
      "\n",
      "Outcome: Total crop_consumption.3\n",
      "T-statistic: nan, P-value: nan\n",
      "The treatment effect on Total crop_consumption.3 is not statistically significant.\n",
      "\n",
      "Outcome: consumption_exp_weekly(ugx).2\n",
      "T-statistic: 1.7044158306489448, P-value: 0.0884054780221476\n",
      "The treatment effect on consumption_exp_weekly(ugx).2 is not statistically significant.\n",
      "\n",
      "Outcome: consumption_exp_monthly.2\n",
      "T-statistic: 6.381284228157196, P-value: 2.0231338333223023e-10\n",
      "The treatment effect on consumption_exp_monthly.2 is statistically significant.\n",
      "\n",
      "Outcome: consumption_exp _annual.2\n",
      "T-statistic: 3.2551339243566497, P-value: 0.0011458008743700484\n",
      "The treatment effect on consumption_exp _annual.2 is statistically significant.\n",
      "\n"
     ]
    }
   ],
   "source": [
    "# Loop through each outcome variable\n",
    "for outcome in outcome_vars:\n",
    "    treated = year_5[year_5['STATUS'] == 'RTV'][outcome]\n",
    "    control = year_5[year_5['STATUS'] == 'PEER'][outcome]\n",
    "    \n",
    "    # Perform the t-test\n",
    "    t_stat, p_value = stats.ttest_ind(treated, control)\n",
    "    \n",
    "    print(f\"Outcome: {outcome}\")\n",
    "    print(f\"T-statistic: {t_stat}, P-value: {p_value}\")\n",
    "    \n",
    "    if p_value < 0.05:\n",
    "        print(f\"The treatment effect on {outcome} is statistically significant.\\n\")\n",
    "    else:\n",
    "        print(f\"The treatment effect on {outcome} is not statistically significant.\\n\")\n"
   ]
  },
  {
   "cell_type": "code",
   "execution_count": 46,
   "id": "dd0431c2-291f-426b-9690-467f5bad93c7",
   "metadata": {},
   "outputs": [
    {
     "name": "stdout",
     "output_type": "stream",
     "text": [
      "Outcome: cereals_week\n",
      "T-statistic: -0.062374495014457944, P-value: 0.9502687005466026\n",
      "The treatment effect on cereals_week is not statistically significant.\n",
      "\n",
      "Outcome: tubers_week\n",
      "T-statistic: -1.9515774200055795, P-value: 0.0510799883217535\n",
      "The treatment effect on tubers_week is not statistically significant.\n",
      "\n",
      "Outcome: pulses_week\n",
      "T-statistic: -0.7820492061364289, P-value: 0.4342464822405543\n",
      "The treatment effect on pulses_week is not statistically significant.\n",
      "\n",
      "Outcome: milk_week\n",
      "T-statistic: 5.704386082987536, P-value: 1.2796359375657346e-08\n",
      "The treatment effect on milk_week is statistically significant.\n",
      "\n",
      "Outcome: vegetables_week\n",
      "T-statistic: -31.22236954033585, P-value: 6.7512685757483325e-186\n",
      "The treatment effect on vegetables_week is statistically significant.\n",
      "\n",
      "Outcome: fruits_week\n",
      "T-statistic: 0.5664156490734249, P-value: 0.5711530158273572\n",
      "The treatment effect on fruits_week is not statistically significant.\n",
      "\n",
      "Outcome: meat_poultry_offals\n",
      "T-statistic: 4.885365214648341, P-value: 1.0857199456037774e-06\n",
      "The treatment effect on meat_poultry_offals is statistically significant.\n",
      "\n",
      "Outcome: eggs\n",
      "T-statistic: 4.74800899486851, P-value: 2.1491938647203396e-06\n",
      "The treatment effect on eggs is statistically significant.\n",
      "\n",
      "Outcome: fish_week\n",
      "T-statistic: 2.7727755115729056, P-value: 0.005591883625402657\n",
      "The treatment effect on fish_week is statistically significant.\n",
      "\n",
      "Outcome: sugar_week\n",
      "T-statistic: 9.043098399459565, P-value: 2.646966764215737e-19\n",
      "The treatment effect on sugar_week is statistically significant.\n",
      "\n",
      "Outcome: fat_oils_week\n",
      "T-statistic: -0.4379492275845129, P-value: 0.6614541627468797\n",
      "The treatment effect on fat_oils_week is not statistically significant.\n",
      "\n",
      "Outcome: misc_week\n",
      "T-statistic: 1.0423314014237852, P-value: 0.2973408323972501\n",
      "The treatment effect on misc_week is not statistically significant.\n",
      "\n",
      "Outcome: snacks_week\n",
      "T-statistic: 2.772887940031254, P-value: 0.005589957074609155\n",
      "The treatment effect on snacks_week is statistically significant.\n",
      "\n",
      "Outcome: alcohol_week\n",
      "T-statistic: -1.296640632264665, P-value: 0.194853147162864\n",
      "The treatment effect on alcohol_week is not statistically significant.\n",
      "\n"
     ]
    }
   ],
   "source": [
    "# Loop through each outcome variable\n",
    "for outcome in expenditure_items_columns:\n",
    "    treated = year_5[year_5['STATUS'] == 'RTV'][outcome]\n",
    "    control = year_5[year_5['STATUS'] == 'PEER'][outcome]\n",
    "    \n",
    "    # Perform the t-test\n",
    "    t_stat, p_value = stats.ttest_ind(treated, control)\n",
    "    \n",
    "    print(f\"Outcome: {outcome}\")\n",
    "    print(f\"T-statistic: {t_stat}, P-value: {p_value}\")\n",
    "    \n",
    "    if p_value < 0.05:\n",
    "        print(f\"The treatment effect on {outcome} is statistically significant.\\n\")\n",
    "    else:\n",
    "        print(f\"The treatment effect on {outcome} is not statistically significant.\\n\")\n"
   ]
  },
  {
   "cell_type": "markdown",
   "id": "59feb067-fd56-4363-80eb-7ca98d498609",
   "metadata": {},
   "source": [
    "## Expenditure Items"
   ]
  },
  {
   "cell_type": "code",
   "execution_count": 201,
   "id": "9caa371c-a060-44b0-96e0-ab82be318f66",
   "metadata": {
    "scrolled": true
   },
   "outputs": [
    {
     "data": {
      "text/html": [
       "<div>\n",
       "<style scoped>\n",
       "    .dataframe tbody tr th:only-of-type {\n",
       "        vertical-align: middle;\n",
       "    }\n",
       "\n",
       "    .dataframe tbody tr th {\n",
       "        vertical-align: top;\n",
       "    }\n",
       "\n",
       "    .dataframe thead th {\n",
       "        text-align: right;\n",
       "    }\n",
       "</style>\n",
       "<table border=\"1\" class=\"dataframe\">\n",
       "  <thead>\n",
       "    <tr style=\"text-align: right;\">\n",
       "      <th>STATUS</th>\n",
       "      <th>PEER</th>\n",
       "      <th>RTV</th>\n",
       "    </tr>\n",
       "  </thead>\n",
       "  <tbody>\n",
       "    <tr>\n",
       "      <th>cereals_week</th>\n",
       "      <td>0.906030</td>\n",
       "      <td>0.902558</td>\n",
       "    </tr>\n",
       "    <tr>\n",
       "      <th>tubers_week</th>\n",
       "      <td>0.352098</td>\n",
       "      <td>0.277277</td>\n",
       "    </tr>\n",
       "    <tr>\n",
       "      <th>pulses_week</th>\n",
       "      <td>0.446180</td>\n",
       "      <td>0.412324</td>\n",
       "    </tr>\n",
       "    <tr>\n",
       "      <th>milk_week</th>\n",
       "      <td>0.057568</td>\n",
       "      <td>0.198612</td>\n",
       "    </tr>\n",
       "    <tr>\n",
       "      <th>vegetables_week</th>\n",
       "      <td>0.578620</td>\n",
       "      <td>0.095626</td>\n",
       "    </tr>\n",
       "    <tr>\n",
       "      <th>fruits_week</th>\n",
       "      <td>0.081333</td>\n",
       "      <td>0.090785</td>\n",
       "    </tr>\n",
       "    <tr>\n",
       "      <th>meat_poultry_offals</th>\n",
       "      <td>0.500402</td>\n",
       "      <td>0.829198</td>\n",
       "    </tr>\n",
       "    <tr>\n",
       "      <th>eggs</th>\n",
       "      <td>0.023362</td>\n",
       "      <td>0.092117</td>\n",
       "    </tr>\n",
       "    <tr>\n",
       "      <th>fish_week</th>\n",
       "      <td>0.116809</td>\n",
       "      <td>0.216361</td>\n",
       "    </tr>\n",
       "    <tr>\n",
       "      <th>sugar_week</th>\n",
       "      <td>0.244923</td>\n",
       "      <td>0.442689</td>\n",
       "    </tr>\n",
       "    <tr>\n",
       "      <th>fat_oils_week</th>\n",
       "      <td>0.160821</td>\n",
       "      <td>0.153942</td>\n",
       "    </tr>\n",
       "    <tr>\n",
       "      <th>misc_week</th>\n",
       "      <td>0.663242</td>\n",
       "      <td>0.683151</td>\n",
       "    </tr>\n",
       "    <tr>\n",
       "      <th>snacks_week</th>\n",
       "      <td>0.030572</td>\n",
       "      <td>0.056001</td>\n",
       "    </tr>\n",
       "  </tbody>\n",
       "</table>\n",
       "</div>"
      ],
      "text/plain": [
       "STATUS                   PEER       RTV\n",
       "cereals_week         0.906030  0.902558\n",
       "tubers_week          0.352098  0.277277\n",
       "pulses_week          0.446180  0.412324\n",
       "milk_week            0.057568  0.198612\n",
       "vegetables_week      0.578620  0.095626\n",
       "fruits_week          0.081333  0.090785\n",
       "meat_poultry_offals  0.500402  0.829198\n",
       "eggs                 0.023362  0.092117\n",
       "fish_week            0.116809  0.216361\n",
       "sugar_week           0.244923  0.442689\n",
       "fat_oils_week        0.160821  0.153942\n",
       "misc_week            0.663242  0.683151\n",
       "snacks_week          0.030572  0.056001"
      ]
     },
     "execution_count": 201,
     "metadata": {},
     "output_type": "execute_result"
    }
   ],
   "source": [
    "expenditure_items_columns = [\n",
    "    'cereals_week',\n",
    "    'tubers_week',\n",
    "    'pulses_week',\n",
    "    'milk_week',\n",
    "    'vegetables_week',\n",
    "    'fruits_week',\n",
    "    'meat_poultry_offals',\n",
    "    'eggs',\n",
    "    'fish_week',\n",
    "    'sugar_week',\n",
    "    'fat_oils_week',\n",
    "    'misc_week',\n",
    "    'snacks_week',\n",
    "]\n",
    "\n",
    "result_five = (year_5.groupby('STATUS')[expenditure_items_columns]\n",
    "          .mean() * (inflation_adjustment / 100) / const_rate_adjustment).transpose()\n",
    "result_five"
   ]
  },
  {
   "cell_type": "code",
   "execution_count": 37,
   "id": "e0189ad2-1c07-497a-b43c-7d0e3bfae534",
   "metadata": {},
   "outputs": [
    {
     "name": "stdout",
     "output_type": "stream",
     "text": [
      "Outcome: cereals_week\n",
      "T-statistic: -0.062374495014457944, P-value: 0.9502687005466026\n",
      "The treatment effect on cereals_week is not statistically significant.\n",
      "\n",
      "Outcome: tubers_week\n",
      "T-statistic: -1.9515774200055795, P-value: 0.0510799883217535\n",
      "The treatment effect on tubers_week is not statistically significant.\n",
      "\n",
      "Outcome: pulses_week\n",
      "T-statistic: -0.7820492061364289, P-value: 0.4342464822405543\n",
      "The treatment effect on pulses_week is not statistically significant.\n",
      "\n",
      "Outcome: milk_week\n",
      "T-statistic: 5.704386082987536, P-value: 1.2796359375657346e-08\n",
      "The treatment effect on milk_week is statistically significant.\n",
      "\n",
      "Outcome: vegetables_week\n",
      "T-statistic: -31.22236954033585, P-value: 6.7512685757483325e-186\n",
      "The treatment effect on vegetables_week is statistically significant.\n",
      "\n",
      "Outcome: fruits_week\n",
      "T-statistic: 0.5664156490734249, P-value: 0.5711530158273572\n",
      "The treatment effect on fruits_week is not statistically significant.\n",
      "\n",
      "Outcome: meat_poultry_offals\n",
      "T-statistic: 4.885365214648341, P-value: 1.0857199456037774e-06\n",
      "The treatment effect on meat_poultry_offals is statistically significant.\n",
      "\n",
      "Outcome: eggs\n",
      "T-statistic: 4.74800899486851, P-value: 2.1491938647203396e-06\n",
      "The treatment effect on eggs is statistically significant.\n",
      "\n",
      "Outcome: fish_week\n",
      "T-statistic: 2.7727755115729056, P-value: 0.005591883625402657\n",
      "The treatment effect on fish_week is statistically significant.\n",
      "\n",
      "Outcome: sugar_week\n",
      "T-statistic: 9.043098399459565, P-value: 2.646966764215737e-19\n",
      "The treatment effect on sugar_week is statistically significant.\n",
      "\n",
      "Outcome: fat_oils_week\n",
      "T-statistic: -0.4379492275845129, P-value: 0.6614541627468797\n",
      "The treatment effect on fat_oils_week is not statistically significant.\n",
      "\n",
      "Outcome: misc_week\n",
      "T-statistic: 1.0423314014237852, P-value: 0.2973408323972501\n",
      "The treatment effect on misc_week is not statistically significant.\n",
      "\n",
      "Outcome: snacks_week\n",
      "T-statistic: 2.772887940031254, P-value: 0.005589957074609155\n",
      "The treatment effect on snacks_week is statistically significant.\n",
      "\n"
     ]
    }
   ],
   "source": [
    "# Loop through each outcome variable\n",
    "for outcome in expenditure_items_columns:\n",
    "    treated = year_5[year_5['STATUS'] == 'RTV'][outcome]\n",
    "    control = year_5[year_5['STATUS'] == 'PEER'][outcome]\n",
    "    \n",
    "    # Perform the t-test\n",
    "    t_stat, p_value = stats.ttest_ind(treated, control)\n",
    "    \n",
    "    print(f\"Outcome: {outcome}\")\n",
    "    print(f\"T-statistic: {t_stat}, P-value: {p_value}\")\n",
    "    \n",
    "    if p_value < 0.05:\n",
    "        print(f\"The treatment effect on {outcome} is statistically significant.\\n\")\n",
    "    else:\n",
    "        print(f\"The treatment effect on {outcome} is not statistically significant.\\n\")\n"
   ]
  },
  {
   "cell_type": "code",
   "execution_count": null,
   "id": "4de8aea5-17b3-47db-b32b-4943e10676d0",
   "metadata": {},
   "outputs": [],
   "source": []
  },
  {
   "cell_type": "code",
   "execution_count": 202,
   "id": "fe7a54f5-7bb1-4210-9995-fc3d4b9585e2",
   "metadata": {},
   "outputs": [
    {
     "data": {
      "text/html": [
       "<div>\n",
       "<style scoped>\n",
       "    .dataframe tbody tr th:only-of-type {\n",
       "        vertical-align: middle;\n",
       "    }\n",
       "\n",
       "    .dataframe tbody tr th {\n",
       "        vertical-align: top;\n",
       "    }\n",
       "\n",
       "    .dataframe thead th {\n",
       "        text-align: right;\n",
       "    }\n",
       "</style>\n",
       "<table border=\"1\" class=\"dataframe\">\n",
       "  <thead>\n",
       "    <tr style=\"text-align: right;\">\n",
       "      <th>STATUS</th>\n",
       "      <th>PEER</th>\n",
       "      <th>RTV</th>\n",
       "    </tr>\n",
       "  </thead>\n",
       "  <tbody>\n",
       "    <tr>\n",
       "      <th>alcohol_week</th>\n",
       "      <td>0.244865</td>\n",
       "      <td>0.218189</td>\n",
       "    </tr>\n",
       "    <tr>\n",
       "      <th>tobacco_week</th>\n",
       "      <td>0.004326</td>\n",
       "      <td>0.003331</td>\n",
       "    </tr>\n",
       "    <tr>\n",
       "      <th>consump_food_gift_week</th>\n",
       "      <td>0.074988</td>\n",
       "      <td>0.084546</td>\n",
       "    </tr>\n",
       "    <tr>\n",
       "      <th>consump_inkind_week</th>\n",
       "      <td>0.056241</td>\n",
       "      <td>0.066813</td>\n",
       "    </tr>\n",
       "  </tbody>\n",
       "</table>\n",
       "</div>"
      ],
      "text/plain": [
       "STATUS                      PEER       RTV\n",
       "alcohol_week            0.244865  0.218189\n",
       "tobacco_week            0.004326  0.003331\n",
       "consump_food_gift_week  0.074988  0.084546\n",
       "consump_inkind_week     0.056241  0.066813"
      ]
     },
     "execution_count": 202,
     "metadata": {},
     "output_type": "execute_result"
    }
   ],
   "source": [
    "(year_5.groupby('STATUS')[['alcohol_week',\n",
    "                        'tobacco_week', \n",
    "                        'consump_food_gift_week', \n",
    "                        'consump_inkind_week'\n",
    "                          ]].mean() * (inflation_adjustment/100) /const_rate_adjustment).transpose()"
   ]
  },
  {
   "cell_type": "code",
   "execution_count": 203,
   "id": "cf73f117-ff41-4316-9c1c-0b672be70a6e",
   "metadata": {},
   "outputs": [],
   "source": [
    "# Create a copy of the data including the STATUS column\n",
    "year_5_filtered = year_5[['STATUS'] + expenditure_items_columns].copy()\n",
    "\n",
    "# Replace zeros with NaN only for the expenditure columns, not STATUS\n",
    "year_5_filtered[expenditure_items_columns] = year_5_filtered[expenditure_items_columns].replace(0, np.nan)"
   ]
  },
  {
   "cell_type": "code",
   "execution_count": 148,
   "id": "9d9abda8-c54c-4acc-bd66-1f565c800739",
   "metadata": {},
   "outputs": [],
   "source": [
    "# Filtering out the zeros"
   ]
  },
  {
   "cell_type": "code",
   "execution_count": 204,
   "id": "625de2ce-bd09-4596-9a70-3b33e521b16b",
   "metadata": {},
   "outputs": [
    {
     "data": {
      "text/html": [
       "<div>\n",
       "<style scoped>\n",
       "    .dataframe tbody tr th:only-of-type {\n",
       "        vertical-align: middle;\n",
       "    }\n",
       "\n",
       "    .dataframe tbody tr th {\n",
       "        vertical-align: top;\n",
       "    }\n",
       "\n",
       "    .dataframe thead th {\n",
       "        text-align: right;\n",
       "    }\n",
       "</style>\n",
       "<table border=\"1\" class=\"dataframe\">\n",
       "  <thead>\n",
       "    <tr style=\"text-align: right;\">\n",
       "      <th>STATUS</th>\n",
       "      <th>PEER</th>\n",
       "      <th>RTV</th>\n",
       "    </tr>\n",
       "  </thead>\n",
       "  <tbody>\n",
       "    <tr>\n",
       "      <th>cereals_week</th>\n",
       "      <td>1.413558</td>\n",
       "      <td>1.565842</td>\n",
       "    </tr>\n",
       "    <tr>\n",
       "      <th>tubers_week</th>\n",
       "      <td>1.614500</td>\n",
       "      <td>1.322015</td>\n",
       "    </tr>\n",
       "    <tr>\n",
       "      <th>pulses_week</th>\n",
       "      <td>1.446238</td>\n",
       "      <td>1.446657</td>\n",
       "    </tr>\n",
       "    <tr>\n",
       "      <th>milk_week</th>\n",
       "      <td>0.746397</td>\n",
       "      <td>0.908037</td>\n",
       "    </tr>\n",
       "    <tr>\n",
       "      <th>vegetables_week</th>\n",
       "      <td>0.929749</td>\n",
       "      <td>0.526436</td>\n",
       "    </tr>\n",
       "    <tr>\n",
       "      <th>fruits_week</th>\n",
       "      <td>0.650667</td>\n",
       "      <td>0.824473</td>\n",
       "    </tr>\n",
       "    <tr>\n",
       "      <th>meat_poultry_offals</th>\n",
       "      <td>2.138081</td>\n",
       "      <td>2.360297</td>\n",
       "    </tr>\n",
       "    <tr>\n",
       "      <th>eggs</th>\n",
       "      <td>0.488000</td>\n",
       "      <td>0.681307</td>\n",
       "    </tr>\n",
       "    <tr>\n",
       "      <th>fish_week</th>\n",
       "      <td>1.996364</td>\n",
       "      <td>2.093056</td>\n",
       "    </tr>\n",
       "    <tr>\n",
       "      <th>sugar_week</th>\n",
       "      <td>0.618061</td>\n",
       "      <td>0.717220</td>\n",
       "    </tr>\n",
       "    <tr>\n",
       "      <th>fat_oils_week</th>\n",
       "      <td>0.587074</td>\n",
       "      <td>0.579727</td>\n",
       "    </tr>\n",
       "    <tr>\n",
       "      <th>misc_week</th>\n",
       "      <td>0.675823</td>\n",
       "      <td>0.701544</td>\n",
       "    </tr>\n",
       "    <tr>\n",
       "      <th>snacks_week</th>\n",
       "      <td>0.410540</td>\n",
       "      <td>0.468725</td>\n",
       "    </tr>\n",
       "  </tbody>\n",
       "</table>\n",
       "</div>"
      ],
      "text/plain": [
       "STATUS                   PEER       RTV\n",
       "cereals_week         1.413558  1.565842\n",
       "tubers_week          1.614500  1.322015\n",
       "pulses_week          1.446238  1.446657\n",
       "milk_week            0.746397  0.908037\n",
       "vegetables_week      0.929749  0.526436\n",
       "fruits_week          0.650667  0.824473\n",
       "meat_poultry_offals  2.138081  2.360297\n",
       "eggs                 0.488000  0.681307\n",
       "fish_week            1.996364  2.093056\n",
       "sugar_week           0.618061  0.717220\n",
       "fat_oils_week        0.587074  0.579727\n",
       "misc_week            0.675823  0.701544\n",
       "snacks_week          0.410540  0.468725"
      ]
     },
     "execution_count": 204,
     "metadata": {},
     "output_type": "execute_result"
    }
   ],
   "source": [
    "(year_5_filtered.groupby('STATUS')[expenditure_items_columns]\n",
    "          .mean() * (inflation_adjustment / 100) / const_rate_adjustment).transpose()"
   ]
  },
  {
   "cell_type": "code",
   "execution_count": null,
   "id": "61e4b056-8262-43c0-aaed-a892ecdec082",
   "metadata": {},
   "outputs": [],
   "source": []
  }
 ],
 "metadata": {
  "kernelspec": {
   "display_name": "Python 3 (ipykernel)",
   "language": "python",
   "name": "python3"
  },
  "language_info": {
   "codemirror_mode": {
    "name": "ipython",
    "version": 3
   },
   "file_extension": ".py",
   "mimetype": "text/x-python",
   "name": "python",
   "nbconvert_exporter": "python",
   "pygments_lexer": "ipython3",
   "version": "3.10.9"
  }
 },
 "nbformat": 4,
 "nbformat_minor": 5
}
